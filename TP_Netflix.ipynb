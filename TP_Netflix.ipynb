{
  "nbformat": 4,
  "nbformat_minor": 0,
  "metadata": {
    "colab": {
      "provenance": [],
      "collapsed_sections": [
        "jq_Klnz-iEOY",
        "8cXqRhHbigIu",
        "Qd5ALE-MAPzn",
        "odrZxb7Hi84R",
        "257yDV4OPpsI",
        "eZbjVn0oWn_p",
        "IEeieq775_uN",
        "dmyAx4_Y6FzD",
        "JtoHMx6R4zkM"
      ],
      "include_colab_link": true
    },
    "kernelspec": {
      "name": "python3",
      "display_name": "Python 3"
    },
    "language_info": {
      "name": "python"
    }
  },
  "cells": [
    {
      "cell_type": "markdown",
      "metadata": {
        "id": "view-in-github",
        "colab_type": "text"
      },
      "source": [
        "<a href=\"https://colab.research.google.com/github/dangoldmann/TP-Netflix/blob/main/TP_Netflix.ipynb\" target=\"_parent\"><img src=\"https://colab.research.google.com/assets/colab-badge.svg\" alt=\"Open In Colab\"/></a>"
      ]
    },
    {
      "cell_type": "markdown",
      "source": [
        "# **Trabajo Práctico Netflix**\n",
        "### *Septiembre 2022*\n",
        "\n",
        "Descargar el archivo que contiene el historial de Netflix. Pueden descargar el suyo propio entrando a este link. A resolver de a grupos de 2 o 3 integrantes.\n",
        "\n",
        "Ignorar los siguientes dispositivos: 'Sony PS4', 'Netflix Windows App - Cadmium Windows Mobile', 'Apple iPhone 6s', 'Apple iPhone 7 Plus (CDMA)', 'Chrome PC (Cadmium)', 'Samsung 2015 NT14M DTV Smart TV', 'iPhone 5S GSM', 'Google Chromecast V3 Streaming Stick'.\n",
        "\n",
        "- Contabilizar el dispositivo con el que más títulos se reprodujeron.\n",
        "- Encontrar la película con más ocurrencias y la película con mayor duración total.\n",
        "- Generar un TOP “N” de series vistas y graficar.\n",
        " - Por tiempo visto\n",
        " - Por ocurrencias\n",
        "- Visualizar una semana de reproducciones genérica, en función a las reproducciones por día y por horario de todos los años.\n",
        "Contabilizar la cantidad de títulos vistos por año, graficar su variación a través de los años.\n",
        "Total de días de todos los títulos reproducidos.\n",
        "\n",
        "### **Bonus**\n",
        "\n",
        "- Identificar cuál fue la película de Star Wars más veces vista por duración.\n",
        "- Utilizando la API de IMDb (u otra):\n",
        " - Mostrar el póster de las películas más vistas, y de las series.\n",
        " - Encontrar el género de series y el de películas más ocurrente.\n",
        "- Encontrar la serie que más rápido se terminó de ver.\n",
        "\n",
        "\n",
        "Formato de entrega: Link a GitHub conteniendo el Ipython Notebook con su output guardado. No se corrigen Notebooks sin output generado ni entregas que no sean links a GitHub directamente. Se va a evaluar formato del Notebook, celdas de texto, prolijidad del código y de los resultados generados.\n",
        "\n",
        "\n"
      ],
      "metadata": {
        "id": "2EJ_H0aMVXYt"
      }
    },
    {
      "cell_type": "markdown",
      "source": [
        "#### Importando librerías"
      ],
      "metadata": {
        "id": "_VV7dUUliKMF"
      }
    },
    {
      "cell_type": "code",
      "source": [
        "import numpy as np\n",
        "import pandas as pd\n",
        "import matplotlib.pyplot as plt\n",
        "from importlib import reload\n",
        "from datetime import datetime as dt\n",
        "import seaborn as sns"
      ],
      "metadata": {
        "id": "nXkYU7nVV9Oa"
      },
      "execution_count": 1,
      "outputs": []
    },
    {
      "cell_type": "markdown",
      "source": [
        "#### Guardando el dataframe"
      ],
      "metadata": {
        "id": "aYmzmhcZX2kD"
      }
    },
    {
      "cell_type": "code",
      "source": [
        "df = pd.read_csv(\"NetflixHistory.csv\")"
      ],
      "metadata": {
        "id": "tNuTMhw5V_VQ"
      },
      "execution_count": 2,
      "outputs": []
    },
    {
      "cell_type": "markdown",
      "source": [
        "#### Eliminando filas no deseadas"
      ],
      "metadata": {
        "id": "jq_Klnz-iEOY"
      }
    },
    {
      "cell_type": "markdown",
      "source": [
        "Eliminando las visualizaciones de los dispositivos no deseados"
      ],
      "metadata": {
        "id": "gJQZBjVyX_C4"
      }
    },
    {
      "cell_type": "code",
      "source": [
        "dispositivosIgnorados = [\"Sony PS4\", \"Netflix Windows App - Cadmium Windows Mobile\", \"Apple iPhone 6s\", \"Apple iPhone 7 Plus (CDMA)\", \"Chrome PC (Cadmium)\", \"Samsung 2015 NT14M DTV Smart TV\", \"iPhone 5S GSM\", \"Google Chromecast V3 Streaming Stick\"]\n",
        "\n",
        "for i in dispositivosIgnorados:\n",
        "  df = df[df[\"Device Type\"] != i]"
      ],
      "metadata": {
        "id": "Pbdtq1td9dP4"
      },
      "execution_count": 3,
      "outputs": []
    },
    {
      "cell_type": "markdown",
      "source": [
        "Eliminando los hooks, trailers y recaps"
      ],
      "metadata": {
        "id": "1VIrDVGDeujT"
      }
    },
    {
      "cell_type": "code",
      "source": [
        "video_types = df.groupby([\"Supplemental Video Type\"]).size()\n",
        "video_types"
      ],
      "metadata": {
        "colab": {
          "base_uri": "https://localhost:8080/"
        },
        "id": "buqz9hK8fhAi",
        "outputId": "caf9afa5-b5dc-464c-b6a8-9a8f6a724144"
      },
      "execution_count": 4,
      "outputs": [
        {
          "output_type": "execute_result",
          "data": {
            "text/plain": [
              "Supplemental Video Type\n",
              "HOOK              49\n",
              "RECAP              4\n",
              "TEASER_TRAILER     3\n",
              "TRAILER           34\n",
              "dtype: int64"
            ]
          },
          "metadata": {},
          "execution_count": 4
        }
      ]
    },
    {
      "cell_type": "code",
      "source": [
        "videoTypesIgnorados = [\"HOOK\", \"RECAP\", \"TEASER_TRAILER\", \"TRAILER\"]\n",
        "\n",
        "for i in videoTypesIgnorados:\n",
        "  df = df[df[\"Supplemental Video Type\"] != i]"
      ],
      "metadata": {
        "id": "p6wX1IiDeyID"
      },
      "execution_count": 5,
      "outputs": []
    },
    {
      "cell_type": "markdown",
      "source": [
        "Eliminando columnas no utilizadas"
      ],
      "metadata": {
        "id": "n6B3_NZFopl2"
      }
    },
    {
      "cell_type": "code",
      "source": [
        "columnasIgnoradas = [\"Supplemental Video Type\", \"Attributes\", \"Country\", \"Profile Name\"]\n",
        "\n",
        "for i in columnasIgnoradas:\n",
        "  df = df.drop(columns = i)"
      ],
      "metadata": {
        "id": "tVDqfJVrokyz"
      },
      "execution_count": 6,
      "outputs": []
    },
    {
      "cell_type": "markdown",
      "source": [
        "#### Modificando las columnas"
      ],
      "metadata": {
        "id": "8cXqRhHbigIu"
      }
    },
    {
      "cell_type": "markdown",
      "source": [
        "Crear una nueva columna que contenga si la visualización corresponde a una película o una serie"
      ],
      "metadata": {
        "id": "oiUDqjheJC6w"
      }
    },
    {
      "cell_type": "code",
      "source": [
        "def defineContentType(input):\n",
        "  if input.count(':') > 1:\n",
        "    return \"Serie\"\n",
        "  else:\n",
        "    return \"Pelicula\""
      ],
      "metadata": {
        "id": "Vf-HXKklVHYi"
      },
      "execution_count": 7,
      "outputs": []
    },
    {
      "cell_type": "code",
      "source": [
        "df[\"Content Type\"] = df[\"Title\"].apply(defineContentType)"
      ],
      "metadata": {
        "id": "GzPR7gMjVXzV"
      },
      "execution_count": 8,
      "outputs": []
    },
    {
      "cell_type": "markdown",
      "source": [
        "Cambiando los valores de las duraciones a segundos"
      ],
      "metadata": {
        "id": "jchiIrsdniNt"
      }
    },
    {
      "cell_type": "code",
      "source": [
        "def changeDurationToSec(input):\n",
        "  try:\n",
        "    horas, minutos, segundos = input.split(':')\n",
        "    return int(horas) * 60 * 60 + int(minutos) * 60 + int(segundos)\n",
        "  except:\n",
        "    return input"
      ],
      "metadata": {
        "id": "XgkMJ4bqnmRp"
      },
      "execution_count": 9,
      "outputs": []
    },
    {
      "cell_type": "code",
      "source": [
        "df[\"Duration\"] = df[\"Duration\"].apply(changeDurationToSec)"
      ],
      "metadata": {
        "id": "mVLeWzIPrY6W"
      },
      "execution_count": 10,
      "outputs": []
    },
    {
      "cell_type": "markdown",
      "source": [
        "#### Contabilizar el dispositivo con el que más títulos se reprodujeron"
      ],
      "metadata": {
        "id": "Qd5ALE-MAPzn"
      }
    },
    {
      "cell_type": "code",
      "source": [
        "dispositivos = df.groupby([\"Device Type\"]).size()\n",
        "max_cant = max(dispositivos)\n",
        "dispositivos = dispositivos.reset_index()"
      ],
      "metadata": {
        "id": "H7HZrc3T60tj"
      },
      "execution_count": 11,
      "outputs": []
    },
    {
      "cell_type": "code",
      "source": [
        "dispositivoMasUtilizado = dispositivos.loc[dispositivos[0]==max_cant]\n",
        "dispositivoMasUtilizado"
      ],
      "metadata": {
        "colab": {
          "base_uri": "https://localhost:8080/",
          "height": 0
        },
        "id": "WQRWBClOBcnQ",
        "outputId": "1d4d41ed-941f-4ee8-f6db-565c6a0e9f33"
      },
      "execution_count": 12,
      "outputs": [
        {
          "output_type": "execute_result",
          "data": {
            "text/plain": [
              "                 Device Type     0\n",
              "1  Apple Apple TV 4 Apple TV  3439"
            ],
            "text/html": [
              "\n",
              "  <div id=\"df-07c887ba-e2db-4784-bc2b-63d6d9c783f5\">\n",
              "    <div class=\"colab-df-container\">\n",
              "      <div>\n",
              "<style scoped>\n",
              "    .dataframe tbody tr th:only-of-type {\n",
              "        vertical-align: middle;\n",
              "    }\n",
              "\n",
              "    .dataframe tbody tr th {\n",
              "        vertical-align: top;\n",
              "    }\n",
              "\n",
              "    .dataframe thead th {\n",
              "        text-align: right;\n",
              "    }\n",
              "</style>\n",
              "<table border=\"1\" class=\"dataframe\">\n",
              "  <thead>\n",
              "    <tr style=\"text-align: right;\">\n",
              "      <th></th>\n",
              "      <th>Device Type</th>\n",
              "      <th>0</th>\n",
              "    </tr>\n",
              "  </thead>\n",
              "  <tbody>\n",
              "    <tr>\n",
              "      <th>1</th>\n",
              "      <td>Apple Apple TV 4 Apple TV</td>\n",
              "      <td>3439</td>\n",
              "    </tr>\n",
              "  </tbody>\n",
              "</table>\n",
              "</div>\n",
              "      <button class=\"colab-df-convert\" onclick=\"convertToInteractive('df-07c887ba-e2db-4784-bc2b-63d6d9c783f5')\"\n",
              "              title=\"Convert this dataframe to an interactive table.\"\n",
              "              style=\"display:none;\">\n",
              "        \n",
              "  <svg xmlns=\"http://www.w3.org/2000/svg\" height=\"24px\"viewBox=\"0 0 24 24\"\n",
              "       width=\"24px\">\n",
              "    <path d=\"M0 0h24v24H0V0z\" fill=\"none\"/>\n",
              "    <path d=\"M18.56 5.44l.94 2.06.94-2.06 2.06-.94-2.06-.94-.94-2.06-.94 2.06-2.06.94zm-11 1L8.5 8.5l.94-2.06 2.06-.94-2.06-.94L8.5 2.5l-.94 2.06-2.06.94zm10 10l.94 2.06.94-2.06 2.06-.94-2.06-.94-.94-2.06-.94 2.06-2.06.94z\"/><path d=\"M17.41 7.96l-1.37-1.37c-.4-.4-.92-.59-1.43-.59-.52 0-1.04.2-1.43.59L10.3 9.45l-7.72 7.72c-.78.78-.78 2.05 0 2.83L4 21.41c.39.39.9.59 1.41.59.51 0 1.02-.2 1.41-.59l7.78-7.78 2.81-2.81c.8-.78.8-2.07 0-2.86zM5.41 20L4 18.59l7.72-7.72 1.47 1.35L5.41 20z\"/>\n",
              "  </svg>\n",
              "      </button>\n",
              "      \n",
              "  <style>\n",
              "    .colab-df-container {\n",
              "      display:flex;\n",
              "      flex-wrap:wrap;\n",
              "      gap: 12px;\n",
              "    }\n",
              "\n",
              "    .colab-df-convert {\n",
              "      background-color: #E8F0FE;\n",
              "      border: none;\n",
              "      border-radius: 50%;\n",
              "      cursor: pointer;\n",
              "      display: none;\n",
              "      fill: #1967D2;\n",
              "      height: 32px;\n",
              "      padding: 0 0 0 0;\n",
              "      width: 32px;\n",
              "    }\n",
              "\n",
              "    .colab-df-convert:hover {\n",
              "      background-color: #E2EBFA;\n",
              "      box-shadow: 0px 1px 2px rgba(60, 64, 67, 0.3), 0px 1px 3px 1px rgba(60, 64, 67, 0.15);\n",
              "      fill: #174EA6;\n",
              "    }\n",
              "\n",
              "    [theme=dark] .colab-df-convert {\n",
              "      background-color: #3B4455;\n",
              "      fill: #D2E3FC;\n",
              "    }\n",
              "\n",
              "    [theme=dark] .colab-df-convert:hover {\n",
              "      background-color: #434B5C;\n",
              "      box-shadow: 0px 1px 3px 1px rgba(0, 0, 0, 0.15);\n",
              "      filter: drop-shadow(0px 1px 2px rgba(0, 0, 0, 0.3));\n",
              "      fill: #FFFFFF;\n",
              "    }\n",
              "  </style>\n",
              "\n",
              "      <script>\n",
              "        const buttonEl =\n",
              "          document.querySelector('#df-07c887ba-e2db-4784-bc2b-63d6d9c783f5 button.colab-df-convert');\n",
              "        buttonEl.style.display =\n",
              "          google.colab.kernel.accessAllowed ? 'block' : 'none';\n",
              "\n",
              "        async function convertToInteractive(key) {\n",
              "          const element = document.querySelector('#df-07c887ba-e2db-4784-bc2b-63d6d9c783f5');\n",
              "          const dataTable =\n",
              "            await google.colab.kernel.invokeFunction('convertToInteractive',\n",
              "                                                     [key], {});\n",
              "          if (!dataTable) return;\n",
              "\n",
              "          const docLinkHtml = 'Like what you see? Visit the ' +\n",
              "            '<a target=\"_blank\" href=https://colab.research.google.com/notebooks/data_table.ipynb>data table notebook</a>'\n",
              "            + ' to learn more about interactive tables.';\n",
              "          element.innerHTML = '';\n",
              "          dataTable['output_type'] = 'display_data';\n",
              "          await google.colab.output.renderOutput(dataTable, element);\n",
              "          const docLink = document.createElement('div');\n",
              "          docLink.innerHTML = docLinkHtml;\n",
              "          element.appendChild(docLink);\n",
              "        }\n",
              "      </script>\n",
              "    </div>\n",
              "  </div>\n",
              "  "
            ]
          },
          "metadata": {},
          "execution_count": 12
        }
      ]
    },
    {
      "cell_type": "markdown",
      "source": [
        "#### Encontrar la película con más ocurrencias y la película con mayor duración total"
      ],
      "metadata": {
        "id": "odrZxb7Hi84R"
      }
    },
    {
      "cell_type": "code",
      "source": [
        "df_peliculas = df[df[\"Content Type\"] == \"Pelicula\"]"
      ],
      "metadata": {
        "id": "WTJtFRnejA32"
      },
      "execution_count": 13,
      "outputs": []
    },
    {
      "cell_type": "markdown",
      "source": [
        "Mayor ocurrencias"
      ],
      "metadata": {
        "id": "es0wkAal0Trs"
      }
    },
    {
      "cell_type": "code",
      "source": [
        "peliculas = df_peliculas.groupby([\"Title\"]).size().reset_index()\n",
        "peliculas = peliculas.rename(columns={0:\"Occurrences\"})\n",
        "max_pelicula = max(peliculas[\"Occurrences\"])\n",
        "peliMasOcurrida = peliculas.loc[peliculas[\"Occurrences\"]==max_pelicula]\n",
        "peliMasOcurrida"
      ],
      "metadata": {
        "colab": {
          "base_uri": "https://localhost:8080/",
          "height": 0
        },
        "id": "f7vwsqppkBMW",
        "outputId": "9b0e43c5-d31b-4352-9354-32672659444e"
      },
      "execution_count": 14,
      "outputs": [
        {
          "output_type": "execute_result",
          "data": {
            "text/plain": [
              "                                 Title  Occurrences\n",
              "42                    El código enigma            7\n",
              "128  Star Wars: El Imperio contraataca            7"
            ],
            "text/html": [
              "\n",
              "  <div id=\"df-89a45215-7c7d-4f22-b8bc-8ae8822407b7\">\n",
              "    <div class=\"colab-df-container\">\n",
              "      <div>\n",
              "<style scoped>\n",
              "    .dataframe tbody tr th:only-of-type {\n",
              "        vertical-align: middle;\n",
              "    }\n",
              "\n",
              "    .dataframe tbody tr th {\n",
              "        vertical-align: top;\n",
              "    }\n",
              "\n",
              "    .dataframe thead th {\n",
              "        text-align: right;\n",
              "    }\n",
              "</style>\n",
              "<table border=\"1\" class=\"dataframe\">\n",
              "  <thead>\n",
              "    <tr style=\"text-align: right;\">\n",
              "      <th></th>\n",
              "      <th>Title</th>\n",
              "      <th>Occurrences</th>\n",
              "    </tr>\n",
              "  </thead>\n",
              "  <tbody>\n",
              "    <tr>\n",
              "      <th>42</th>\n",
              "      <td>El código enigma</td>\n",
              "      <td>7</td>\n",
              "    </tr>\n",
              "    <tr>\n",
              "      <th>128</th>\n",
              "      <td>Star Wars: El Imperio contraataca</td>\n",
              "      <td>7</td>\n",
              "    </tr>\n",
              "  </tbody>\n",
              "</table>\n",
              "</div>\n",
              "      <button class=\"colab-df-convert\" onclick=\"convertToInteractive('df-89a45215-7c7d-4f22-b8bc-8ae8822407b7')\"\n",
              "              title=\"Convert this dataframe to an interactive table.\"\n",
              "              style=\"display:none;\">\n",
              "        \n",
              "  <svg xmlns=\"http://www.w3.org/2000/svg\" height=\"24px\"viewBox=\"0 0 24 24\"\n",
              "       width=\"24px\">\n",
              "    <path d=\"M0 0h24v24H0V0z\" fill=\"none\"/>\n",
              "    <path d=\"M18.56 5.44l.94 2.06.94-2.06 2.06-.94-2.06-.94-.94-2.06-.94 2.06-2.06.94zm-11 1L8.5 8.5l.94-2.06 2.06-.94-2.06-.94L8.5 2.5l-.94 2.06-2.06.94zm10 10l.94 2.06.94-2.06 2.06-.94-2.06-.94-.94-2.06-.94 2.06-2.06.94z\"/><path d=\"M17.41 7.96l-1.37-1.37c-.4-.4-.92-.59-1.43-.59-.52 0-1.04.2-1.43.59L10.3 9.45l-7.72 7.72c-.78.78-.78 2.05 0 2.83L4 21.41c.39.39.9.59 1.41.59.51 0 1.02-.2 1.41-.59l7.78-7.78 2.81-2.81c.8-.78.8-2.07 0-2.86zM5.41 20L4 18.59l7.72-7.72 1.47 1.35L5.41 20z\"/>\n",
              "  </svg>\n",
              "      </button>\n",
              "      \n",
              "  <style>\n",
              "    .colab-df-container {\n",
              "      display:flex;\n",
              "      flex-wrap:wrap;\n",
              "      gap: 12px;\n",
              "    }\n",
              "\n",
              "    .colab-df-convert {\n",
              "      background-color: #E8F0FE;\n",
              "      border: none;\n",
              "      border-radius: 50%;\n",
              "      cursor: pointer;\n",
              "      display: none;\n",
              "      fill: #1967D2;\n",
              "      height: 32px;\n",
              "      padding: 0 0 0 0;\n",
              "      width: 32px;\n",
              "    }\n",
              "\n",
              "    .colab-df-convert:hover {\n",
              "      background-color: #E2EBFA;\n",
              "      box-shadow: 0px 1px 2px rgba(60, 64, 67, 0.3), 0px 1px 3px 1px rgba(60, 64, 67, 0.15);\n",
              "      fill: #174EA6;\n",
              "    }\n",
              "\n",
              "    [theme=dark] .colab-df-convert {\n",
              "      background-color: #3B4455;\n",
              "      fill: #D2E3FC;\n",
              "    }\n",
              "\n",
              "    [theme=dark] .colab-df-convert:hover {\n",
              "      background-color: #434B5C;\n",
              "      box-shadow: 0px 1px 3px 1px rgba(0, 0, 0, 0.15);\n",
              "      filter: drop-shadow(0px 1px 2px rgba(0, 0, 0, 0.3));\n",
              "      fill: #FFFFFF;\n",
              "    }\n",
              "  </style>\n",
              "\n",
              "      <script>\n",
              "        const buttonEl =\n",
              "          document.querySelector('#df-89a45215-7c7d-4f22-b8bc-8ae8822407b7 button.colab-df-convert');\n",
              "        buttonEl.style.display =\n",
              "          google.colab.kernel.accessAllowed ? 'block' : 'none';\n",
              "\n",
              "        async function convertToInteractive(key) {\n",
              "          const element = document.querySelector('#df-89a45215-7c7d-4f22-b8bc-8ae8822407b7');\n",
              "          const dataTable =\n",
              "            await google.colab.kernel.invokeFunction('convertToInteractive',\n",
              "                                                     [key], {});\n",
              "          if (!dataTable) return;\n",
              "\n",
              "          const docLinkHtml = 'Like what you see? Visit the ' +\n",
              "            '<a target=\"_blank\" href=https://colab.research.google.com/notebooks/data_table.ipynb>data table notebook</a>'\n",
              "            + ' to learn more about interactive tables.';\n",
              "          element.innerHTML = '';\n",
              "          dataTable['output_type'] = 'display_data';\n",
              "          await google.colab.output.renderOutput(dataTable, element);\n",
              "          const docLink = document.createElement('div');\n",
              "          docLink.innerHTML = docLinkHtml;\n",
              "          element.appendChild(docLink);\n",
              "        }\n",
              "      </script>\n",
              "    </div>\n",
              "  </div>\n",
              "  "
            ]
          },
          "metadata": {},
          "execution_count": 14
        }
      ]
    },
    {
      "cell_type": "markdown",
      "source": [
        "Mayor duración"
      ],
      "metadata": {
        "id": "mshT-zYB0VYe"
      }
    },
    {
      "cell_type": "code",
      "source": [
        "durations = df_peliculas.groupby(['Title', 'Duration']).size().reset_index()\n",
        "durations = durations.drop(columns=0)\n",
        "max_duration = max(durations[\"Duration\"])\n",
        "peliMasDuracion = durations.loc[durations[\"Duration\"] == max_duration]\n",
        "peliMasDuracion"
      ],
      "metadata": {
        "colab": {
          "base_uri": "https://localhost:8080/",
          "height": 0
        },
        "id": "8Z02fAUuw9Nh",
        "outputId": "06457e88-3431-4124-ad88-b9fc52e4eddd"
      },
      "execution_count": 15,
      "outputs": [
        {
          "output_type": "execute_result",
          "data": {
            "text/plain": [
              "                  Title  Duration\n",
              "63  El club de la pelea      8411"
            ],
            "text/html": [
              "\n",
              "  <div id=\"df-c999ff74-13c2-4ca4-afd2-56a170e7ff53\">\n",
              "    <div class=\"colab-df-container\">\n",
              "      <div>\n",
              "<style scoped>\n",
              "    .dataframe tbody tr th:only-of-type {\n",
              "        vertical-align: middle;\n",
              "    }\n",
              "\n",
              "    .dataframe tbody tr th {\n",
              "        vertical-align: top;\n",
              "    }\n",
              "\n",
              "    .dataframe thead th {\n",
              "        text-align: right;\n",
              "    }\n",
              "</style>\n",
              "<table border=\"1\" class=\"dataframe\">\n",
              "  <thead>\n",
              "    <tr style=\"text-align: right;\">\n",
              "      <th></th>\n",
              "      <th>Title</th>\n",
              "      <th>Duration</th>\n",
              "    </tr>\n",
              "  </thead>\n",
              "  <tbody>\n",
              "    <tr>\n",
              "      <th>63</th>\n",
              "      <td>El club de la pelea</td>\n",
              "      <td>8411</td>\n",
              "    </tr>\n",
              "  </tbody>\n",
              "</table>\n",
              "</div>\n",
              "      <button class=\"colab-df-convert\" onclick=\"convertToInteractive('df-c999ff74-13c2-4ca4-afd2-56a170e7ff53')\"\n",
              "              title=\"Convert this dataframe to an interactive table.\"\n",
              "              style=\"display:none;\">\n",
              "        \n",
              "  <svg xmlns=\"http://www.w3.org/2000/svg\" height=\"24px\"viewBox=\"0 0 24 24\"\n",
              "       width=\"24px\">\n",
              "    <path d=\"M0 0h24v24H0V0z\" fill=\"none\"/>\n",
              "    <path d=\"M18.56 5.44l.94 2.06.94-2.06 2.06-.94-2.06-.94-.94-2.06-.94 2.06-2.06.94zm-11 1L8.5 8.5l.94-2.06 2.06-.94-2.06-.94L8.5 2.5l-.94 2.06-2.06.94zm10 10l.94 2.06.94-2.06 2.06-.94-2.06-.94-.94-2.06-.94 2.06-2.06.94z\"/><path d=\"M17.41 7.96l-1.37-1.37c-.4-.4-.92-.59-1.43-.59-.52 0-1.04.2-1.43.59L10.3 9.45l-7.72 7.72c-.78.78-.78 2.05 0 2.83L4 21.41c.39.39.9.59 1.41.59.51 0 1.02-.2 1.41-.59l7.78-7.78 2.81-2.81c.8-.78.8-2.07 0-2.86zM5.41 20L4 18.59l7.72-7.72 1.47 1.35L5.41 20z\"/>\n",
              "  </svg>\n",
              "      </button>\n",
              "      \n",
              "  <style>\n",
              "    .colab-df-container {\n",
              "      display:flex;\n",
              "      flex-wrap:wrap;\n",
              "      gap: 12px;\n",
              "    }\n",
              "\n",
              "    .colab-df-convert {\n",
              "      background-color: #E8F0FE;\n",
              "      border: none;\n",
              "      border-radius: 50%;\n",
              "      cursor: pointer;\n",
              "      display: none;\n",
              "      fill: #1967D2;\n",
              "      height: 32px;\n",
              "      padding: 0 0 0 0;\n",
              "      width: 32px;\n",
              "    }\n",
              "\n",
              "    .colab-df-convert:hover {\n",
              "      background-color: #E2EBFA;\n",
              "      box-shadow: 0px 1px 2px rgba(60, 64, 67, 0.3), 0px 1px 3px 1px rgba(60, 64, 67, 0.15);\n",
              "      fill: #174EA6;\n",
              "    }\n",
              "\n",
              "    [theme=dark] .colab-df-convert {\n",
              "      background-color: #3B4455;\n",
              "      fill: #D2E3FC;\n",
              "    }\n",
              "\n",
              "    [theme=dark] .colab-df-convert:hover {\n",
              "      background-color: #434B5C;\n",
              "      box-shadow: 0px 1px 3px 1px rgba(0, 0, 0, 0.15);\n",
              "      filter: drop-shadow(0px 1px 2px rgba(0, 0, 0, 0.3));\n",
              "      fill: #FFFFFF;\n",
              "    }\n",
              "  </style>\n",
              "\n",
              "      <script>\n",
              "        const buttonEl =\n",
              "          document.querySelector('#df-c999ff74-13c2-4ca4-afd2-56a170e7ff53 button.colab-df-convert');\n",
              "        buttonEl.style.display =\n",
              "          google.colab.kernel.accessAllowed ? 'block' : 'none';\n",
              "\n",
              "        async function convertToInteractive(key) {\n",
              "          const element = document.querySelector('#df-c999ff74-13c2-4ca4-afd2-56a170e7ff53');\n",
              "          const dataTable =\n",
              "            await google.colab.kernel.invokeFunction('convertToInteractive',\n",
              "                                                     [key], {});\n",
              "          if (!dataTable) return;\n",
              "\n",
              "          const docLinkHtml = 'Like what you see? Visit the ' +\n",
              "            '<a target=\"_blank\" href=https://colab.research.google.com/notebooks/data_table.ipynb>data table notebook</a>'\n",
              "            + ' to learn more about interactive tables.';\n",
              "          element.innerHTML = '';\n",
              "          dataTable['output_type'] = 'display_data';\n",
              "          await google.colab.output.renderOutput(dataTable, element);\n",
              "          const docLink = document.createElement('div');\n",
              "          docLink.innerHTML = docLinkHtml;\n",
              "          element.appendChild(docLink);\n",
              "        }\n",
              "      </script>\n",
              "    </div>\n",
              "  </div>\n",
              "  "
            ]
          },
          "metadata": {},
          "execution_count": 15
        }
      ]
    },
    {
      "cell_type": "markdown",
      "source": [
        "#### Generar un TOP “N” de series vistas y graficar"
      ],
      "metadata": {
        "id": "257yDV4OPpsI"
      }
    },
    {
      "cell_type": "markdown",
      "source": [
        "Guardando las series en un dataframe"
      ],
      "metadata": {
        "id": "xsyagbYmWbAm"
      }
    },
    {
      "cell_type": "code",
      "source": [
        "df_series = df[df[\"Content Type\"] == \"Serie\"]"
      ],
      "metadata": {
        "id": "qOlgevu_RtGE"
      },
      "execution_count": null,
      "outputs": []
    },
    {
      "cell_type": "markdown",
      "source": [
        "Simplificando los titulos"
      ],
      "metadata": {
        "id": "uYQB9vFMWiEZ"
      }
    },
    {
      "cell_type": "code",
      "source": [
        "def simplifyTitle(input):\n",
        "  return input.split(':')[0]\n",
        "\n",
        "df_series[\"Title\"] = df_series[\"Title\"].apply(simplifyTitle)"
      ],
      "metadata": {
        "id": "fMsdUXjdTqCP",
        "colab": {
          "base_uri": "https://localhost:8080/"
        },
        "outputId": "807d44e6-9896-47c6-bf4b-fbc104033a20"
      },
      "execution_count": null,
      "outputs": [
        {
          "output_type": "stream",
          "name": "stderr",
          "text": [
            "/usr/local/lib/python3.7/dist-packages/ipykernel_launcher.py:4: SettingWithCopyWarning: \n",
            "A value is trying to be set on a copy of a slice from a DataFrame.\n",
            "Try using .loc[row_indexer,col_indexer] = value instead\n",
            "\n",
            "See the caveats in the documentation: https://pandas.pydata.org/pandas-docs/stable/user_guide/indexing.html#returning-a-view-versus-a-copy\n",
            "  after removing the cwd from sys.path.\n"
          ]
        }
      ]
    },
    {
      "cell_type": "markdown",
      "source": [
        "##### Por tiempo visto"
      ],
      "metadata": {
        "id": "vMCJhi7JP5Dn"
      }
    },
    {
      "cell_type": "markdown",
      "source": [
        "Guardando en un dataframe los titulos y las horas de reproduccion correspondientes"
      ],
      "metadata": {
        "id": "SZd6OCRWXqXb"
      }
    },
    {
      "cell_type": "code",
      "source": [
        "series_durations = df_series.groupby(\"Title\")[[\"Duration\"]].sum()\n",
        "series_durations = series_durations.sort_values(by=\"Duration\", ascending = False).reset_index()"
      ],
      "metadata": {
        "id": "e6cu6vPyP8tR"
      },
      "execution_count": null,
      "outputs": []
    },
    {
      "cell_type": "markdown",
      "source": [
        "Creando un diccionario que contiene como keys el titulo de la series y como valor sus horas de reproducción correspondientes"
      ],
      "metadata": {
        "id": "miSIOE4kX430"
      }
    },
    {
      "cell_type": "code",
      "source": [
        "peli_duracion = {}\n",
        "\n",
        "cantidadTopTiempo = int(input(\"De cuantas series desea hacer el top: \"))\n",
        "i = 0\n",
        "while i < cantidadTopTiempo:\n",
        "  title = series_durations[\"Title\"][i]\n",
        "  duration = int(series_durations[\"Duration\"][i] / 3600)\n",
        "  peli_duracion[title] = duration\n",
        "  i += 1"
      ],
      "metadata": {
        "id": "S4mcB8t_X_Ev",
        "outputId": "9a291069-2365-44a9-884b-dd8e4cd3dd6c",
        "colab": {
          "base_uri": "https://localhost:8080/"
        }
      },
      "execution_count": null,
      "outputs": [
        {
          "name": "stdout",
          "output_type": "stream",
          "text": [
            "De cuantas series desea hacer el top: 5\n"
          ]
        }
      ]
    },
    {
      "cell_type": "markdown",
      "source": [
        "Creando el grafico basado en el diccionario"
      ],
      "metadata": {
        "id": "ZBlPNmFNXYWJ"
      }
    },
    {
      "cell_type": "code",
      "source": [
        "fig = plt.figure(figsize = (cantidadTopTiempo * 2, cantidadTopTiempo * 1.5))\n",
        "plt.bar(peli_duracion.keys(), peli_duracion.values(), width = 0.5)\n",
        "\n",
        "plt.xlabel('Series', fontSize=14)\n",
        "plt.ylabel('Tiempo (hs)', fontSize=14)\n",
        "\n",
        "plt.title(\"TOP \" + str(cantidadTopTiempo) + \" Series por tiempo visto\", fontSize = 18)\n",
        "plt.show()"
      ],
      "metadata": {
        "id": "q6a9is1EUaJA",
        "outputId": "839aff0f-96c1-48fa-bd69-55887070896e",
        "colab": {
          "base_uri": "https://localhost:8080/",
          "height": 494
        }
      },
      "execution_count": null,
      "outputs": [
        {
          "output_type": "display_data",
          "data": {
            "text/plain": [
              "<Figure size 720x540 with 1 Axes>"
            ],
            "image/png": "[encoded data removed]"
          },
          "metadata": {
            "needs_background": "light"
          }
        }
      ]
    },
    {
      "cell_type": "markdown",
      "source": [
        "##### Por ocurrencias"
      ],
      "metadata": {
        "id": "JsGR5W9MP6HH"
      }
    },
    {
      "cell_type": "markdown",
      "source": [
        "Guardando en un dataframe los titulos y las ocurrencias de cada serie"
      ],
      "metadata": {
        "id": "t2vA1IRrYKwM"
      }
    },
    {
      "cell_type": "code",
      "source": [
        "series_occurrences = df_series.groupby([\"Title\"]).size().reset_index()\n",
        "series_occurrences = series_occurrences.rename(columns = {0:\"Occurrences\"})\n",
        "series_occurrences = series_occurrences.sort_values(by = \"Occurrences\", ascending = False).reset_index()"
      ],
      "metadata": {
        "id": "uVKkLLZxaOU1"
      },
      "execution_count": null,
      "outputs": []
    },
    {
      "cell_type": "markdown",
      "source": [
        "Creando un diccionario que contiene como keys los titulos de las peliculas y como valores su numero de ocurrencias correspondiente"
      ],
      "metadata": {
        "id": "s3bFo4w3YTdy"
      }
    },
    {
      "cell_type": "code",
      "source": [
        "peli_ocurrencia = {}\n",
        "\n",
        "cantidadTopOcurrencias = int(input(\"De cuantas series desea hacer el top: \"))\n",
        "i = 0\n",
        "while i < cantidadTopOcurrencias:\n",
        "  title = series_occurrences[\"Title\"][i]\n",
        "  occurrences = series_occurrences[\"Occurrences\"][i]\n",
        "  peli_ocurrencia[title] = occurrences\n",
        "  i += 1"
      ],
      "metadata": {
        "id": "vCNf0fUKYb_j",
        "outputId": "a60a6d60-ef5a-4c0b-e508-c972fb798a93",
        "colab": {
          "base_uri": "https://localhost:8080/"
        }
      },
      "execution_count": null,
      "outputs": [
        {
          "name": "stdout",
          "output_type": "stream",
          "text": [
            "De cuantas series desea hacer el top: 5\n"
          ]
        }
      ]
    },
    {
      "cell_type": "markdown",
      "source": [
        "Creando un grafico basado en el diccionario"
      ],
      "metadata": {
        "id": "XipSer8gYihl"
      }
    },
    {
      "cell_type": "code",
      "source": [
        "fig = plt.figure(figsize = (cantidadTopOcurrencias * 2, cantidadTopOcurrencias * 1.5))\n",
        "plt.bar(peli_ocurrencia.keys(), peli_ocurrencia.values(), width = 0.5)\n",
        "\n",
        "plt.xlabel('Series', fontSize=14)\n",
        "plt.ylabel('Ocurrencias', fontSize=14)\n",
        "\n",
        "plt.title(\"TOP \" + str(cantidadTopOcurrencias) + \" Series por ocurrencia\", fontSize = 18)\n",
        "plt.show()"
      ],
      "metadata": {
        "id": "397TMm-FFpyK",
        "outputId": "f9d29c33-11bf-40c1-e420-5e60f5dd0797",
        "colab": {
          "base_uri": "https://localhost:8080/",
          "height": 494
        }
      },
      "execution_count": null,
      "outputs": [
        {
          "output_type": "display_data",
          "data": {
            "text/plain": [
              "<Figure size 720x540 with 1 Axes>"
            ],
            "image/png": "[encoded data removed]"
          },
          "metadata": {
            "needs_background": "light"
          }
        }
      ]
    },
    {
      "cell_type": "markdown",
      "source": [
        "#### Visualizar una semana de reproducciones genérica, en función a las reproducciones por día y por horario de todos los años."
      ],
      "metadata": {
        "id": "eZbjVn0oWn_p"
      }
    },
    {
      "cell_type": "markdown",
      "source": [
        "Creando las funciones que reciben una fecha y devuelven o el año o el mes o el día o la hora"
      ],
      "metadata": {
        "id": "q75R05Iranxc"
      }
    },
    {
      "cell_type": "code",
      "source": [
        "def getDateTime(input):\n",
        "  date = dt.strptime(input, '%Y-%m-%d %H:%M:%S')\n",
        "  date = (date.strftime(\"%Y-%B-%A-%d %H:%M:%S\"))\n",
        "  res = \"\"\n",
        "\n",
        "  for a in date:\n",
        "    if a == \"-\" or a == \" \" or a == \":\":\n",
        "      res += \".\"\n",
        "    else: \n",
        "      res += a\n",
        "\n",
        "  return res.split(\".\")\n",
        "\n",
        "def defineYearColumn(input):\n",
        "  res = getDateTime(input)\n",
        "  return res[0]\n",
        "\n",
        "def defineMonthColumn(input):\n",
        "  res = getDateTime(input)\n",
        "  return res[1]\n",
        "\n",
        "def defineDayColumn(input):\n",
        "  res = getDateTime(input)\n",
        "  return res[2]\n",
        "\n",
        "def defineHourColumn(input):\n",
        "  res = getDateTime(input)\n",
        "  return res[4]"
      ],
      "metadata": {
        "id": "ShndtnAOyO95"
      },
      "execution_count": 16,
      "outputs": []
    },
    {
      "cell_type": "markdown",
      "source": [
        "Creando las columnas que contengan el valor de la fecha de forma separada"
      ],
      "metadata": {
        "id": "gIXVLaReegcC"
      }
    },
    {
      "cell_type": "code",
      "source": [
        "df[\"Year\"] = df[\"Start Time\"].apply(defineYearColumn)\n",
        "df[\"Month\"] = df[\"Start Time\"].apply(defineMonthColumn)\n",
        "df[\"Day\"] = df[\"Start Time\"].apply(defineDayColumn)\n",
        "df[\"Hour\"] = df[\"Start Time\"].apply(defineHourColumn)"
      ],
      "metadata": {
        "id": "WN1Dcmz5dj3c"
      },
      "execution_count": 17,
      "outputs": []
    },
    {
      "cell_type": "markdown",
      "source": [
        "Creando un dataframe en el que tendra como columnas los días de la semana y como filas los rangos horarios"
      ],
      "metadata": {
        "id": "W5KTvmeRem_q"
      }
    },
    {
      "cell_type": "code",
      "source": [
        "df_graf = pd.DataFrame({}, columns=[\"Hour\", \"Monday\", \"Tuesday\", \"Wednesday\", \"Thursday\", \"Friday\", \"Saturday\", \"Sunday\"])\n",
        "df_graf[\"Hour\"] = [\"00\", \"04\", \"08\", \"12\", \"16\", \"20\"]\n",
        "df_graf = df_graf.set_index([\"Hour\"])"
      ],
      "metadata": {
        "id": "SCtxMLCxLfyv"
      },
      "execution_count": 18,
      "outputs": []
    },
    {
      "cell_type": "markdown",
      "source": [
        "Obteniendo la cantidad de reproducciones por día y por rango horario y guardando el dato en el dataframe"
      ],
      "metadata": {
        "id": "xyKEB_yHLhnI"
      }
    },
    {
      "cell_type": "code",
      "source": [
        "rango_horario = {\n",
        "    \"00\":\"03\",\n",
        "    \"04\":\"07\",\n",
        "    \"08\":\"11\",\n",
        "    \"12\":\"15\",\n",
        "    \"16\":\"19\",\n",
        "    \"20\":\"23\"\n",
        "}\n",
        "\n",
        "dias = [\"Monday\", \"Tuesday\", \"Wednesday\", \"Thursday\", \"Friday\", \"Saturday\", \"Sunday\"]\n",
        "\n",
        "for dia in dias:\n",
        "  data = df.groupby([\"Title\", \"Day\", \"Hour\"]).size().reset_index()\n",
        "  data = data[data[\"Day\"] == dia]\n",
        "  \n",
        "  prom_dia = []\n",
        "  \n",
        "  for h in rango_horario:\n",
        "    filtered_data = data[data[\"Hour\"].between(h, rango_horario[h])]\n",
        "    prom_dia.append(len(filtered_data))\n",
        "\n",
        "  df_graf[dia] = prom_dia\n",
        "print(df_graf)"
      ],
      "metadata": {
        "colab": {
          "base_uri": "https://localhost:8080/"
        },
        "id": "XfQ-EiLReolr",
        "outputId": "436d118b-bcc3-4976-ef34-774c57b6774d"
      },
      "execution_count": 19,
      "outputs": [
        {
          "output_type": "stream",
          "name": "stdout",
          "text": [
            "      Monday  Tuesday  Wednesday  Thursday  Friday  Saturday  Sunday\n",
            "Hour                                                                \n",
            "00       301      323        259       313     262       315     249\n",
            "04        60       73         44        44      69        75      91\n",
            "08         1        2          2         0       4         0       2\n",
            "12        38       40         37        56      62       112      46\n",
            "16       166      156        146       210     197       179     197\n",
            "20       211      183        162       232     225       204     214\n"
          ]
        }
      ]
    },
    {
      "cell_type": "markdown",
      "source": [
        "Creando el grafico a partir del dataframe"
      ],
      "metadata": {
        "id": "mOHEDsw3MGFc"
      }
    },
    {
      "cell_type": "code",
      "source": [
        "df_graf.style.background_gradient(cmap='Blues')"
      ],
      "metadata": {
        "id": "wX6CqKraMIYA",
        "colab": {
          "base_uri": "https://localhost:8080/",
          "height": 269
        },
        "outputId": "82d4c7f3-3d0b-46c5-a9a0-c3e6b6a64828"
      },
      "execution_count": 20,
      "outputs": [
        {
          "output_type": "execute_result",
          "data": {
            "text/plain": [
              "<pandas.io.formats.style.Styler at 0x7f1720be3510>"
            ],
            "text/html": [
              "<style type=\"text/css\">\n",
              "#T_bc2ee_row0_col0, #T_bc2ee_row0_col1, #T_bc2ee_row0_col2, #T_bc2ee_row0_col3, #T_bc2ee_row0_col4, #T_bc2ee_row0_col5, #T_bc2ee_row0_col6 {\n",
              "  background-color: #08306b;\n",
              "  color: #f1f1f1;\n",
              "}\n",
              "#T_bc2ee_row1_col0 {\n",
              "  background-color: #d0e2f2;\n",
              "  color: #000000;\n",
              "}\n",
              "#T_bc2ee_row1_col1 {\n",
              "  background-color: #ccdff1;\n",
              "  color: #000000;\n",
              "}\n",
              "#T_bc2ee_row1_col2 {\n",
              "  background-color: #d7e6f5;\n",
              "  color: #000000;\n",
              "}\n",
              "#T_bc2ee_row1_col3 {\n",
              "  background-color: #dce9f6;\n",
              "  color: #000000;\n",
              "}\n",
              "#T_bc2ee_row1_col4 {\n",
              "  background-color: #c6dbef;\n",
              "  color: #000000;\n",
              "}\n",
              "#T_bc2ee_row1_col5 {\n",
              "  background-color: #c9ddf0;\n",
              "  color: #000000;\n",
              "}\n",
              "#T_bc2ee_row1_col6 {\n",
              "  background-color: #a3cce3;\n",
              "  color: #000000;\n",
              "}\n",
              "#T_bc2ee_row2_col0, #T_bc2ee_row2_col1, #T_bc2ee_row2_col2, #T_bc2ee_row2_col3, #T_bc2ee_row2_col4, #T_bc2ee_row2_col5, #T_bc2ee_row2_col6 {\n",
              "  background-color: #f7fbff;\n",
              "  color: #000000;\n",
              "}\n",
              "#T_bc2ee_row3_col0 {\n",
              "  background-color: #dfebf7;\n",
              "  color: #000000;\n",
              "}\n",
              "#T_bc2ee_row3_col1 {\n",
              "  background-color: #dfecf7;\n",
              "  color: #000000;\n",
              "}\n",
              "#T_bc2ee_row3_col2 {\n",
              "  background-color: #dceaf6;\n",
              "  color: #000000;\n",
              "}\n",
              "#T_bc2ee_row3_col3, #T_bc2ee_row3_col6 {\n",
              "  background-color: #d4e4f4;\n",
              "  color: #000000;\n",
              "}\n",
              "#T_bc2ee_row3_col4 {\n",
              "  background-color: #cbdef1;\n",
              "  color: #000000;\n",
              "}\n",
              "#T_bc2ee_row3_col5 {\n",
              "  background-color: #a4cce3;\n",
              "  color: #000000;\n",
              "}\n",
              "#T_bc2ee_row4_col0 {\n",
              "  background-color: #5ba3d0;\n",
              "  color: #f1f1f1;\n",
              "}\n",
              "#T_bc2ee_row4_col1 {\n",
              "  background-color: #74b3d8;\n",
              "  color: #000000;\n",
              "}\n",
              "#T_bc2ee_row4_col2 {\n",
              "  background-color: #57a0ce;\n",
              "  color: #f1f1f1;\n",
              "}\n",
              "#T_bc2ee_row4_col3 {\n",
              "  background-color: #3686c0;\n",
              "  color: #f1f1f1;\n",
              "}\n",
              "#T_bc2ee_row4_col4 {\n",
              "  background-color: #2171b5;\n",
              "  color: #f1f1f1;\n",
              "}\n",
              "#T_bc2ee_row4_col5 {\n",
              "  background-color: #549fcd;\n",
              "  color: #f1f1f1;\n",
              "}\n",
              "#T_bc2ee_row4_col6 {\n",
              "  background-color: #1966ad;\n",
              "  color: #f1f1f1;\n",
              "}\n",
              "#T_bc2ee_row5_col0 {\n",
              "  background-color: #2e7ebc;\n",
              "  color: #f1f1f1;\n",
              "}\n",
              "#T_bc2ee_row5_col1 {\n",
              "  background-color: #56a0ce;\n",
              "  color: #f1f1f1;\n",
              "}\n",
              "#T_bc2ee_row5_col2 {\n",
              "  background-color: #4292c6;\n",
              "  color: #f1f1f1;\n",
              "}\n",
              "#T_bc2ee_row5_col3 {\n",
              "  background-color: #2373b6;\n",
              "  color: #f1f1f1;\n",
              "}\n",
              "#T_bc2ee_row5_col4, #T_bc2ee_row5_col6 {\n",
              "  background-color: #0b559f;\n",
              "  color: #f1f1f1;\n",
              "}\n",
              "#T_bc2ee_row5_col5 {\n",
              "  background-color: #3c8cc3;\n",
              "  color: #f1f1f1;\n",
              "}\n",
              "</style>\n",
              "<table id=\"T_bc2ee_\" class=\"dataframe\">\n",
              "  <thead>\n",
              "    <tr>\n",
              "      <th class=\"blank level0\" >&nbsp;</th>\n",
              "      <th class=\"col_heading level0 col0\" >Monday</th>\n",
              "      <th class=\"col_heading level0 col1\" >Tuesday</th>\n",
              "      <th class=\"col_heading level0 col2\" >Wednesday</th>\n",
              "      <th class=\"col_heading level0 col3\" >Thursday</th>\n",
              "      <th class=\"col_heading level0 col4\" >Friday</th>\n",
              "      <th class=\"col_heading level0 col5\" >Saturday</th>\n",
              "      <th class=\"col_heading level0 col6\" >Sunday</th>\n",
              "    </tr>\n",
              "    <tr>\n",
              "      <th class=\"index_name level0\" >Hour</th>\n",
              "      <th class=\"blank col0\" >&nbsp;</th>\n",
              "      <th class=\"blank col1\" >&nbsp;</th>\n",
              "      <th class=\"blank col2\" >&nbsp;</th>\n",
              "      <th class=\"blank col3\" >&nbsp;</th>\n",
              "      <th class=\"blank col4\" >&nbsp;</th>\n",
              "      <th class=\"blank col5\" >&nbsp;</th>\n",
              "      <th class=\"blank col6\" >&nbsp;</th>\n",
              "    </tr>\n",
              "  </thead>\n",
              "  <tbody>\n",
              "    <tr>\n",
              "      <th id=\"T_bc2ee_level0_row0\" class=\"row_heading level0 row0\" >00</th>\n",
              "      <td id=\"T_bc2ee_row0_col0\" class=\"data row0 col0\" >301</td>\n",
              "      <td id=\"T_bc2ee_row0_col1\" class=\"data row0 col1\" >323</td>\n",
              "      <td id=\"T_bc2ee_row0_col2\" class=\"data row0 col2\" >259</td>\n",
              "      <td id=\"T_bc2ee_row0_col3\" class=\"data row0 col3\" >313</td>\n",
              "      <td id=\"T_bc2ee_row0_col4\" class=\"data row0 col4\" >262</td>\n",
              "      <td id=\"T_bc2ee_row0_col5\" class=\"data row0 col5\" >315</td>\n",
              "      <td id=\"T_bc2ee_row0_col6\" class=\"data row0 col6\" >249</td>\n",
              "    </tr>\n",
              "    <tr>\n",
              "      <th id=\"T_bc2ee_level0_row1\" class=\"row_heading level0 row1\" >04</th>\n",
              "      <td id=\"T_bc2ee_row1_col0\" class=\"data row1 col0\" >60</td>\n",
              "      <td id=\"T_bc2ee_row1_col1\" class=\"data row1 col1\" >73</td>\n",
              "      <td id=\"T_bc2ee_row1_col2\" class=\"data row1 col2\" >44</td>\n",
              "      <td id=\"T_bc2ee_row1_col3\" class=\"data row1 col3\" >44</td>\n",
              "      <td id=\"T_bc2ee_row1_col4\" class=\"data row1 col4\" >69</td>\n",
              "      <td id=\"T_bc2ee_row1_col5\" class=\"data row1 col5\" >75</td>\n",
              "      <td id=\"T_bc2ee_row1_col6\" class=\"data row1 col6\" >91</td>\n",
              "    </tr>\n",
              "    <tr>\n",
              "      <th id=\"T_bc2ee_level0_row2\" class=\"row_heading level0 row2\" >08</th>\n",
              "      <td id=\"T_bc2ee_row2_col0\" class=\"data row2 col0\" >1</td>\n",
              "      <td id=\"T_bc2ee_row2_col1\" class=\"data row2 col1\" >2</td>\n",
              "      <td id=\"T_bc2ee_row2_col2\" class=\"data row2 col2\" >2</td>\n",
              "      <td id=\"T_bc2ee_row2_col3\" class=\"data row2 col3\" >0</td>\n",
              "      <td id=\"T_bc2ee_row2_col4\" class=\"data row2 col4\" >4</td>\n",
              "      <td id=\"T_bc2ee_row2_col5\" class=\"data row2 col5\" >0</td>\n",
              "      <td id=\"T_bc2ee_row2_col6\" class=\"data row2 col6\" >2</td>\n",
              "    </tr>\n",
              "    <tr>\n",
              "      <th id=\"T_bc2ee_level0_row3\" class=\"row_heading level0 row3\" >12</th>\n",
              "      <td id=\"T_bc2ee_row3_col0\" class=\"data row3 col0\" >38</td>\n",
              "      <td id=\"T_bc2ee_row3_col1\" class=\"data row3 col1\" >40</td>\n",
              "      <td id=\"T_bc2ee_row3_col2\" class=\"data row3 col2\" >37</td>\n",
              "      <td id=\"T_bc2ee_row3_col3\" class=\"data row3 col3\" >56</td>\n",
              "      <td id=\"T_bc2ee_row3_col4\" class=\"data row3 col4\" >62</td>\n",
              "      <td id=\"T_bc2ee_row3_col5\" class=\"data row3 col5\" >112</td>\n",
              "      <td id=\"T_bc2ee_row3_col6\" class=\"data row3 col6\" >46</td>\n",
              "    </tr>\n",
              "    <tr>\n",
              "      <th id=\"T_bc2ee_level0_row4\" class=\"row_heading level0 row4\" >16</th>\n",
              "      <td id=\"T_bc2ee_row4_col0\" class=\"data row4 col0\" >166</td>\n",
              "      <td id=\"T_bc2ee_row4_col1\" class=\"data row4 col1\" >156</td>\n",
              "      <td id=\"T_bc2ee_row4_col2\" class=\"data row4 col2\" >146</td>\n",
              "      <td id=\"T_bc2ee_row4_col3\" class=\"data row4 col3\" >210</td>\n",
              "      <td id=\"T_bc2ee_row4_col4\" class=\"data row4 col4\" >197</td>\n",
              "      <td id=\"T_bc2ee_row4_col5\" class=\"data row4 col5\" >179</td>\n",
              "      <td id=\"T_bc2ee_row4_col6\" class=\"data row4 col6\" >197</td>\n",
              "    </tr>\n",
              "    <tr>\n",
              "      <th id=\"T_bc2ee_level0_row5\" class=\"row_heading level0 row5\" >20</th>\n",
              "      <td id=\"T_bc2ee_row5_col0\" class=\"data row5 col0\" >211</td>\n",
              "      <td id=\"T_bc2ee_row5_col1\" class=\"data row5 col1\" >183</td>\n",
              "      <td id=\"T_bc2ee_row5_col2\" class=\"data row5 col2\" >162</td>\n",
              "      <td id=\"T_bc2ee_row5_col3\" class=\"data row5 col3\" >232</td>\n",
              "      <td id=\"T_bc2ee_row5_col4\" class=\"data row5 col4\" >225</td>\n",
              "      <td id=\"T_bc2ee_row5_col5\" class=\"data row5 col5\" >204</td>\n",
              "      <td id=\"T_bc2ee_row5_col6\" class=\"data row5 col6\" >214</td>\n",
              "    </tr>\n",
              "  </tbody>\n",
              "</table>\n"
            ]
          },
          "metadata": {},
          "execution_count": 20
        }
      ]
    },
    {
      "cell_type": "code",
      "source": [
        "fig = plt.figure(figsize = (10, 7.5))\n",
        "sns.set(font_scale=1.4)\n",
        "s = sns.heatmap(df_graf, cmap = \"Blues\", linewidths=0.1)\n",
        "s.set_xlabel(\"Day\", fontSize = 18)\n",
        "s"
      ],
      "metadata": {
        "colab": {
          "base_uri": "https://localhost:8080/",
          "height": 576
        },
        "id": "V6YovqvFpQYa",
        "outputId": "625f62bb-121b-48cb-91a9-65e35c6caf21"
      },
      "execution_count": 21,
      "outputs": [
        {
          "output_type": "execute_result",
          "data": {
            "text/plain": [
              "<matplotlib.axes._subplots.AxesSubplot at 0x7f1720a80c10>"
            ]
          },
          "metadata": {},
          "execution_count": 21
        },
        {
          "output_type": "display_data",
          "data": {
            "text/plain": [
              "<Figure size 720x540 with 2 Axes>"
            ],
            "image/png": "[encoded data removed]"
          },
          "metadata": {
            "needs_background": "light"
          }
        }
      ]
    },
    {
      "cell_type": "markdown",
      "source": [
        "#### Contabilizar la cantidad de títulos vistos por año, graficar su variación a través de los años."
      ],
      "metadata": {
        "id": "IEeieq775_uN"
      }
    },
    {
      "cell_type": "markdown",
      "source": [
        "Creando una funcion que recibe el titulo completo y devuelve un titulo simplificado"
      ],
      "metadata": {
        "id": "9Qs8a3qf00p2"
      }
    },
    {
      "cell_type": "code",
      "source": [
        "def simplifyTitle(input):\n",
        "  return input.split(':')[0]"
      ],
      "metadata": {
        "id": "hOssZ1dl05nM"
      },
      "execution_count": 24,
      "outputs": []
    },
    {
      "cell_type": "markdown",
      "source": [
        "Creando una columna con los titulos simplificados"
      ],
      "metadata": {
        "id": "3j8xEd6vDKBa"
      }
    },
    {
      "cell_type": "code",
      "source": [
        "df[\"Simple Title\"] = df[\"Title\"].apply(simplifyTitle)"
      ],
      "metadata": {
        "id": "pAH66pjyDMG5"
      },
      "execution_count": 25,
      "outputs": []
    },
    {
      "cell_type": "markdown",
      "source": [
        "Guardando en un diccionario como keys los años y como valores la cantidad de titulos correspondiente"
      ],
      "metadata": {
        "id": "JNI2s3EJHnQg"
      }
    },
    {
      "cell_type": "code",
      "source": [
        "titulosTotal = df.groupby([\"Simple Title\", \"Year\"]).size().reset_index()\n",
        "\n",
        "añosVistos = [\"2015\", \"2016\", \"2017\", \"2018\", \"2019\", \"2020\", \"2021\", \"2022\"]\n",
        "\n",
        "años_titulos = {}\n",
        "\n",
        "for i in añosVistos:\n",
        "  años_titulos[i] = titulosTotal[titulosTotal[\"Year\"] == i][0].count()\n",
        "\n",
        "años_titulos"
      ],
      "metadata": {
        "colab": {
          "base_uri": "https://localhost:8080/"
        },
        "id": "AMQmc5EQ62Zi",
        "outputId": "1f44c30d-c7a4-4c0d-f850-66682a52bf44"
      },
      "execution_count": 26,
      "outputs": [
        {
          "output_type": "execute_result",
          "data": {
            "text/plain": [
              "{'2015': 81,\n",
              " '2016': 39,\n",
              " '2017': 78,\n",
              " '2018': 52,\n",
              " '2019': 45,\n",
              " '2020': 29,\n",
              " '2021': 26,\n",
              " '2022': 11}"
            ]
          },
          "metadata": {},
          "execution_count": 26
        }
      ]
    },
    {
      "cell_type": "markdown",
      "source": [
        "Graficando la variación a traves de los años usando el diccionario"
      ],
      "metadata": {
        "id": "YbY3bqWe_Wkc"
      }
    },
    {
      "cell_type": "code",
      "source": [
        "fig = plt.figure(figsize = (10, 7.5))\n",
        "plt.bar(años_titulos.keys(), años_titulos.values(), width = 0.5)\n",
        "\n",
        "plt.xlabel(\"Años\", fontSize = 12)\n",
        "plt.ylabel(\"Titulos\", fontSize = 12)\n",
        "\n",
        "plt.title(\"Titulos vistos a traves de los años\", fontSize = 16)\n",
        "plt.show()"
      ],
      "metadata": {
        "colab": {
          "base_uri": "https://localhost:8080/",
          "height": 498
        },
        "id": "up_rpbxC_Zsz",
        "outputId": "7b40ce2a-60b4-44c2-b27b-c5cbfa0c1762"
      },
      "execution_count": 27,
      "outputs": [
        {
          "output_type": "display_data",
          "data": {
            "text/plain": [
              "<Figure size 720x540 with 1 Axes>"
            ],
            "image/png": "[encoded data removed]"
          },
          "metadata": {}
        }
      ]
    },
    {
      "cell_type": "markdown",
      "source": [
        "#### Total de días de todos los títulos reproducidos."
      ],
      "metadata": {
        "id": "dmyAx4_Y6FzD"
      }
    },
    {
      "cell_type": "code",
      "source": [
        "totalDias = int(df[\"Duration\"].sum() / 60 / 60 / 24)\n",
        "print(\"El total de días de todos los títulos reproducidos es \" + str(totalDias))"
      ],
      "metadata": {
        "colab": {
          "base_uri": "https://localhost:8080/"
        },
        "id": "1kd56rME7J_o",
        "outputId": "f96672ea-6697-4881-c018-ae9c9b572ad8"
      },
      "execution_count": 28,
      "outputs": [
        {
          "output_type": "stream",
          "name": "stdout",
          "text": [
            "El total de días de todos los títulos reproducidos es 99\n"
          ]
        }
      ]
    },
    {
      "cell_type": "markdown",
      "source": [
        "#### Bonus"
      ],
      "metadata": {
        "id": "g0_baB734sC9"
      }
    },
    {
      "cell_type": "markdown",
      "source": [
        "##### Identificar cuál fue la película de Star Wars más veces vista por duración."
      ],
      "metadata": {
        "id": "JtoHMx6R4zkM"
      }
    },
    {
      "cell_type": "code",
      "source": [
        "star_wars_df = df[df[\"Simple Title\"] == \"Star Wars\"][df[\"Content Type\"] == \"Pelicula\"]\n",
        "star_wars_df = star_wars_df.groupby([\"Title\", \"Duration\"]).size().reset_index()\n",
        "\n",
        "movie_names = star_wars_df[\"Title\"].unique()\n",
        "\n",
        "movie_duration = {}\n",
        "\n",
        "max_duration = 0\n",
        "res = \"\"\n",
        "\n",
        "for m in movie_names:\n",
        "  total_duration = star_wars_df.loc[star_wars_df[\"Title\"] == m, \"Duration\"].sum()\n",
        "  \n",
        "  if(total_duration > max_duration):\n",
        "    max_duration = total_duration\n",
        "    res = m\n",
        "\n",
        "print(\"Pelicula más vista: \" + res + \". Su tiempo de reproducción fue de \" + str(int(max_duration / 60 / 60)) + \" horas\")"
      ],
      "metadata": {
        "colab": {
          "base_uri": "https://localhost:8080/"
        },
        "id": "XKAIWW_y4um2",
        "outputId": "b494250c-8e1c-4269-a1c7-5c7621651310"
      },
      "execution_count": 29,
      "outputs": [
        {
          "output_type": "stream",
          "name": "stdout",
          "text": [
            "Pelicula más vista: Star Wars: El Imperio contraataca. Su tiempo de reproducción fue de 8 horas\n"
          ]
        },
        {
          "output_type": "stream",
          "name": "stderr",
          "text": [
            "/usr/local/lib/python3.7/dist-packages/ipykernel_launcher.py:1: UserWarning: Boolean Series key will be reindexed to match DataFrame index.\n",
            "  \"\"\"Entry point for launching an IPython kernel.\n"
          ]
        }
      ]
    },
    {
      "cell_type": "markdown",
      "source": [
        "##### Utilizando la API de IMDb (u otra):\n",
        " - Mostrar el póster de las películas más vistas, y de las series.\n",
        " - Encontrar el género de series y el de películas más ocurrente.\n"
      ],
      "metadata": {
        "id": "rmo-Wc014hDp"
      }
    },
    {
      "cell_type": "code",
      "source": [],
      "metadata": {
        "id": "zSaNW_kR4p3q"
      },
      "execution_count": null,
      "outputs": []
    },
    {
      "cell_type": "markdown",
      "source": [
        "##### Encontrar la serie que más rápido se terminó de ver"
      ],
      "metadata": {
        "id": "xAQ-7RVl4siy"
      }
    },
    {
      "cell_type": "code",
      "source": [],
      "metadata": {
        "id": "eact3drg4u_l"
      },
      "execution_count": null,
      "outputs": []
    },
    {
      "cell_type": "markdown",
      "source": [
        "## Mostrando el dataframe"
      ],
      "metadata": {
        "id": "l1uL78Cahd6S"
      }
    },
    {
      "cell_type": "code",
      "source": [
        "original_df = pd.read_csv(\"NetflixHistory.csv\")"
      ],
      "metadata": {
        "id": "QSvRUpW1vVRj"
      },
      "execution_count": 30,
      "outputs": []
    },
    {
      "cell_type": "code",
      "source": [
        "df"
      ],
      "metadata": {
        "id": "jq1ilVZnS6Gq",
        "colab": {
          "base_uri": "https://localhost:8080/",
          "height": 849
        },
        "outputId": "37ba6729-e53c-4f59-8532-7726ddbbeb7f"
      },
      "execution_count": 31,
      "outputs": [
        {
          "output_type": "execute_result",
          "data": {
            "text/plain": [
              "       Unnamed: 0           Start Time  Duration  \\\n",
              "0               0  2022-08-21 19:54:53       174   \n",
              "1               1  2022-08-21 19:33:17      1293   \n",
              "2               2  2022-08-21 19:11:40      1288   \n",
              "3               3  2022-08-21 18:50:27      1241   \n",
              "4               4  2022-08-21 18:16:34      1280   \n",
              "...           ...                  ...       ...   \n",
              "12992       12992  2015-01-08 19:21:21       249   \n",
              "12993       12993  2015-01-08 19:20:47        15   \n",
              "12994       12994  2015-01-08 19:18:32        37   \n",
              "12995       12995  2015-01-08 19:16:45        18   \n",
              "12996       12996  2015-01-08 19:15:14        18   \n",
              "\n",
              "                                                   Title  \\\n",
              "0      Community: Temporada 3: Teoría del caos correc...   \n",
              "1      Community: Temporada 3: Ecología competitiva (...   \n",
              "2      Community: Temporada 3: Geografía del conflict...   \n",
              "3      Community: Temporada 2: Intermediate Documenta...   \n",
              "4      Community: Temporada 3: El documental (Capítul...   \n",
              "...                                                  ...   \n",
              "12992    Lost: Temporada 1: Éxodo: Parte 1 (Capítulo 23)   \n",
              "12993  Lost: Temporada 1: Nacida para correr (Capítul...   \n",
              "12994    Lost: Temporada 1: Éxodo: Parte 1 (Capítulo 23)   \n",
              "12995    Lost: Temporada 1: Éxodo: Parte 1 (Capítulo 23)   \n",
              "12996    Lost: Temporada 1: Éxodo: Parte 1 (Capítulo 23)   \n",
              "\n",
              "                     Device Type  Bookmark  Latest Bookmark Content Type  \\\n",
              "0      Apple Apple TV 4 Apple TV  00:02:55         00:02:55        Serie   \n",
              "1      Apple Apple TV 4 Apple TV  00:21:33         00:21:33        Serie   \n",
              "2      Apple Apple TV 4 Apple TV  00:21:28         00:21:28        Serie   \n",
              "3      Apple Apple TV 4 Apple TV  00:21:02         00:21:02        Serie   \n",
              "4      Apple Apple TV 4 Apple TV  00:21:21         00:21:21        Serie   \n",
              "...                          ...       ...              ...          ...   \n",
              "12992       Apple TV 3 (revised)  00:04:40  Not latest view        Serie   \n",
              "12993       Apple TV 3 (revised)  00:00:14  Not latest view        Serie   \n",
              "12994       Apple TV 3 (revised)  00:00:37  Not latest view        Serie   \n",
              "12995       Apple TV 3 (revised)  00:00:18  Not latest view        Serie   \n",
              "12996       Apple TV 3 (revised)  00:00:18  Not latest view        Serie   \n",
              "\n",
              "       Year    Month       Day Hour Simple Title  \n",
              "0      2022   August    Sunday   19    Community  \n",
              "1      2022   August    Sunday   19    Community  \n",
              "2      2022   August    Sunday   19    Community  \n",
              "3      2022   August    Sunday   18    Community  \n",
              "4      2022   August    Sunday   18    Community  \n",
              "...     ...      ...       ...  ...          ...  \n",
              "12992  2015  January  Thursday   19         Lost  \n",
              "12993  2015  January  Thursday   19         Lost  \n",
              "12994  2015  January  Thursday   19         Lost  \n",
              "12995  2015  January  Thursday   19         Lost  \n",
              "12996  2015  January  Thursday   19         Lost  \n",
              "\n",
              "[6201 rows x 13 columns]"
            ],
            "text/html": [
              "\n",
              "  <div id=\"df-14b832ae-c963-4c6b-99c2-afd545a55e0a\">\n",
              "    <div class=\"colab-df-container\">\n",
              "      <div>\n",
              "<style scoped>\n",
              "    .dataframe tbody tr th:only-of-type {\n",
              "        vertical-align: middle;\n",
              "    }\n",
              "\n",
              "    .dataframe tbody tr th {\n",
              "        vertical-align: top;\n",
              "    }\n",
              "\n",
              "    .dataframe thead th {\n",
              "        text-align: right;\n",
              "    }\n",
              "</style>\n",
              "<table border=\"1\" class=\"dataframe\">\n",
              "  <thead>\n",
              "    <tr style=\"text-align: right;\">\n",
              "      <th></th>\n",
              "      <th>Unnamed: 0</th>\n",
              "      <th>Start Time</th>\n",
              "      <th>Duration</th>\n",
              "      <th>Title</th>\n",
              "      <th>Device Type</th>\n",
              "      <th>Bookmark</th>\n",
              "      <th>Latest Bookmark</th>\n",
              "      <th>Content Type</th>\n",
              "      <th>Year</th>\n",
              "      <th>Month</th>\n",
              "      <th>Day</th>\n",
              "      <th>Hour</th>\n",
              "      <th>Simple Title</th>\n",
              "    </tr>\n",
              "  </thead>\n",
              "  <tbody>\n",
              "    <tr>\n",
              "      <th>0</th>\n",
              "      <td>0</td>\n",
              "      <td>2022-08-21 19:54:53</td>\n",
              "      <td>174</td>\n",
              "      <td>Community: Temporada 3: Teoría del caos correc...</td>\n",
              "      <td>Apple Apple TV 4 Apple TV</td>\n",
              "      <td>00:02:55</td>\n",
              "      <td>00:02:55</td>\n",
              "      <td>Serie</td>\n",
              "      <td>2022</td>\n",
              "      <td>August</td>\n",
              "      <td>Sunday</td>\n",
              "      <td>19</td>\n",
              "      <td>Community</td>\n",
              "    </tr>\n",
              "    <tr>\n",
              "      <th>1</th>\n",
              "      <td>1</td>\n",
              "      <td>2022-08-21 19:33:17</td>\n",
              "      <td>1293</td>\n",
              "      <td>Community: Temporada 3: Ecología competitiva (...</td>\n",
              "      <td>Apple Apple TV 4 Apple TV</td>\n",
              "      <td>00:21:33</td>\n",
              "      <td>00:21:33</td>\n",
              "      <td>Serie</td>\n",
              "      <td>2022</td>\n",
              "      <td>August</td>\n",
              "      <td>Sunday</td>\n",
              "      <td>19</td>\n",
              "      <td>Community</td>\n",
              "    </tr>\n",
              "    <tr>\n",
              "      <th>2</th>\n",
              "      <td>2</td>\n",
              "      <td>2022-08-21 19:11:40</td>\n",
              "      <td>1288</td>\n",
              "      <td>Community: Temporada 3: Geografía del conflict...</td>\n",
              "      <td>Apple Apple TV 4 Apple TV</td>\n",
              "      <td>00:21:28</td>\n",
              "      <td>00:21:28</td>\n",
              "      <td>Serie</td>\n",
              "      <td>2022</td>\n",
              "      <td>August</td>\n",
              "      <td>Sunday</td>\n",
              "      <td>19</td>\n",
              "      <td>Community</td>\n",
              "    </tr>\n",
              "    <tr>\n",
              "      <th>3</th>\n",
              "      <td>3</td>\n",
              "      <td>2022-08-21 18:50:27</td>\n",
              "      <td>1241</td>\n",
              "      <td>Community: Temporada 2: Intermediate Documenta...</td>\n",
              "      <td>Apple Apple TV 4 Apple TV</td>\n",
              "      <td>00:21:02</td>\n",
              "      <td>00:21:02</td>\n",
              "      <td>Serie</td>\n",
              "      <td>2022</td>\n",
              "      <td>August</td>\n",
              "      <td>Sunday</td>\n",
              "      <td>18</td>\n",
              "      <td>Community</td>\n",
              "    </tr>\n",
              "    <tr>\n",
              "      <th>4</th>\n",
              "      <td>4</td>\n",
              "      <td>2022-08-21 18:16:34</td>\n",
              "      <td>1280</td>\n",
              "      <td>Community: Temporada 3: El documental (Capítul...</td>\n",
              "      <td>Apple Apple TV 4 Apple TV</td>\n",
              "      <td>00:21:21</td>\n",
              "      <td>00:21:21</td>\n",
              "      <td>Serie</td>\n",
              "      <td>2022</td>\n",
              "      <td>August</td>\n",
              "      <td>Sunday</td>\n",
              "      <td>18</td>\n",
              "      <td>Community</td>\n",
              "    </tr>\n",
              "    <tr>\n",
              "      <th>...</th>\n",
              "      <td>...</td>\n",
              "      <td>...</td>\n",
              "      <td>...</td>\n",
              "      <td>...</td>\n",
              "      <td>...</td>\n",
              "      <td>...</td>\n",
              "      <td>...</td>\n",
              "      <td>...</td>\n",
              "      <td>...</td>\n",
              "      <td>...</td>\n",
              "      <td>...</td>\n",
              "      <td>...</td>\n",
              "      <td>...</td>\n",
              "    </tr>\n",
              "    <tr>\n",
              "      <th>12992</th>\n",
              "      <td>12992</td>\n",
              "      <td>2015-01-08 19:21:21</td>\n",
              "      <td>249</td>\n",
              "      <td>Lost: Temporada 1: Éxodo: Parte 1 (Capítulo 23)</td>\n",
              "      <td>Apple TV 3 (revised)</td>\n",
              "      <td>00:04:40</td>\n",
              "      <td>Not latest view</td>\n",
              "      <td>Serie</td>\n",
              "      <td>2015</td>\n",
              "      <td>January</td>\n",
              "      <td>Thursday</td>\n",
              "      <td>19</td>\n",
              "      <td>Lost</td>\n",
              "    </tr>\n",
              "    <tr>\n",
              "      <th>12993</th>\n",
              "      <td>12993</td>\n",
              "      <td>2015-01-08 19:20:47</td>\n",
              "      <td>15</td>\n",
              "      <td>Lost: Temporada 1: Nacida para correr (Capítul...</td>\n",
              "      <td>Apple TV 3 (revised)</td>\n",
              "      <td>00:00:14</td>\n",
              "      <td>Not latest view</td>\n",
              "      <td>Serie</td>\n",
              "      <td>2015</td>\n",
              "      <td>January</td>\n",
              "      <td>Thursday</td>\n",
              "      <td>19</td>\n",
              "      <td>Lost</td>\n",
              "    </tr>\n",
              "    <tr>\n",
              "      <th>12994</th>\n",
              "      <td>12994</td>\n",
              "      <td>2015-01-08 19:18:32</td>\n",
              "      <td>37</td>\n",
              "      <td>Lost: Temporada 1: Éxodo: Parte 1 (Capítulo 23)</td>\n",
              "      <td>Apple TV 3 (revised)</td>\n",
              "      <td>00:00:37</td>\n",
              "      <td>Not latest view</td>\n",
              "      <td>Serie</td>\n",
              "      <td>2015</td>\n",
              "      <td>January</td>\n",
              "      <td>Thursday</td>\n",
              "      <td>19</td>\n",
              "      <td>Lost</td>\n",
              "    </tr>\n",
              "    <tr>\n",
              "      <th>12995</th>\n",
              "      <td>12995</td>\n",
              "      <td>2015-01-08 19:16:45</td>\n",
              "      <td>18</td>\n",
              "      <td>Lost: Temporada 1: Éxodo: Parte 1 (Capítulo 23)</td>\n",
              "      <td>Apple TV 3 (revised)</td>\n",
              "      <td>00:00:18</td>\n",
              "      <td>Not latest view</td>\n",
              "      <td>Serie</td>\n",
              "      <td>2015</td>\n",
              "      <td>January</td>\n",
              "      <td>Thursday</td>\n",
              "      <td>19</td>\n",
              "      <td>Lost</td>\n",
              "    </tr>\n",
              "    <tr>\n",
              "      <th>12996</th>\n",
              "      <td>12996</td>\n",
              "      <td>2015-01-08 19:15:14</td>\n",
              "      <td>18</td>\n",
              "      <td>Lost: Temporada 1: Éxodo: Parte 1 (Capítulo 23)</td>\n",
              "      <td>Apple TV 3 (revised)</td>\n",
              "      <td>00:00:18</td>\n",
              "      <td>Not latest view</td>\n",
              "      <td>Serie</td>\n",
              "      <td>2015</td>\n",
              "      <td>January</td>\n",
              "      <td>Thursday</td>\n",
              "      <td>19</td>\n",
              "      <td>Lost</td>\n",
              "    </tr>\n",
              "  </tbody>\n",
              "</table>\n",
              "<p>6201 rows × 13 columns</p>\n",
              "</div>\n",
              "      <button class=\"colab-df-convert\" onclick=\"convertToInteractive('df-14b832ae-c963-4c6b-99c2-afd545a55e0a')\"\n",
              "              title=\"Convert this dataframe to an interactive table.\"\n",
              "              style=\"display:none;\">\n",
              "        \n",
              "  <svg xmlns=\"http://www.w3.org/2000/svg\" height=\"24px\"viewBox=\"0 0 24 24\"\n",
              "       width=\"24px\">\n",
              "    <path d=\"M0 0h24v24H0V0z\" fill=\"none\"/>\n",
              "    <path d=\"M18.56 5.44l.94 2.06.94-2.06 2.06-.94-2.06-.94-.94-2.06-.94 2.06-2.06.94zm-11 1L8.5 8.5l.94-2.06 2.06-.94-2.06-.94L8.5 2.5l-.94 2.06-2.06.94zm10 10l.94 2.06.94-2.06 2.06-.94-2.06-.94-.94-2.06-.94 2.06-2.06.94z\"/><path d=\"M17.41 7.96l-1.37-1.37c-.4-.4-.92-.59-1.43-.59-.52 0-1.04.2-1.43.59L10.3 9.45l-7.72 7.72c-.78.78-.78 2.05 0 2.83L4 21.41c.39.39.9.59 1.41.59.51 0 1.02-.2 1.41-.59l7.78-7.78 2.81-2.81c.8-.78.8-2.07 0-2.86zM5.41 20L4 18.59l7.72-7.72 1.47 1.35L5.41 20z\"/>\n",
              "  </svg>\n",
              "      </button>\n",
              "      \n",
              "  <style>\n",
              "    .colab-df-container {\n",
              "      display:flex;\n",
              "      flex-wrap:wrap;\n",
              "      gap: 12px;\n",
              "    }\n",
              "\n",
              "    .colab-df-convert {\n",
              "      background-color: #E8F0FE;\n",
              "      border: none;\n",
              "      border-radius: 50%;\n",
              "      cursor: pointer;\n",
              "      display: none;\n",
              "      fill: #1967D2;\n",
              "      height: 32px;\n",
              "      padding: 0 0 0 0;\n",
              "      width: 32px;\n",
              "    }\n",
              "\n",
              "    .colab-df-convert:hover {\n",
              "      background-color: #E2EBFA;\n",
              "      box-shadow: 0px 1px 2px rgba(60, 64, 67, 0.3), 0px 1px 3px 1px rgba(60, 64, 67, 0.15);\n",
              "      fill: #174EA6;\n",
              "    }\n",
              "\n",
              "    [theme=dark] .colab-df-convert {\n",
              "      background-color: #3B4455;\n",
              "      fill: #D2E3FC;\n",
              "    }\n",
              "\n",
              "    [theme=dark] .colab-df-convert:hover {\n",
              "      background-color: #434B5C;\n",
              "      box-shadow: 0px 1px 3px 1px rgba(0, 0, 0, 0.15);\n",
              "      filter: drop-shadow(0px 1px 2px rgba(0, 0, 0, 0.3));\n",
              "      fill: #FFFFFF;\n",
              "    }\n",
              "  </style>\n",
              "\n",
              "      <script>\n",
              "        const buttonEl =\n",
              "          document.querySelector('#df-14b832ae-c963-4c6b-99c2-afd545a55e0a button.colab-df-convert');\n",
              "        buttonEl.style.display =\n",
              "          google.colab.kernel.accessAllowed ? 'block' : 'none';\n",
              "\n",
              "        async function convertToInteractive(key) {\n",
              "          const element = document.querySelector('#df-14b832ae-c963-4c6b-99c2-afd545a55e0a');\n",
              "          const dataTable =\n",
              "            await google.colab.kernel.invokeFunction('convertToInteractive',\n",
              "                                                     [key], {});\n",
              "          if (!dataTable) return;\n",
              "\n",
              "          const docLinkHtml = 'Like what you see? Visit the ' +\n",
              "            '<a target=\"_blank\" href=https://colab.research.google.com/notebooks/data_table.ipynb>data table notebook</a>'\n",
              "            + ' to learn more about interactive tables.';\n",
              "          element.innerHTML = '';\n",
              "          dataTable['output_type'] = 'display_data';\n",
              "          await google.colab.output.renderOutput(dataTable, element);\n",
              "          const docLink = document.createElement('div');\n",
              "          docLink.innerHTML = docLinkHtml;\n",
              "          element.appendChild(docLink);\n",
              "        }\n",
              "      </script>\n",
              "    </div>\n",
              "  </div>\n",
              "  "
            ]
          },
          "metadata": {},
          "execution_count": 31
        }
      ]
    }
  ]
}