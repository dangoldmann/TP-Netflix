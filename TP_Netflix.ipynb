{
  "nbformat": 4,
  "nbformat_minor": 0,
  "metadata": {
    "colab": {
      "provenance": [],
      "collapsed_sections": [
        "_VV7dUUliKMF",
        "jq_Klnz-iEOY",
        "8cXqRhHbigIu",
        "Qd5ALE-MAPzn",
        "odrZxb7Hi84R",
        "257yDV4OPpsI",
        "vMCJhi7JP5Dn",
        "JsGR5W9MP6HH",
        "eZbjVn0oWn_p",
        "IEeieq775_uN",
        "dmyAx4_Y6FzD",
        "JtoHMx6R4zkM"
      ],
      "include_colab_link": true
    },
    "kernelspec": {
      "name": "python3",
      "display_name": "Python 3"
    },
    "language_info": {
      "name": "python"
    }
  },
  "cells": [
    {
      "cell_type": "markdown",
      "metadata": {
        "id": "view-in-github",
        "colab_type": "text"
      },
      "source": [
        "<a href=\"https://colab.research.google.com/github/dangoldmann/TP-Netflix/blob/main/TP_Netflix.ipynb\" target=\"_parent\"><img src=\"https://colab.research.google.com/assets/colab-badge.svg\" alt=\"Open In Colab\"/></a>"
      ]
    },
    {
      "cell_type": "markdown",
      "source": [
        "# **Trabajo Práctico Netflix**\n",
        "### *Septiembre 2022*\n",
        "\n",
        "Descargar el archivo que contiene el historial de Netflix. Pueden descargar el suyo propio entrando a este link. A resolver de a grupos de 2 o 3 integrantes.\n",
        "\n",
        "Ignorar los siguientes dispositivos: 'Sony PS4', 'Netflix Windows App - Cadmium Windows Mobile', 'Apple iPhone 6s', 'Apple iPhone 7 Plus (CDMA)', 'Chrome PC (Cadmium)', 'Samsung 2015 NT14M DTV Smart TV', 'iPhone 5S GSM', 'Google Chromecast V3 Streaming Stick'.\n",
        "\n",
        "- Contabilizar el dispositivo con el que más títulos se reprodujeron.\n",
        "- Encontrar la película con más ocurrencias y la película con mayor duración total.\n",
        "- Generar un TOP “N” de series vistas y graficar.\n",
        " - Por tiempo visto\n",
        " - Por ocurrencias\n",
        "- Visualizar una semana de reproducciones genérica, en función a las reproducciones por día y por horario de todos los años.\n",
        "Contabilizar la cantidad de títulos vistos por año, graficar su variación a través de los años.\n",
        "Total de días de todos los títulos reproducidos.\n",
        "\n",
        "### **Bonus**\n",
        "\n",
        "- Identificar cuál fue la película de Star Wars más veces vista por duración.\n",
        "- Utilizando la API de IMDb (u otra):\n",
        " - Mostrar el póster de las películas más vistas, y de las series.\n",
        " - Encontrar el género de series y el de películas más ocurrente.\n",
        "- Encontrar la serie que más rápido se terminó de ver.\n",
        "\n",
        "\n",
        "Formato de entrega: Link a GitHub conteniendo el Ipython Notebook con su output guardado. No se corrigen Notebooks sin output generado ni entregas que no sean links a GitHub directamente. Se va a evaluar formato del Notebook, celdas de texto, prolijidad del código y de los resultados generados.\n",
        "\n",
        "\n"
      ],
      "metadata": {
        "id": "2EJ_H0aMVXYt"
      }
    },
    {
      "cell_type": "markdown",
      "source": [
        "#### Importando librerías"
      ],
      "metadata": {
        "id": "_VV7dUUliKMF"
      }
    },
    {
      "cell_type": "code",
      "source": [
        "import numpy as np\n",
        "import pandas as pd\n",
        "import matplotlib.pyplot as plt\n",
        "from importlib import reload\n",
        "from datetime import datetime as dt\n",
        "import seaborn as sns"
      ],
      "metadata": {
        "id": "nXkYU7nVV9Oa"
      },
      "execution_count": null,
      "outputs": []
    },
    {
      "cell_type": "markdown",
      "source": [
        "#### Guardando el dataframe"
      ],
      "metadata": {
        "id": "aYmzmhcZX2kD"
      }
    },
    {
      "cell_type": "code",
      "source": [
        "df = pd.read_csv(\"NetflixHistory.csv\")"
      ],
      "metadata": {
        "id": "tNuTMhw5V_VQ"
      },
      "execution_count": null,
      "outputs": []
    },
    {
      "cell_type": "markdown",
      "source": [
        "#### Eliminando filas no deseadas"
      ],
      "metadata": {
        "id": "jq_Klnz-iEOY"
      }
    },
    {
      "cell_type": "markdown",
      "source": [
        "Eliminando las visualizaciones de los dispositivos no deseados"
      ],
      "metadata": {
        "id": "gJQZBjVyX_C4"
      }
    },
    {
      "cell_type": "code",
      "source": [
        "dispositivos_ignorados = [\"Sony PS4\", \"Netflix Windows App - Cadmium Windows Mobile\", \"Apple iPhone 6s\", \"Apple iPhone 7 Plus (CDMA)\", \"Chrome PC (Cadmium)\", \"Samsung 2015 NT14M DTV Smart TV\", \"iPhone 5S GSM\", \"Google Chromecast V3 Streaming Stick\"]\n",
        "\n",
        "df = df[~df[\"Device Type\"].isin(dispositivos_ignorados)]"
      ],
      "metadata": {
        "id": "Pbdtq1td9dP4"
      },
      "execution_count": null,
      "outputs": []
    },
    {
      "cell_type": "markdown",
      "source": [
        "Eliminando los hooks, trailers y recaps"
      ],
      "metadata": {
        "id": "1VIrDVGDeujT"
      }
    },
    {
      "cell_type": "code",
      "source": [
        "video_types = df.groupby([\"Supplemental Video Type\"]).size()\n",
        "video_types"
      ],
      "metadata": {
        "colab": {
          "base_uri": "https://localhost:8080/"
        },
        "id": "buqz9hK8fhAi",
        "outputId": "dab40b00-d404-41ea-a394-3a3a81c7faa6"
      },
      "execution_count": null,
      "outputs": [
        {
          "output_type": "execute_result",
          "data": {
            "text/plain": [
              "Supplemental Video Type\n",
              "HOOK              49\n",
              "RECAP              4\n",
              "TEASER_TRAILER     3\n",
              "TRAILER           34\n",
              "dtype: int64"
            ]
          },
          "metadata": {},
          "execution_count": 6
        }
      ]
    },
    {
      "cell_type": "code",
      "source": [
        "video_types_ignorados = [\"HOOK\", \"RECAP\", \"TEASER_TRAILER\", \"TRAILER\"]\n",
        "\n",
        "df = df[~df[\"Supplemental Video Type\"].isin(video_types_ignorados)]"
      ],
      "metadata": {
        "id": "p6wX1IiDeyID"
      },
      "execution_count": null,
      "outputs": []
    },
    {
      "cell_type": "markdown",
      "source": [
        "Eliminando columnas no utilizadas"
      ],
      "metadata": {
        "id": "n6B3_NZFopl2"
      }
    },
    {
      "cell_type": "code",
      "source": [
        "columnas_ignoradas = [\"Supplemental Video Type\", \"Attributes\", \"Country\", \"Profile Name\"]\n",
        "\n",
        "for i in columnas_ignoradas:\n",
        "  df = df.drop(columns = i)"
      ],
      "metadata": {
        "id": "tVDqfJVrokyz"
      },
      "execution_count": null,
      "outputs": []
    },
    {
      "cell_type": "markdown",
      "source": [
        "#### Modificando las columnas"
      ],
      "metadata": {
        "id": "8cXqRhHbigIu"
      }
    },
    {
      "cell_type": "markdown",
      "source": [
        "Crear una nueva columna que contenga si la visualización corresponde a una película o una serie"
      ],
      "metadata": {
        "id": "oiUDqjheJC6w"
      }
    },
    {
      "cell_type": "code",
      "source": [
        "def defineContentType(input):\n",
        "  if input.count(':') > 1:\n",
        "    return \"Serie\"\n",
        "  else:\n",
        "    return \"Pelicula\"\n",
        "\n",
        "df[\"Content Type\"] = df[\"Title\"].apply(defineContentType)"
      ],
      "metadata": {
        "id": "Vf-HXKklVHYi"
      },
      "execution_count": null,
      "outputs": []
    },
    {
      "cell_type": "markdown",
      "source": [
        "Cambiando los valores de las duraciones a segundos"
      ],
      "metadata": {
        "id": "jchiIrsdniNt"
      }
    },
    {
      "cell_type": "code",
      "source": [
        "def changeDurationToSec(input):\n",
        "    if(type(input) == str):\n",
        "      horas, minutos, segundos = input.split(':')\n",
        "      return int(horas) * 60 * 60 + int(minutos) * 60 + int(segundos)\n",
        "    return input\n",
        "\n",
        "df[\"Duration\"] = df[\"Duration\"].apply(changeDurationToSec)"
      ],
      "metadata": {
        "id": "XgkMJ4bqnmRp"
      },
      "execution_count": null,
      "outputs": []
    },
    {
      "cell_type": "markdown",
      "source": [
        "Agregando una columna con el título simplificado"
      ],
      "metadata": {
        "id": "JfphXhFce54O"
      }
    },
    {
      "cell_type": "code",
      "source": [
        "def simplifyTitle(input):\n",
        "  return input.split(':')[0]\n",
        "\n",
        "df[\"Simple Title\"] = df[\"Title\"].apply(simplifyTitle)"
      ],
      "metadata": {
        "id": "nofzAV1ae8k4"
      },
      "execution_count": null,
      "outputs": []
    },
    {
      "cell_type": "markdown",
      "source": [
        "#### Contabilizar el dispositivo con el que más títulos se reprodujeron"
      ],
      "metadata": {
        "id": "Qd5ALE-MAPzn"
      }
    },
    {
      "cell_type": "code",
      "source": [
        "dispositivos = df.groupby([\"Device Type\"]).size()\n",
        "max_cant = max(dispositivos)\n",
        "dispositivos = dispositivos.reset_index()"
      ],
      "metadata": {
        "id": "H7HZrc3T60tj"
      },
      "execution_count": null,
      "outputs": []
    },
    {
      "cell_type": "code",
      "source": [
        "dispositivo_mas_utilizado = dispositivos.loc[dispositivos[0]==max_cant]\n",
        "dispositivo_mas_utilizado"
      ],
      "metadata": {
        "colab": {
          "base_uri": "https://localhost:8080/"
        },
        "id": "WQRWBClOBcnQ",
        "outputId": "16ae5d7e-54af-4cf5-dc46-3d5a0c87162d"
      },
      "execution_count": null,
      "outputs": [
        {
          "output_type": "execute_result",
          "data": {
            "text/plain": [
              "                 Device Type     0\n",
              "1  Apple Apple TV 4 Apple TV  3439"
            ],
            "text/html": [
              "\n",
              "  <div id=\"df-0a42cdb0-ce57-404c-b2d2-4100af2ef4d5\">\n",
              "    <div class=\"colab-df-container\">\n",
              "      <div>\n",
              "<style scoped>\n",
              "    .dataframe tbody tr th:only-of-type {\n",
              "        vertical-align: middle;\n",
              "    }\n",
              "\n",
              "    .dataframe tbody tr th {\n",
              "        vertical-align: top;\n",
              "    }\n",
              "\n",
              "    .dataframe thead th {\n",
              "        text-align: right;\n",
              "    }\n",
              "</style>\n",
              "<table border=\"1\" class=\"dataframe\">\n",
              "  <thead>\n",
              "    <tr style=\"text-align: right;\">\n",
              "      <th></th>\n",
              "      <th>Device Type</th>\n",
              "      <th>0</th>\n",
              "    </tr>\n",
              "  </thead>\n",
              "  <tbody>\n",
              "    <tr>\n",
              "      <th>1</th>\n",
              "      <td>Apple Apple TV 4 Apple TV</td>\n",
              "      <td>3439</td>\n",
              "    </tr>\n",
              "  </tbody>\n",
              "</table>\n",
              "</div>\n",
              "      <button class=\"colab-df-convert\" onclick=\"convertToInteractive('df-0a42cdb0-ce57-404c-b2d2-4100af2ef4d5')\"\n",
              "              title=\"Convert this dataframe to an interactive table.\"\n",
              "              style=\"display:none;\">\n",
              "        \n",
              "  <svg xmlns=\"http://www.w3.org/2000/svg\" height=\"24px\"viewBox=\"0 0 24 24\"\n",
              "       width=\"24px\">\n",
              "    <path d=\"M0 0h24v24H0V0z\" fill=\"none\"/>\n",
              "    <path d=\"M18.56 5.44l.94 2.06.94-2.06 2.06-.94-2.06-.94-.94-2.06-.94 2.06-2.06.94zm-11 1L8.5 8.5l.94-2.06 2.06-.94-2.06-.94L8.5 2.5l-.94 2.06-2.06.94zm10 10l.94 2.06.94-2.06 2.06-.94-2.06-.94-.94-2.06-.94 2.06-2.06.94z\"/><path d=\"M17.41 7.96l-1.37-1.37c-.4-.4-.92-.59-1.43-.59-.52 0-1.04.2-1.43.59L10.3 9.45l-7.72 7.72c-.78.78-.78 2.05 0 2.83L4 21.41c.39.39.9.59 1.41.59.51 0 1.02-.2 1.41-.59l7.78-7.78 2.81-2.81c.8-.78.8-2.07 0-2.86zM5.41 20L4 18.59l7.72-7.72 1.47 1.35L5.41 20z\"/>\n",
              "  </svg>\n",
              "      </button>\n",
              "      \n",
              "  <style>\n",
              "    .colab-df-container {\n",
              "      display:flex;\n",
              "      flex-wrap:wrap;\n",
              "      gap: 12px;\n",
              "    }\n",
              "\n",
              "    .colab-df-convert {\n",
              "      background-color: #E8F0FE;\n",
              "      border: none;\n",
              "      border-radius: 50%;\n",
              "      cursor: pointer;\n",
              "      display: none;\n",
              "      fill: #1967D2;\n",
              "      height: 32px;\n",
              "      padding: 0 0 0 0;\n",
              "      width: 32px;\n",
              "    }\n",
              "\n",
              "    .colab-df-convert:hover {\n",
              "      background-color: #E2EBFA;\n",
              "      box-shadow: 0px 1px 2px rgba(60, 64, 67, 0.3), 0px 1px 3px 1px rgba(60, 64, 67, 0.15);\n",
              "      fill: #174EA6;\n",
              "    }\n",
              "\n",
              "    [theme=dark] .colab-df-convert {\n",
              "      background-color: #3B4455;\n",
              "      fill: #D2E3FC;\n",
              "    }\n",
              "\n",
              "    [theme=dark] .colab-df-convert:hover {\n",
              "      background-color: #434B5C;\n",
              "      box-shadow: 0px 1px 3px 1px rgba(0, 0, 0, 0.15);\n",
              "      filter: drop-shadow(0px 1px 2px rgba(0, 0, 0, 0.3));\n",
              "      fill: #FFFFFF;\n",
              "    }\n",
              "  </style>\n",
              "\n",
              "      <script>\n",
              "        const buttonEl =\n",
              "          document.querySelector('#df-0a42cdb0-ce57-404c-b2d2-4100af2ef4d5 button.colab-df-convert');\n",
              "        buttonEl.style.display =\n",
              "          google.colab.kernel.accessAllowed ? 'block' : 'none';\n",
              "\n",
              "        async function convertToInteractive(key) {\n",
              "          const element = document.querySelector('#df-0a42cdb0-ce57-404c-b2d2-4100af2ef4d5');\n",
              "          const dataTable =\n",
              "            await google.colab.kernel.invokeFunction('convertToInteractive',\n",
              "                                                     [key], {});\n",
              "          if (!dataTable) return;\n",
              "\n",
              "          const docLinkHtml = 'Like what you see? Visit the ' +\n",
              "            '<a target=\"_blank\" href=https://colab.research.google.com/notebooks/data_table.ipynb>data table notebook</a>'\n",
              "            + ' to learn more about interactive tables.';\n",
              "          element.innerHTML = '';\n",
              "          dataTable['output_type'] = 'display_data';\n",
              "          await google.colab.output.renderOutput(dataTable, element);\n",
              "          const docLink = document.createElement('div');\n",
              "          docLink.innerHTML = docLinkHtml;\n",
              "          element.appendChild(docLink);\n",
              "        }\n",
              "      </script>\n",
              "    </div>\n",
              "  </div>\n",
              "  "
            ]
          },
          "metadata": {},
          "execution_count": 13
        }
      ]
    },
    {
      "cell_type": "markdown",
      "source": [
        "#### Encontrar la película con más ocurrencias y la película con mayor duración total"
      ],
      "metadata": {
        "id": "odrZxb7Hi84R"
      }
    },
    {
      "cell_type": "code",
      "source": [
        "df_peliculas = df[df[\"Content Type\"] == \"Pelicula\"]"
      ],
      "metadata": {
        "id": "WTJtFRnejA32"
      },
      "execution_count": null,
      "outputs": []
    },
    {
      "cell_type": "markdown",
      "source": [
        "Mayor ocurrencias"
      ],
      "metadata": {
        "id": "es0wkAal0Trs"
      }
    },
    {
      "cell_type": "code",
      "source": [
        "peliculas = df_peliculas.groupby([\"Title\"]).size().reset_index()\n",
        "peliculas = peliculas.rename(columns={0:\"Occurrences\"})\n",
        "max_pelicula = max(peliculas[\"Occurrences\"])\n",
        "peli_mas_ocurrida = peliculas.loc[peliculas[\"Occurrences\"]==max_pelicula]\n",
        "peli_mas_ocurrida"
      ],
      "metadata": {
        "colab": {
          "base_uri": "https://localhost:8080/"
        },
        "id": "f7vwsqppkBMW",
        "outputId": "1bda365b-7d6a-4b17-ac16-4434767b7233"
      },
      "execution_count": null,
      "outputs": [
        {
          "output_type": "execute_result",
          "data": {
            "text/plain": [
              "                                 Title  Occurrences\n",
              "42                    El código enigma            7\n",
              "128  Star Wars: El Imperio contraataca            7"
            ],
            "text/html": [
              "\n",
              "  <div id=\"df-dbf394b5-e441-45a6-abc9-1fb18bb4eac3\">\n",
              "    <div class=\"colab-df-container\">\n",
              "      <div>\n",
              "<style scoped>\n",
              "    .dataframe tbody tr th:only-of-type {\n",
              "        vertical-align: middle;\n",
              "    }\n",
              "\n",
              "    .dataframe tbody tr th {\n",
              "        vertical-align: top;\n",
              "    }\n",
              "\n",
              "    .dataframe thead th {\n",
              "        text-align: right;\n",
              "    }\n",
              "</style>\n",
              "<table border=\"1\" class=\"dataframe\">\n",
              "  <thead>\n",
              "    <tr style=\"text-align: right;\">\n",
              "      <th></th>\n",
              "      <th>Title</th>\n",
              "      <th>Occurrences</th>\n",
              "    </tr>\n",
              "  </thead>\n",
              "  <tbody>\n",
              "    <tr>\n",
              "      <th>42</th>\n",
              "      <td>El código enigma</td>\n",
              "      <td>7</td>\n",
              "    </tr>\n",
              "    <tr>\n",
              "      <th>128</th>\n",
              "      <td>Star Wars: El Imperio contraataca</td>\n",
              "      <td>7</td>\n",
              "    </tr>\n",
              "  </tbody>\n",
              "</table>\n",
              "</div>\n",
              "      <button class=\"colab-df-convert\" onclick=\"convertToInteractive('df-dbf394b5-e441-45a6-abc9-1fb18bb4eac3')\"\n",
              "              title=\"Convert this dataframe to an interactive table.\"\n",
              "              style=\"display:none;\">\n",
              "        \n",
              "  <svg xmlns=\"http://www.w3.org/2000/svg\" height=\"24px\"viewBox=\"0 0 24 24\"\n",
              "       width=\"24px\">\n",
              "    <path d=\"M0 0h24v24H0V0z\" fill=\"none\"/>\n",
              "    <path d=\"M18.56 5.44l.94 2.06.94-2.06 2.06-.94-2.06-.94-.94-2.06-.94 2.06-2.06.94zm-11 1L8.5 8.5l.94-2.06 2.06-.94-2.06-.94L8.5 2.5l-.94 2.06-2.06.94zm10 10l.94 2.06.94-2.06 2.06-.94-2.06-.94-.94-2.06-.94 2.06-2.06.94z\"/><path d=\"M17.41 7.96l-1.37-1.37c-.4-.4-.92-.59-1.43-.59-.52 0-1.04.2-1.43.59L10.3 9.45l-7.72 7.72c-.78.78-.78 2.05 0 2.83L4 21.41c.39.39.9.59 1.41.59.51 0 1.02-.2 1.41-.59l7.78-7.78 2.81-2.81c.8-.78.8-2.07 0-2.86zM5.41 20L4 18.59l7.72-7.72 1.47 1.35L5.41 20z\"/>\n",
              "  </svg>\n",
              "      </button>\n",
              "      \n",
              "  <style>\n",
              "    .colab-df-container {\n",
              "      display:flex;\n",
              "      flex-wrap:wrap;\n",
              "      gap: 12px;\n",
              "    }\n",
              "\n",
              "    .colab-df-convert {\n",
              "      background-color: #E8F0FE;\n",
              "      border: none;\n",
              "      border-radius: 50%;\n",
              "      cursor: pointer;\n",
              "      display: none;\n",
              "      fill: #1967D2;\n",
              "      height: 32px;\n",
              "      padding: 0 0 0 0;\n",
              "      width: 32px;\n",
              "    }\n",
              "\n",
              "    .colab-df-convert:hover {\n",
              "      background-color: #E2EBFA;\n",
              "      box-shadow: 0px 1px 2px rgba(60, 64, 67, 0.3), 0px 1px 3px 1px rgba(60, 64, 67, 0.15);\n",
              "      fill: #174EA6;\n",
              "    }\n",
              "\n",
              "    [theme=dark] .colab-df-convert {\n",
              "      background-color: #3B4455;\n",
              "      fill: #D2E3FC;\n",
              "    }\n",
              "\n",
              "    [theme=dark] .colab-df-convert:hover {\n",
              "      background-color: #434B5C;\n",
              "      box-shadow: 0px 1px 3px 1px rgba(0, 0, 0, 0.15);\n",
              "      filter: drop-shadow(0px 1px 2px rgba(0, 0, 0, 0.3));\n",
              "      fill: #FFFFFF;\n",
              "    }\n",
              "  </style>\n",
              "\n",
              "      <script>\n",
              "        const buttonEl =\n",
              "          document.querySelector('#df-dbf394b5-e441-45a6-abc9-1fb18bb4eac3 button.colab-df-convert');\n",
              "        buttonEl.style.display =\n",
              "          google.colab.kernel.accessAllowed ? 'block' : 'none';\n",
              "\n",
              "        async function convertToInteractive(key) {\n",
              "          const element = document.querySelector('#df-dbf394b5-e441-45a6-abc9-1fb18bb4eac3');\n",
              "          const dataTable =\n",
              "            await google.colab.kernel.invokeFunction('convertToInteractive',\n",
              "                                                     [key], {});\n",
              "          if (!dataTable) return;\n",
              "\n",
              "          const docLinkHtml = 'Like what you see? Visit the ' +\n",
              "            '<a target=\"_blank\" href=https://colab.research.google.com/notebooks/data_table.ipynb>data table notebook</a>'\n",
              "            + ' to learn more about interactive tables.';\n",
              "          element.innerHTML = '';\n",
              "          dataTable['output_type'] = 'display_data';\n",
              "          await google.colab.output.renderOutput(dataTable, element);\n",
              "          const docLink = document.createElement('div');\n",
              "          docLink.innerHTML = docLinkHtml;\n",
              "          element.appendChild(docLink);\n",
              "        }\n",
              "      </script>\n",
              "    </div>\n",
              "  </div>\n",
              "  "
            ]
          },
          "metadata": {},
          "execution_count": 15
        }
      ]
    },
    {
      "cell_type": "markdown",
      "source": [
        "Mayor duración"
      ],
      "metadata": {
        "id": "mshT-zYB0VYe"
      }
    },
    {
      "cell_type": "code",
      "source": [
        "durations = df_peliculas.groupby(['Title', 'Duration']).size().reset_index()\n",
        "durations = durations.drop(columns=0)\n",
        "max_duration = max(durations[\"Duration\"])\n",
        "peli_mas_duracion = durations.loc[durations[\"Duration\"] == max_duration]\n",
        "peli_mas_duracion"
      ],
      "metadata": {
        "colab": {
          "base_uri": "https://localhost:8080/"
        },
        "id": "8Z02fAUuw9Nh",
        "outputId": "8efaa885-e9ad-4c27-f826-fd04bce03727"
      },
      "execution_count": null,
      "outputs": [
        {
          "output_type": "execute_result",
          "data": {
            "text/plain": [
              "                  Title  Duration\n",
              "63  El club de la pelea      8411"
            ],
            "text/html": [
              "\n",
              "  <div id=\"df-8807e929-84df-4fd2-b3bd-b6631cd9e4af\">\n",
              "    <div class=\"colab-df-container\">\n",
              "      <div>\n",
              "<style scoped>\n",
              "    .dataframe tbody tr th:only-of-type {\n",
              "        vertical-align: middle;\n",
              "    }\n",
              "\n",
              "    .dataframe tbody tr th {\n",
              "        vertical-align: top;\n",
              "    }\n",
              "\n",
              "    .dataframe thead th {\n",
              "        text-align: right;\n",
              "    }\n",
              "</style>\n",
              "<table border=\"1\" class=\"dataframe\">\n",
              "  <thead>\n",
              "    <tr style=\"text-align: right;\">\n",
              "      <th></th>\n",
              "      <th>Title</th>\n",
              "      <th>Duration</th>\n",
              "    </tr>\n",
              "  </thead>\n",
              "  <tbody>\n",
              "    <tr>\n",
              "      <th>63</th>\n",
              "      <td>El club de la pelea</td>\n",
              "      <td>8411</td>\n",
              "    </tr>\n",
              "  </tbody>\n",
              "</table>\n",
              "</div>\n",
              "      <button class=\"colab-df-convert\" onclick=\"convertToInteractive('df-8807e929-84df-4fd2-b3bd-b6631cd9e4af')\"\n",
              "              title=\"Convert this dataframe to an interactive table.\"\n",
              "              style=\"display:none;\">\n",
              "        \n",
              "  <svg xmlns=\"http://www.w3.org/2000/svg\" height=\"24px\"viewBox=\"0 0 24 24\"\n",
              "       width=\"24px\">\n",
              "    <path d=\"M0 0h24v24H0V0z\" fill=\"none\"/>\n",
              "    <path d=\"M18.56 5.44l.94 2.06.94-2.06 2.06-.94-2.06-.94-.94-2.06-.94 2.06-2.06.94zm-11 1L8.5 8.5l.94-2.06 2.06-.94-2.06-.94L8.5 2.5l-.94 2.06-2.06.94zm10 10l.94 2.06.94-2.06 2.06-.94-2.06-.94-.94-2.06-.94 2.06-2.06.94z\"/><path d=\"M17.41 7.96l-1.37-1.37c-.4-.4-.92-.59-1.43-.59-.52 0-1.04.2-1.43.59L10.3 9.45l-7.72 7.72c-.78.78-.78 2.05 0 2.83L4 21.41c.39.39.9.59 1.41.59.51 0 1.02-.2 1.41-.59l7.78-7.78 2.81-2.81c.8-.78.8-2.07 0-2.86zM5.41 20L4 18.59l7.72-7.72 1.47 1.35L5.41 20z\"/>\n",
              "  </svg>\n",
              "      </button>\n",
              "      \n",
              "  <style>\n",
              "    .colab-df-container {\n",
              "      display:flex;\n",
              "      flex-wrap:wrap;\n",
              "      gap: 12px;\n",
              "    }\n",
              "\n",
              "    .colab-df-convert {\n",
              "      background-color: #E8F0FE;\n",
              "      border: none;\n",
              "      border-radius: 50%;\n",
              "      cursor: pointer;\n",
              "      display: none;\n",
              "      fill: #1967D2;\n",
              "      height: 32px;\n",
              "      padding: 0 0 0 0;\n",
              "      width: 32px;\n",
              "    }\n",
              "\n",
              "    .colab-df-convert:hover {\n",
              "      background-color: #E2EBFA;\n",
              "      box-shadow: 0px 1px 2px rgba(60, 64, 67, 0.3), 0px 1px 3px 1px rgba(60, 64, 67, 0.15);\n",
              "      fill: #174EA6;\n",
              "    }\n",
              "\n",
              "    [theme=dark] .colab-df-convert {\n",
              "      background-color: #3B4455;\n",
              "      fill: #D2E3FC;\n",
              "    }\n",
              "\n",
              "    [theme=dark] .colab-df-convert:hover {\n",
              "      background-color: #434B5C;\n",
              "      box-shadow: 0px 1px 3px 1px rgba(0, 0, 0, 0.15);\n",
              "      filter: drop-shadow(0px 1px 2px rgba(0, 0, 0, 0.3));\n",
              "      fill: #FFFFFF;\n",
              "    }\n",
              "  </style>\n",
              "\n",
              "      <script>\n",
              "        const buttonEl =\n",
              "          document.querySelector('#df-8807e929-84df-4fd2-b3bd-b6631cd9e4af button.colab-df-convert');\n",
              "        buttonEl.style.display =\n",
              "          google.colab.kernel.accessAllowed ? 'block' : 'none';\n",
              "\n",
              "        async function convertToInteractive(key) {\n",
              "          const element = document.querySelector('#df-8807e929-84df-4fd2-b3bd-b6631cd9e4af');\n",
              "          const dataTable =\n",
              "            await google.colab.kernel.invokeFunction('convertToInteractive',\n",
              "                                                     [key], {});\n",
              "          if (!dataTable) return;\n",
              "\n",
              "          const docLinkHtml = 'Like what you see? Visit the ' +\n",
              "            '<a target=\"_blank\" href=https://colab.research.google.com/notebooks/data_table.ipynb>data table notebook</a>'\n",
              "            + ' to learn more about interactive tables.';\n",
              "          element.innerHTML = '';\n",
              "          dataTable['output_type'] = 'display_data';\n",
              "          await google.colab.output.renderOutput(dataTable, element);\n",
              "          const docLink = document.createElement('div');\n",
              "          docLink.innerHTML = docLinkHtml;\n",
              "          element.appendChild(docLink);\n",
              "        }\n",
              "      </script>\n",
              "    </div>\n",
              "  </div>\n",
              "  "
            ]
          },
          "metadata": {},
          "execution_count": 16
        }
      ]
    },
    {
      "cell_type": "markdown",
      "source": [
        "#### Generar un TOP “N” de series vistas y graficar"
      ],
      "metadata": {
        "id": "257yDV4OPpsI"
      }
    },
    {
      "cell_type": "markdown",
      "source": [
        "Guardando las series en un dataframe"
      ],
      "metadata": {
        "id": "xsyagbYmWbAm"
      }
    },
    {
      "cell_type": "code",
      "source": [
        "df_series = df[df[\"Content Type\"] == \"Serie\"]"
      ],
      "metadata": {
        "id": "qOlgevu_RtGE"
      },
      "execution_count": null,
      "outputs": []
    },
    {
      "cell_type": "markdown",
      "source": [
        "##### Por tiempo visto"
      ],
      "metadata": {
        "id": "vMCJhi7JP5Dn"
      }
    },
    {
      "cell_type": "markdown",
      "source": [
        "Guardando en un dataframe los titulos y las horas de reproduccion correspondientes"
      ],
      "metadata": {
        "id": "SZd6OCRWXqXb"
      }
    },
    {
      "cell_type": "code",
      "source": [
        "series_durations = df_series.groupby(\"Simple Title\")[[\"Duration\"]].sum()\n",
        "series_durations = series_durations.sort_values(by=\"Duration\", ascending = False).reset_index()"
      ],
      "metadata": {
        "id": "e6cu6vPyP8tR"
      },
      "execution_count": null,
      "outputs": []
    },
    {
      "cell_type": "markdown",
      "source": [
        "Creando un diccionario que contiene como keys el titulo de la series y como valor sus horas de reproducción correspondientes"
      ],
      "metadata": {
        "id": "miSIOE4kX430"
      }
    },
    {
      "cell_type": "code",
      "source": [
        "peli_duracion = {}\n",
        "\n",
        "cantidad_top_tiempo = int(input(\"De cuantas series desea hacer el top: \"))\n",
        "i = 0\n",
        "while i < cantidad_top_tiempo:\n",
        "  title = series_durations[\"Simple Title\"][i]\n",
        "  duration = int(series_durations[\"Duration\"][i] / 3600)\n",
        "  peli_duracion[title] = duration\n",
        "  i += 1"
      ],
      "metadata": {
        "id": "S4mcB8t_X_Ev",
        "outputId": "701a103d-28df-49c2-89aa-4349855c6d66",
        "colab": {
          "base_uri": "https://localhost:8080/"
        }
      },
      "execution_count": null,
      "outputs": [
        {
          "name": "stdout",
          "output_type": "stream",
          "text": [
            "De cuantas series desea hacer el top: 7\n"
          ]
        }
      ]
    },
    {
      "cell_type": "markdown",
      "source": [
        "Creando el grafico basado en el diccionario"
      ],
      "metadata": {
        "id": "ZBlPNmFNXYWJ"
      }
    },
    {
      "cell_type": "code",
      "source": [
        "fig = plt.figure(figsize = (cantidad_top_tiempo * 2, cantidad_top_tiempo * 1.5))\n",
        "plt.bar(peli_duracion.keys(), peli_duracion.values(), width = 0.5)\n",
        "\n",
        "plt.xlabel('Series', fontSize=14)\n",
        "plt.ylabel('Tiempo (hs)', fontSize=14)\n",
        "\n",
        "plt.title(\"TOP \" + str(cantidad_top_tiempo) + \" Series por tiempo visto\", fontSize = 18)\n",
        "plt.show()"
      ],
      "metadata": {
        "id": "q6a9is1EUaJA",
        "outputId": "c91eaf4a-56c7-43ec-bfa8-0435ffd35da8",
        "colab": {
          "base_uri": "https://localhost:8080/",
          "height": 657
        }
      },
      "execution_count": null,
      "outputs": [
        {
          "output_type": "display_data",
          "data": {
            "text/plain": [
              "<Figure size 1008x756 with 1 Axes>"
            ],
            "image/png": "[encoded data removed]"
          },
          "metadata": {
            "needs_background": "light"
          }
        }
      ]
    },
    {
      "cell_type": "markdown",
      "source": [
        "##### Por ocurrencias"
      ],
      "metadata": {
        "id": "JsGR5W9MP6HH"
      }
    },
    {
      "cell_type": "markdown",
      "source": [
        "Guardando en un dataframe los titulos y las ocurrencias de cada serie"
      ],
      "metadata": {
        "id": "t2vA1IRrYKwM"
      }
    },
    {
      "cell_type": "code",
      "source": [
        "series_occurrences = df_series.groupby([\"Simple Title\"]).size().reset_index()\n",
        "series_occurrences = series_occurrences.rename(columns = {0:\"Occurrences\"})\n",
        "series_occurrences = series_occurrences.sort_values(by = \"Occurrences\", ascending = False).reset_index()"
      ],
      "metadata": {
        "id": "uVKkLLZxaOU1"
      },
      "execution_count": null,
      "outputs": []
    },
    {
      "cell_type": "markdown",
      "source": [
        "Creando un diccionario que contiene como keys los titulos de las peliculas y como valores su numero de ocurrencias correspondiente"
      ],
      "metadata": {
        "id": "s3bFo4w3YTdy"
      }
    },
    {
      "cell_type": "code",
      "source": [
        "peli_ocurrencia = {}\n",
        "\n",
        "cantidad_top_ocurrencias = int(input(\"De cuantas series desea hacer el top: \"))\n",
        "i = 0\n",
        "while i < cantidad_top_ocurrencias:\n",
        "  title = series_occurrences[\"Simple Title\"][i]\n",
        "  occurrences = series_occurrences[\"Occurrences\"][i]\n",
        "  peli_ocurrencia[title] = occurrences\n",
        "  i += 1\n",
        "print(peli_ocurrencia)"
      ],
      "metadata": {
        "id": "vCNf0fUKYb_j",
        "outputId": "dbecb217-9d5a-4239-eea9-e1c8c3ba145f",
        "colab": {
          "base_uri": "https://localhost:8080/"
        }
      },
      "execution_count": null,
      "outputs": [
        {
          "output_type": "stream",
          "name": "stdout",
          "text": [
            "De cuantas series desea hacer el top: 7\n",
            "{'Community': 870, 'Cómo conocí a tu madre': 780, 'Friends': 604, 'Dr. House': 346, 'La ley de los audaces': 330, 'Brooklyn Nine-Nine': 314, 'Doctor Who': 279}\n"
          ]
        }
      ]
    },
    {
      "cell_type": "markdown",
      "source": [
        "Creando un grafico basado en el diccionario"
      ],
      "metadata": {
        "id": "XipSer8gYihl"
      }
    },
    {
      "cell_type": "code",
      "source": [
        "fig = plt.figure(figsize = (cantidad_top_ocurrencias * 2, cantidad_top_ocurrencias * 1.5))\n",
        "plt.bar(peli_ocurrencia.keys(), peli_ocurrencia.values(), width = 0.5)\n",
        "\n",
        "plt.xlabel('Series', fontSize=14)\n",
        "plt.ylabel('Ocurrencias', fontSize=14)\n",
        "\n",
        "plt.title(\"TOP \" + str(cantidad_top_ocurrencias) + \" Series por ocurrencia\", fontSize = 18)\n",
        "plt.show()"
      ],
      "metadata": {
        "id": "397TMm-FFpyK",
        "outputId": "bd3e5c6a-681b-4433-ee46-d7e05ab215a2",
        "colab": {
          "base_uri": "https://localhost:8080/",
          "height": 657
        }
      },
      "execution_count": null,
      "outputs": [
        {
          "output_type": "display_data",
          "data": {
            "text/plain": [
              "<Figure size 1008x756 with 1 Axes>"
            ],
            "image/png": "[encoded data removed]"
          },
          "metadata": {
            "needs_background": "light"
          }
        }
      ]
    },
    {
      "cell_type": "markdown",
      "source": [
        "#### Visualizar una semana de reproducciones genérica, en función a las reproducciones por día y por horario de todos los años."
      ],
      "metadata": {
        "id": "eZbjVn0oWn_p"
      }
    },
    {
      "cell_type": "markdown",
      "source": [
        "Creando las funciones que reciben una fecha y devuelven o el año o el mes o el día o la hora"
      ],
      "metadata": {
        "id": "q75R05Iranxc"
      }
    },
    {
      "cell_type": "code",
      "source": [
        "def getDateTime(input):\n",
        "  date = dt.strptime(input, '%Y-%m-%d %H:%M:%S')\n",
        "  date = (date.strftime(\"%Y-%B-%A-%d %H:%M:%S\"))\n",
        "  res = \"\"\n",
        "\n",
        "  for a in date:\n",
        "    if a == \"-\" or a == \" \" or a == \":\":\n",
        "      res += \".\"\n",
        "    else: \n",
        "      res += a\n",
        "\n",
        "  return res.split(\".\")\n",
        "\n",
        "def defineYearColumn(input):\n",
        "  res = getDateTime(input)\n",
        "  return res[0]\n",
        "\n",
        "def defineMonthColumn(input):\n",
        "  res = getDateTime(input)\n",
        "  return res[1]\n",
        "\n",
        "def defineDayColumn(input):\n",
        "  res = getDateTime(input)\n",
        "  return res[2]\n",
        "\n",
        "def defineHourColumn(input):\n",
        "  res = getDateTime(input)\n",
        "  return res[4]"
      ],
      "metadata": {
        "id": "ShndtnAOyO95"
      },
      "execution_count": null,
      "outputs": []
    },
    {
      "cell_type": "markdown",
      "source": [
        "Creando las columnas que contengan el valor de la fecha de forma separada"
      ],
      "metadata": {
        "id": "gIXVLaReegcC"
      }
    },
    {
      "cell_type": "code",
      "source": [
        "df[\"Year\"] = df[\"Start Time\"].apply(defineYearColumn)\n",
        "df[\"Month\"] = df[\"Start Time\"].apply(defineMonthColumn)\n",
        "df[\"Day\"] = df[\"Start Time\"].apply(defineDayColumn)\n",
        "df[\"Hour\"] = df[\"Start Time\"].apply(defineHourColumn)"
      ],
      "metadata": {
        "id": "WN1Dcmz5dj3c"
      },
      "execution_count": null,
      "outputs": []
    },
    {
      "cell_type": "markdown",
      "source": [
        "Creando un dataframe en el que tendra como columnas los días de la semana y como filas los rangos horarios"
      ],
      "metadata": {
        "id": "W5KTvmeRem_q"
      }
    },
    {
      "cell_type": "code",
      "source": [
        "df_graf = pd.DataFrame({}, columns=[\"Hour\", \"Monday\", \"Tuesday\", \"Wednesday\", \"Thursday\", \"Friday\", \"Saturday\", \"Sunday\"])\n",
        "df_graf[\"Hour\"] = [\"00\", \"04\", \"08\", \"12\", \"16\", \"20\"]\n",
        "df_graf = df_graf.set_index([\"Hour\"])"
      ],
      "metadata": {
        "id": "SCtxMLCxLfyv"
      },
      "execution_count": null,
      "outputs": []
    },
    {
      "cell_type": "markdown",
      "source": [
        "Obteniendo la cantidad de reproducciones por día y por rango horario y guardando el dato en el dataframe"
      ],
      "metadata": {
        "id": "xyKEB_yHLhnI"
      }
    },
    {
      "cell_type": "code",
      "source": [
        "rango_horario = {\n",
        "    \"00\":\"03\",\n",
        "    \"04\":\"07\",\n",
        "    \"08\":\"11\",\n",
        "    \"12\":\"15\",\n",
        "    \"16\":\"19\",\n",
        "    \"20\":\"23\"\n",
        "}\n",
        "\n",
        "dias = [\"Monday\", \"Tuesday\", \"Wednesday\", \"Thursday\", \"Friday\", \"Saturday\", \"Sunday\"]\n",
        "\n",
        "for dia in dias:\n",
        "  data = df.groupby([\"Title\", \"Day\", \"Hour\"]).size().reset_index()\n",
        "  data = data[data[\"Day\"] == dia]\n",
        "  \n",
        "  prom_dia = []\n",
        "  \n",
        "  for h in rango_horario:\n",
        "    filtered_data = data[data[\"Hour\"].between(h, rango_horario[h])]\n",
        "    prom_dia.append(len(filtered_data))\n",
        "\n",
        "  df_graf[dia] = prom_dia\n",
        "print(df_graf)"
      ],
      "metadata": {
        "colab": {
          "base_uri": "https://localhost:8080/"
        },
        "id": "XfQ-EiLReolr",
        "outputId": "2fda64e9-d861-409b-ce23-4dc4c6e82647"
      },
      "execution_count": null,
      "outputs": [
        {
          "output_type": "stream",
          "name": "stdout",
          "text": [
            "      Monday  Tuesday  Wednesday  Thursday  Friday  Saturday  Sunday\n",
            "Hour                                                                \n",
            "00       301      323        259       313     262       315     249\n",
            "04        60       73         44        44      69        75      91\n",
            "08         1        2          2         0       4         0       2\n",
            "12        38       40         37        56      62       112      46\n",
            "16       166      156        146       210     197       179     197\n",
            "20       211      183        162       232     225       204     214\n"
          ]
        }
      ]
    },
    {
      "cell_type": "markdown",
      "source": [
        "Creando el grafico a partir del dataframe"
      ],
      "metadata": {
        "id": "mOHEDsw3MGFc"
      }
    },
    {
      "cell_type": "code",
      "source": [
        "df_graf.style.background_gradient(cmap='Blues')"
      ],
      "metadata": {
        "id": "wX6CqKraMIYA",
        "colab": {
          "base_uri": "https://localhost:8080/"
        },
        "outputId": "fb3634c0-d60d-49ec-d5b9-7345b571b8f7"
      },
      "execution_count": null,
      "outputs": [
        {
          "output_type": "execute_result",
          "data": {
            "text/plain": [
              "<pandas.io.formats.style.Styler at 0x7f4e4259ae10>"
            ],
            "text/html": [
              "<style type=\"text/css\">\n",
              "#T_3515a_row0_col0, #T_3515a_row0_col1, #T_3515a_row0_col2, #T_3515a_row0_col3, #T_3515a_row0_col4, #T_3515a_row0_col5, #T_3515a_row0_col6 {\n",
              "  background-color: #08306b;\n",
              "  color: #f1f1f1;\n",
              "}\n",
              "#T_3515a_row1_col0 {\n",
              "  background-color: #d0e2f2;\n",
              "  color: #000000;\n",
              "}\n",
              "#T_3515a_row1_col1 {\n",
              "  background-color: #ccdff1;\n",
              "  color: #000000;\n",
              "}\n",
              "#T_3515a_row1_col2 {\n",
              "  background-color: #d7e6f5;\n",
              "  color: #000000;\n",
              "}\n",
              "#T_3515a_row1_col3 {\n",
              "  background-color: #dce9f6;\n",
              "  color: #000000;\n",
              "}\n",
              "#T_3515a_row1_col4 {\n",
              "  background-color: #c6dbef;\n",
              "  color: #000000;\n",
              "}\n",
              "#T_3515a_row1_col5 {\n",
              "  background-color: #c9ddf0;\n",
              "  color: #000000;\n",
              "}\n",
              "#T_3515a_row1_col6 {\n",
              "  background-color: #a3cce3;\n",
              "  color: #000000;\n",
              "}\n",
              "#T_3515a_row2_col0, #T_3515a_row2_col1, #T_3515a_row2_col2, #T_3515a_row2_col3, #T_3515a_row2_col4, #T_3515a_row2_col5, #T_3515a_row2_col6 {\n",
              "  background-color: #f7fbff;\n",
              "  color: #000000;\n",
              "}\n",
              "#T_3515a_row3_col0 {\n",
              "  background-color: #dfebf7;\n",
              "  color: #000000;\n",
              "}\n",
              "#T_3515a_row3_col1 {\n",
              "  background-color: #dfecf7;\n",
              "  color: #000000;\n",
              "}\n",
              "#T_3515a_row3_col2 {\n",
              "  background-color: #dceaf6;\n",
              "  color: #000000;\n",
              "}\n",
              "#T_3515a_row3_col3, #T_3515a_row3_col6 {\n",
              "  background-color: #d4e4f4;\n",
              "  color: #000000;\n",
              "}\n",
              "#T_3515a_row3_col4 {\n",
              "  background-color: #cbdef1;\n",
              "  color: #000000;\n",
              "}\n",
              "#T_3515a_row3_col5 {\n",
              "  background-color: #a4cce3;\n",
              "  color: #000000;\n",
              "}\n",
              "#T_3515a_row4_col0 {\n",
              "  background-color: #5ba3d0;\n",
              "  color: #f1f1f1;\n",
              "}\n",
              "#T_3515a_row4_col1 {\n",
              "  background-color: #74b3d8;\n",
              "  color: #000000;\n",
              "}\n",
              "#T_3515a_row4_col2 {\n",
              "  background-color: #57a0ce;\n",
              "  color: #f1f1f1;\n",
              "}\n",
              "#T_3515a_row4_col3 {\n",
              "  background-color: #3686c0;\n",
              "  color: #f1f1f1;\n",
              "}\n",
              "#T_3515a_row4_col4 {\n",
              "  background-color: #2171b5;\n",
              "  color: #f1f1f1;\n",
              "}\n",
              "#T_3515a_row4_col5 {\n",
              "  background-color: #549fcd;\n",
              "  color: #f1f1f1;\n",
              "}\n",
              "#T_3515a_row4_col6 {\n",
              "  background-color: #1966ad;\n",
              "  color: #f1f1f1;\n",
              "}\n",
              "#T_3515a_row5_col0 {\n",
              "  background-color: #2e7ebc;\n",
              "  color: #f1f1f1;\n",
              "}\n",
              "#T_3515a_row5_col1 {\n",
              "  background-color: #56a0ce;\n",
              "  color: #f1f1f1;\n",
              "}\n",
              "#T_3515a_row5_col2 {\n",
              "  background-color: #4292c6;\n",
              "  color: #f1f1f1;\n",
              "}\n",
              "#T_3515a_row5_col3 {\n",
              "  background-color: #2373b6;\n",
              "  color: #f1f1f1;\n",
              "}\n",
              "#T_3515a_row5_col4, #T_3515a_row5_col6 {\n",
              "  background-color: #0b559f;\n",
              "  color: #f1f1f1;\n",
              "}\n",
              "#T_3515a_row5_col5 {\n",
              "  background-color: #3c8cc3;\n",
              "  color: #f1f1f1;\n",
              "}\n",
              "</style>\n",
              "<table id=\"T_3515a_\" class=\"dataframe\">\n",
              "  <thead>\n",
              "    <tr>\n",
              "      <th class=\"blank level0\" >&nbsp;</th>\n",
              "      <th class=\"col_heading level0 col0\" >Monday</th>\n",
              "      <th class=\"col_heading level0 col1\" >Tuesday</th>\n",
              "      <th class=\"col_heading level0 col2\" >Wednesday</th>\n",
              "      <th class=\"col_heading level0 col3\" >Thursday</th>\n",
              "      <th class=\"col_heading level0 col4\" >Friday</th>\n",
              "      <th class=\"col_heading level0 col5\" >Saturday</th>\n",
              "      <th class=\"col_heading level0 col6\" >Sunday</th>\n",
              "    </tr>\n",
              "    <tr>\n",
              "      <th class=\"index_name level0\" >Hour</th>\n",
              "      <th class=\"blank col0\" >&nbsp;</th>\n",
              "      <th class=\"blank col1\" >&nbsp;</th>\n",
              "      <th class=\"blank col2\" >&nbsp;</th>\n",
              "      <th class=\"blank col3\" >&nbsp;</th>\n",
              "      <th class=\"blank col4\" >&nbsp;</th>\n",
              "      <th class=\"blank col5\" >&nbsp;</th>\n",
              "      <th class=\"blank col6\" >&nbsp;</th>\n",
              "    </tr>\n",
              "  </thead>\n",
              "  <tbody>\n",
              "    <tr>\n",
              "      <th id=\"T_3515a_level0_row0\" class=\"row_heading level0 row0\" >00</th>\n",
              "      <td id=\"T_3515a_row0_col0\" class=\"data row0 col0\" >301</td>\n",
              "      <td id=\"T_3515a_row0_col1\" class=\"data row0 col1\" >323</td>\n",
              "      <td id=\"T_3515a_row0_col2\" class=\"data row0 col2\" >259</td>\n",
              "      <td id=\"T_3515a_row0_col3\" class=\"data row0 col3\" >313</td>\n",
              "      <td id=\"T_3515a_row0_col4\" class=\"data row0 col4\" >262</td>\n",
              "      <td id=\"T_3515a_row0_col5\" class=\"data row0 col5\" >315</td>\n",
              "      <td id=\"T_3515a_row0_col6\" class=\"data row0 col6\" >249</td>\n",
              "    </tr>\n",
              "    <tr>\n",
              "      <th id=\"T_3515a_level0_row1\" class=\"row_heading level0 row1\" >04</th>\n",
              "      <td id=\"T_3515a_row1_col0\" class=\"data row1 col0\" >60</td>\n",
              "      <td id=\"T_3515a_row1_col1\" class=\"data row1 col1\" >73</td>\n",
              "      <td id=\"T_3515a_row1_col2\" class=\"data row1 col2\" >44</td>\n",
              "      <td id=\"T_3515a_row1_col3\" class=\"data row1 col3\" >44</td>\n",
              "      <td id=\"T_3515a_row1_col4\" class=\"data row1 col4\" >69</td>\n",
              "      <td id=\"T_3515a_row1_col5\" class=\"data row1 col5\" >75</td>\n",
              "      <td id=\"T_3515a_row1_col6\" class=\"data row1 col6\" >91</td>\n",
              "    </tr>\n",
              "    <tr>\n",
              "      <th id=\"T_3515a_level0_row2\" class=\"row_heading level0 row2\" >08</th>\n",
              "      <td id=\"T_3515a_row2_col0\" class=\"data row2 col0\" >1</td>\n",
              "      <td id=\"T_3515a_row2_col1\" class=\"data row2 col1\" >2</td>\n",
              "      <td id=\"T_3515a_row2_col2\" class=\"data row2 col2\" >2</td>\n",
              "      <td id=\"T_3515a_row2_col3\" class=\"data row2 col3\" >0</td>\n",
              "      <td id=\"T_3515a_row2_col4\" class=\"data row2 col4\" >4</td>\n",
              "      <td id=\"T_3515a_row2_col5\" class=\"data row2 col5\" >0</td>\n",
              "      <td id=\"T_3515a_row2_col6\" class=\"data row2 col6\" >2</td>\n",
              "    </tr>\n",
              "    <tr>\n",
              "      <th id=\"T_3515a_level0_row3\" class=\"row_heading level0 row3\" >12</th>\n",
              "      <td id=\"T_3515a_row3_col0\" class=\"data row3 col0\" >38</td>\n",
              "      <td id=\"T_3515a_row3_col1\" class=\"data row3 col1\" >40</td>\n",
              "      <td id=\"T_3515a_row3_col2\" class=\"data row3 col2\" >37</td>\n",
              "      <td id=\"T_3515a_row3_col3\" class=\"data row3 col3\" >56</td>\n",
              "      <td id=\"T_3515a_row3_col4\" class=\"data row3 col4\" >62</td>\n",
              "      <td id=\"T_3515a_row3_col5\" class=\"data row3 col5\" >112</td>\n",
              "      <td id=\"T_3515a_row3_col6\" class=\"data row3 col6\" >46</td>\n",
              "    </tr>\n",
              "    <tr>\n",
              "      <th id=\"T_3515a_level0_row4\" class=\"row_heading level0 row4\" >16</th>\n",
              "      <td id=\"T_3515a_row4_col0\" class=\"data row4 col0\" >166</td>\n",
              "      <td id=\"T_3515a_row4_col1\" class=\"data row4 col1\" >156</td>\n",
              "      <td id=\"T_3515a_row4_col2\" class=\"data row4 col2\" >146</td>\n",
              "      <td id=\"T_3515a_row4_col3\" class=\"data row4 col3\" >210</td>\n",
              "      <td id=\"T_3515a_row4_col4\" class=\"data row4 col4\" >197</td>\n",
              "      <td id=\"T_3515a_row4_col5\" class=\"data row4 col5\" >179</td>\n",
              "      <td id=\"T_3515a_row4_col6\" class=\"data row4 col6\" >197</td>\n",
              "    </tr>\n",
              "    <tr>\n",
              "      <th id=\"T_3515a_level0_row5\" class=\"row_heading level0 row5\" >20</th>\n",
              "      <td id=\"T_3515a_row5_col0\" class=\"data row5 col0\" >211</td>\n",
              "      <td id=\"T_3515a_row5_col1\" class=\"data row5 col1\" >183</td>\n",
              "      <td id=\"T_3515a_row5_col2\" class=\"data row5 col2\" >162</td>\n",
              "      <td id=\"T_3515a_row5_col3\" class=\"data row5 col3\" >232</td>\n",
              "      <td id=\"T_3515a_row5_col4\" class=\"data row5 col4\" >225</td>\n",
              "      <td id=\"T_3515a_row5_col5\" class=\"data row5 col5\" >204</td>\n",
              "      <td id=\"T_3515a_row5_col6\" class=\"data row5 col6\" >214</td>\n",
              "    </tr>\n",
              "  </tbody>\n",
              "</table>\n"
            ]
          },
          "metadata": {},
          "execution_count": 28
        }
      ]
    },
    {
      "cell_type": "code",
      "source": [
        "fig = plt.figure(figsize = (10, 7.5))\n",
        "sns.set(font_scale=1.4)\n",
        "s = sns.heatmap(df_graf, cmap = \"Blues\", linewidths=0.1)\n",
        "s.set_xlabel(\"Day\", fontSize = 18)\n",
        "s"
      ],
      "metadata": {
        "colab": {
          "base_uri": "https://localhost:8080/"
        },
        "id": "V6YovqvFpQYa",
        "outputId": "16550c40-3842-4780-afa2-3a4dfeffaef5"
      },
      "execution_count": null,
      "outputs": [
        {
          "output_type": "execute_result",
          "data": {
            "text/plain": [
              "<matplotlib.axes._subplots.AxesSubplot at 0x7f4e424f8310>"
            ]
          },
          "metadata": {},
          "execution_count": 29
        },
        {
          "output_type": "display_data",
          "data": {
            "text/plain": [
              "<Figure size 720x540 with 2 Axes>"
            ],
            "image/png": "[encoded data removed]"
          },
          "metadata": {
            "needs_background": "light"
          }
        }
      ]
    },
    {
      "cell_type": "markdown",
      "source": [
        "#### Contabilizar la cantidad de títulos vistos por año, graficar su variación a través de los años."
      ],
      "metadata": {
        "id": "IEeieq775_uN"
      }
    },
    {
      "cell_type": "markdown",
      "source": [
        "Guardando en un diccionario como keys los años y como valores la cantidad de titulos correspondiente. Con titulos me refiero a contenidos distintos. Ej: Si viste 2 veces una serie solo cuenta una vez para este ejercicio. "
      ],
      "metadata": {
        "id": "JNI2s3EJHnQg"
      }
    },
    {
      "cell_type": "code",
      "source": [
        "titulos_total = df.groupby([\"Simple Title\", \"Year\"]).size().reset_index()\n",
        "\n",
        "años_vistos = [\"2015\", \"2016\", \"2017\", \"2018\", \"2019\", \"2020\", \"2021\", \"2022\"]\n",
        "\n",
        "años_titulos = {}\n",
        "\n",
        "for i in años_vistos:\n",
        "  años_titulos[i] = titulos_total[titulos_total[\"Year\"] == i][0].count()\n",
        "\n",
        "años_titulos"
      ],
      "metadata": {
        "colab": {
          "base_uri": "https://localhost:8080/"
        },
        "id": "AMQmc5EQ62Zi",
        "outputId": "932521f6-af28-42aa-b51e-a49836d807b6"
      },
      "execution_count": null,
      "outputs": [
        {
          "output_type": "execute_result",
          "data": {
            "text/plain": [
              "{'2015': 81,\n",
              " '2016': 39,\n",
              " '2017': 78,\n",
              " '2018': 52,\n",
              " '2019': 45,\n",
              " '2020': 29,\n",
              " '2021': 26,\n",
              " '2022': 11}"
            ]
          },
          "metadata": {},
          "execution_count": 30
        }
      ]
    },
    {
      "cell_type": "markdown",
      "source": [
        "Graficando la variación a traves de los años usando el diccionario"
      ],
      "metadata": {
        "id": "YbY3bqWe_Wkc"
      }
    },
    {
      "cell_type": "code",
      "source": [
        "fig = plt.figure(figsize = (10, 7.5))\n",
        "plt.bar(años_titulos.keys(), años_titulos.values(), width = 0.5)\n",
        "\n",
        "plt.xlabel(\"Años\", fontSize = 12)\n",
        "plt.ylabel(\"Titulos\", fontSize = 12)\n",
        "\n",
        "plt.title(\"Titulos vistos a traves de los años\", fontSize = 16)\n",
        "plt.show()"
      ],
      "metadata": {
        "colab": {
          "base_uri": "https://localhost:8080/"
        },
        "id": "up_rpbxC_Zsz",
        "outputId": "bc1d9f0c-c38d-4dfd-c18f-303a9ab9521f"
      },
      "execution_count": null,
      "outputs": [
        {
          "output_type": "display_data",
          "data": {
            "text/plain": [
              "<Figure size 720x540 with 1 Axes>"
            ],
            "image/png": "[encoded data removed]"
          },
          "metadata": {}
        }
      ]
    },
    {
      "cell_type": "markdown",
      "source": [
        "#### Total de días de todos los títulos reproducidos."
      ],
      "metadata": {
        "id": "dmyAx4_Y6FzD"
      }
    },
    {
      "cell_type": "code",
      "source": [
        "total_dias = int(df[\"Duration\"].sum() / 60 / 60 / 24)\n",
        "print(\"El total de días de todos los títulos reproducidos es \" + str(total_dias))"
      ],
      "metadata": {
        "colab": {
          "base_uri": "https://localhost:8080/"
        },
        "id": "1kd56rME7J_o",
        "outputId": "c812f36f-bca9-4c31-ccb3-7b249f1c0867"
      },
      "execution_count": null,
      "outputs": [
        {
          "output_type": "stream",
          "name": "stdout",
          "text": [
            "El total de días de todos los títulos reproducidos es 99\n"
          ]
        }
      ]
    },
    {
      "cell_type": "markdown",
      "source": [
        "#### Bonus"
      ],
      "metadata": {
        "id": "g0_baB734sC9"
      }
    },
    {
      "cell_type": "markdown",
      "source": [
        "##### Identificar cuál fue la película de Star Wars más veces vista por duración."
      ],
      "metadata": {
        "id": "JtoHMx6R4zkM"
      }
    },
    {
      "cell_type": "code",
      "source": [
        "star_wars_df = df[df[\"Simple Title\"] == \"Star Wars\"][df[\"Content Type\"] == \"Pelicula\"]\n",
        "star_wars_df = star_wars_df.groupby([\"Title\", \"Duration\"]).size().reset_index()\n",
        "\n",
        "movie_names = star_wars_df[\"Title\"].unique()\n",
        "\n",
        "movie_duration = {}\n",
        "\n",
        "max_duration = 0\n",
        "res = \"\"\n",
        "\n",
        "for m in movie_names:\n",
        "  total_duration = star_wars_df.loc[star_wars_df[\"Title\"] == m, \"Duration\"].sum()\n",
        "  \n",
        "  if(total_duration > max_duration):\n",
        "    max_duration = total_duration\n",
        "    res = m\n",
        "\n",
        "print(\"Pelicula más vista: \" + res + \". Su tiempo de reproducción fue de \" + str(int(max_duration / 60 / 60)) + \" horas\")"
      ],
      "metadata": {
        "colab": {
          "base_uri": "https://localhost:8080/"
        },
        "id": "XKAIWW_y4um2",
        "outputId": "f4708836-377e-455e-fbe7-96012a405d99"
      },
      "execution_count": null,
      "outputs": [
        {
          "output_type": "stream",
          "name": "stdout",
          "text": [
            "Pelicula más vista: Star Wars: El Imperio contraataca. Su tiempo de reproducción fue de 8 horas\n"
          ]
        },
        {
          "output_type": "stream",
          "name": "stderr",
          "text": [
            "/usr/local/lib/python3.7/dist-packages/ipykernel_launcher.py:1: UserWarning: Boolean Series key will be reindexed to match DataFrame index.\n",
            "  \"\"\"Entry point for launching an IPython kernel.\n"
          ]
        }
      ]
    },
    {
      "cell_type": "markdown",
      "source": [
        "##### Utilizando la API de IMDb (u otra):\n",
        " - Mostrar el póster de las películas más vistas, y de las series.\n",
        " - Encontrar el género de series y el de películas más ocurrente.\n"
      ],
      "metadata": {
        "id": "rmo-Wc014hDp"
      }
    },
    {
      "cell_type": "markdown",
      "source": [
        "Instalar la API de IMDb"
      ],
      "metadata": {
        "id": "3E6EONt2UDM0"
      }
    },
    {
      "cell_type": "code",
      "source": [
        "!pip install IMDbPY"
      ],
      "metadata": {
        "id": "zSaNW_kR4p3q",
        "colab": {
          "base_uri": "https://localhost:8080/"
        },
        "outputId": "464b7fd4-d397-4edc-c8ac-a71dfb3b0f4e"
      },
      "execution_count": null,
      "outputs": [
        {
          "output_type": "stream",
          "name": "stdout",
          "text": [
            "Looking in indexes: https://pypi.org/simple, https://us-python.pkg.dev/colab-wheels/public/simple/\n",
            "Collecting IMDbPY\n",
            "  Downloading IMDbPY-2022.7.9-py3-none-any.whl (1.2 kB)\n",
            "Collecting cinemagoer\n",
            "  Downloading cinemagoer-2022.2.11-py3-none-any.whl (301 kB)\n",
            "\u001b[K     |████████████████████████████████| 301 kB 5.1 MB/s \n",
            "\u001b[?25hRequirement already satisfied: lxml in /usr/local/lib/python3.7/dist-packages (from cinemagoer->IMDbPY) (4.9.1)\n",
            "Requirement already satisfied: SQLAlchemy in /usr/local/lib/python3.7/dist-packages (from cinemagoer->IMDbPY) (1.4.40)\n",
            "Requirement already satisfied: importlib-metadata in /usr/local/lib/python3.7/dist-packages (from SQLAlchemy->cinemagoer->IMDbPY) (4.12.0)\n",
            "Requirement already satisfied: greenlet!=0.4.17 in /usr/local/lib/python3.7/dist-packages (from SQLAlchemy->cinemagoer->IMDbPY) (1.1.3)\n",
            "Requirement already satisfied: zipp>=0.5 in /usr/local/lib/python3.7/dist-packages (from importlib-metadata->SQLAlchemy->cinemagoer->IMDbPY) (3.8.1)\n",
            "Requirement already satisfied: typing-extensions>=3.6.4 in /usr/local/lib/python3.7/dist-packages (from importlib-metadata->SQLAlchemy->cinemagoer->IMDbPY) (4.1.1)\n",
            "Installing collected packages: cinemagoer, IMDbPY\n",
            "Successfully installed IMDbPY-2022.7.9 cinemagoer-2022.2.11\n"
          ]
        }
      ]
    },
    {
      "cell_type": "markdown",
      "source": [
        "Importar las librerias"
      ],
      "metadata": {
        "id": "aXJ87rr9UHni"
      }
    },
    {
      "cell_type": "code",
      "source": [
        "import imdb \n",
        "from PIL import Image\n",
        "from urllib.request import urlopen"
      ],
      "metadata": {
        "id": "SafN0hguJODT"
      },
      "execution_count": null,
      "outputs": []
    },
    {
      "cell_type": "markdown",
      "source": [
        "Sacar el poster de la película según su nombre"
      ],
      "metadata": {
        "id": "COzNKjJgcOwQ"
      }
    },
    {
      "cell_type": "code",
      "source": [
        "ia = imdb.IMDb() \n",
        "name = peli_mas_ocurrida[\"Title\"].unique()[0]\n",
        "\n",
        "search = ia.search_movie(name) \n",
        "\n",
        "# loop for printing the name and id\n",
        "\n",
        "cover = (search[0].data['cover url'])\n",
        "print(cover)"
      ],
      "metadata": {
        "id": "bs4buFhDN1Jj",
        "colab": {
          "base_uri": "https://localhost:8080/"
        },
        "outputId": "58d8cc62-b902-43cd-8508-710c3ff51504"
      },
      "execution_count": null,
      "outputs": [
        {
          "output_type": "stream",
          "name": "stdout",
          "text": [
            "https://m.media-amazon.com/images/M/MV5BOTgwMzFiMWYtZDhlNS00ODNkLWJiODAtZDVhNzgyNzJhYjQ4L2ltYWdlXkEyXkFqcGdeQXVyNzEzOTYxNTQ@._V1_UX32_CR0,0,32,44_AL_.jpg\n"
          ]
        }
      ]
    },
    {
      "cell_type": "markdown",
      "source": [
        "Mostrar el poster de la película más vista"
      ],
      "metadata": {
        "id": "vn0FQvbhC40G"
      }
    },
    {
      "cell_type": "code",
      "source": [
        "img = Image.open(urlopen(cover))\n",
        "size= 72,72\n",
        "img = img.resize(size)\n",
        "display(img)"
      ],
      "metadata": {
        "colab": {
          "base_uri": "https://localhost:8080/",
          "height": 89
        },
        "id": "ZQQS3VUocntr",
        "outputId": "34b600cb-78e2-439d-d67f-8535972a00f6"
      },
      "execution_count": null,
      "outputs": [
        {
          "output_type": "display_data",
          "data": {
            "text/plain": [
              "<PIL.Image.Image image mode=RGB size=72x72 at 0x7F4E3D4DA190>"
            ],
            "image/png": "[encoded data removed]"
          },
          "metadata": {}
        }
      ]
    },
    {
      "cell_type": "markdown",
      "source": [
        "Género de la película más vista"
      ],
      "metadata": {
        "id": "vJcrCL0vwtJk"
      }
    },
    {
      "cell_type": "code",
      "source": [
        "for i in range(len(search)):\n",
        "      \n",
        "    # getting the id\n",
        "    id = search[0].movieID\n",
        "    id_peli = ia.get_movie(id)\n",
        "\n",
        "genre = id_peli.data['genres']\n",
        "print(genre)"
      ],
      "metadata": {
        "colab": {
          "base_uri": "https://localhost:8080/"
        },
        "id": "AeOxnh9Uwv1x",
        "outputId": "a09a1c74-29a9-47f4-acfb-76e34f0d039b"
      },
      "execution_count": null,
      "outputs": [
        {
          "output_type": "stream",
          "name": "stdout",
          "text": [
            "['Biography', 'Drama', 'Thriller', 'War']\n"
          ]
        }
      ]
    },
    {
      "cell_type": "markdown",
      "source": [
        "Serie más vista"
      ],
      "metadata": {
        "id": "Yr9yWVbUph6w"
      }
    },
    {
      "cell_type": "code",
      "source": [
        "name_serie = list(peli_ocurrencia.keys())[0]\n",
        "print(name_serie)\n",
        "search_serie = ia.search_movie(name_serie) \n",
        "print(search_serie)\n",
        "\n",
        "cover_serie = (search_serie[0].data['cover url'])\n",
        "print(cover_serie)"
      ],
      "metadata": {
        "colab": {
          "base_uri": "https://localhost:8080/"
        },
        "id": "yBnweCoeqC7b",
        "outputId": "a464df41-6166-4521-bbd7-b629d1a2cb61"
      },
      "execution_count": null,
      "outputs": [
        {
          "output_type": "stream",
          "name": "stdout",
          "text": [
            "Community\n",
            "[<Movie id:1439629[http] title:_\"Community\" (2009)_>, <Movie id:2087720[http] title:_Community (2012)_>, <Movie id:0154206[http] title:_Bara-Dari (1955)_>, <Movie id:12434942[http] title:_Community Table Read (2020) (V)_>, <Movie id:0101158[http] title:_\"Nurses\" (1991)_>, <Movie id:0059431[http] title:_Marriage on the Rocks (1965)_>, <Movie id:3152622[http] title:_\"Community College Chronicles\" (2009) (mini)_>, <Movie id:17522580[http] title:_\"Community: Webisodes\" (2009)_>, <Movie id:0097100[http] title:_Communion (1989)_>, <Movie id:5531006[http] title:_Community (None)_>, <Movie id:8355268[http] title:_\"The Community\" (2017)_>, <Movie id:4565632[http] title:_Community (II) (2015)_>, <Movie id:6966160[http] title:_\"Jim Shockey's Uncharted\" Community (2017)_>, <Movie id:5907110[http] title:_\"Your World\" Community (1963)_>, <Movie id:15451308[http] title:_\"Sisimpur\" Community (2008)_>, <Movie id:0836882[http] title:_\"Close to Home\" Community (2006)_>, <Movie id:7130540[http] title:_Community (2016)_>, <Movie id:12892358[http] title:_\"Proud to be Deaf + Queer\" Community (2020)_>, <Movie id:14222108[http] title:_\"Worn Stories\" Community (2021)_>, <Movie id:4344638[http] title:_\"Zero: Black Blood\" Community (2014)_>]\n",
            "https://m.media-amazon.com/images/M/MV5BNDQ5NDZiYjktZmFmMy00MjAxLTk1MDktOGZjYTY5YTE1ODdmXkEyXkFqcGdeQXVyNjcwMzEzMTU@._V1_UX32_CR0,0,32,44_AL_.jpg\n"
          ]
        }
      ]
    },
    {
      "cell_type": "markdown",
      "source": [
        "Mostrar el poster de la serie más vista"
      ],
      "metadata": {
        "id": "nhalxjnNweDW"
      }
    },
    {
      "cell_type": "code",
      "source": [
        "img_serie = Image.open(urlopen(cover_serie))\n",
        "size = 72, 72\n",
        "img_serie = img_serie.resize(size)\n",
        "display(img_serie)"
      ],
      "metadata": {
        "colab": {
          "base_uri": "https://localhost:8080/",
          "height": 89
        },
        "id": "3qDDbZkNrHtA",
        "outputId": "6fb340dd-66a8-4a88-e228-e4850a74b55a"
      },
      "execution_count": null,
      "outputs": [
        {
          "output_type": "display_data",
          "data": {
            "text/plain": [
              "<PIL.Image.Image image mode=RGB size=72x72 at 0x7F4E3F71D8D0>"
            ],
            "image/png": "[encoded data removed]"
          },
          "metadata": {}
        }
      ]
    },
    {
      "cell_type": "markdown",
      "source": [
        "Género de la serie más vista"
      ],
      "metadata": {
        "id": "IXteE3mWwoqK"
      }
    },
    {
      "cell_type": "code",
      "source": [
        "for i in range(len(search_serie)):\n",
        "      \n",
        "    # getting the id\n",
        "    id_serie = search_serie[0].movieID\n",
        "    id_serie_ = ia.get_movie(id_serie)\n",
        "\n",
        "genre_serie = id_serie_.data['genres']\n",
        "print(genre_serie)"
      ],
      "metadata": {
        "colab": {
          "base_uri": "https://localhost:8080/"
        },
        "id": "ZGD0w5R4wxIY",
        "outputId": "33dcbff0-c5b4-41a0-be9b-e20a76ae1993"
      },
      "execution_count": null,
      "outputs": [
        {
          "output_type": "stream",
          "name": "stdout",
          "text": [
            "['Comedy']\n"
          ]
        }
      ]
    },
    {
      "cell_type": "markdown",
      "source": [
        "## Mostrando el dataframe"
      ],
      "metadata": {
        "id": "l1uL78Cahd6S"
      }
    },
    {
      "cell_type": "code",
      "source": [
        "original_df = pd.read_csv(\"NetflixHistory.csv\")"
      ],
      "metadata": {
        "id": "QSvRUpW1vVRj"
      },
      "execution_count": null,
      "outputs": []
    },
    {
      "cell_type": "code",
      "source": [
        "df"
      ],
      "metadata": {
        "id": "jq1ilVZnS6Gq",
        "colab": {
          "base_uri": "https://localhost:8080/",
          "height": 1000
        },
        "outputId": "6371b9df-adff-43db-d3bc-0c6eceff03dc"
      },
      "execution_count": null,
      "outputs": [
        {
          "output_type": "execute_result",
          "data": {
            "text/plain": [
              "       Unnamed: 0           Start Time  Duration  \\\n",
              "0               0  2022-08-21 19:54:53       174   \n",
              "1               1  2022-08-21 19:33:17      1293   \n",
              "2               2  2022-08-21 19:11:40      1288   \n",
              "3               3  2022-08-21 18:50:27      1241   \n",
              "4               4  2022-08-21 18:16:34      1280   \n",
              "...           ...                  ...       ...   \n",
              "12992       12992  2015-01-08 19:21:21       249   \n",
              "12993       12993  2015-01-08 19:20:47        15   \n",
              "12994       12994  2015-01-08 19:18:32        37   \n",
              "12995       12995  2015-01-08 19:16:45        18   \n",
              "12996       12996  2015-01-08 19:15:14        18   \n",
              "\n",
              "                                                   Title  \\\n",
              "0      Community: Temporada 3: Teoría del caos correc...   \n",
              "1      Community: Temporada 3: Ecología competitiva (...   \n",
              "2      Community: Temporada 3: Geografía del conflict...   \n",
              "3      Community: Temporada 2: Intermediate Documenta...   \n",
              "4      Community: Temporada 3: El documental (Capítul...   \n",
              "...                                                  ...   \n",
              "12992    Lost: Temporada 1: Éxodo: Parte 1 (Capítulo 23)   \n",
              "12993  Lost: Temporada 1: Nacida para correr (Capítul...   \n",
              "12994    Lost: Temporada 1: Éxodo: Parte 1 (Capítulo 23)   \n",
              "12995    Lost: Temporada 1: Éxodo: Parte 1 (Capítulo 23)   \n",
              "12996    Lost: Temporada 1: Éxodo: Parte 1 (Capítulo 23)   \n",
              "\n",
              "                     Device Type  Bookmark  Latest Bookmark Content Type  \\\n",
              "0      Apple Apple TV 4 Apple TV  00:02:55         00:02:55        Serie   \n",
              "1      Apple Apple TV 4 Apple TV  00:21:33         00:21:33        Serie   \n",
              "2      Apple Apple TV 4 Apple TV  00:21:28         00:21:28        Serie   \n",
              "3      Apple Apple TV 4 Apple TV  00:21:02         00:21:02        Serie   \n",
              "4      Apple Apple TV 4 Apple TV  00:21:21         00:21:21        Serie   \n",
              "...                          ...       ...              ...          ...   \n",
              "12992       Apple TV 3 (revised)  00:04:40  Not latest view        Serie   \n",
              "12993       Apple TV 3 (revised)  00:00:14  Not latest view        Serie   \n",
              "12994       Apple TV 3 (revised)  00:00:37  Not latest view        Serie   \n",
              "12995       Apple TV 3 (revised)  00:00:18  Not latest view        Serie   \n",
              "12996       Apple TV 3 (revised)  00:00:18  Not latest view        Serie   \n",
              "\n",
              "      Simple Title  Year    Month       Day Hour  \n",
              "0        Community  2022   August    Sunday   19  \n",
              "1        Community  2022   August    Sunday   19  \n",
              "2        Community  2022   August    Sunday   19  \n",
              "3        Community  2022   August    Sunday   18  \n",
              "4        Community  2022   August    Sunday   18  \n",
              "...            ...   ...      ...       ...  ...  \n",
              "12992         Lost  2015  January  Thursday   19  \n",
              "12993         Lost  2015  January  Thursday   19  \n",
              "12994         Lost  2015  January  Thursday   19  \n",
              "12995         Lost  2015  January  Thursday   19  \n",
              "12996         Lost  2015  January  Thursday   19  \n",
              "\n",
              "[6201 rows x 13 columns]"
            ],
            "text/html": [
              "\n",
              "  <div id=\"df-ee4718fd-4b93-4728-8051-66307e06841e\">\n",
              "    <div class=\"colab-df-container\">\n",
              "      <div>\n",
              "<style scoped>\n",
              "    .dataframe tbody tr th:only-of-type {\n",
              "        vertical-align: middle;\n",
              "    }\n",
              "\n",
              "    .dataframe tbody tr th {\n",
              "        vertical-align: top;\n",
              "    }\n",
              "\n",
              "    .dataframe thead th {\n",
              "        text-align: right;\n",
              "    }\n",
              "</style>\n",
              "<table border=\"1\" class=\"dataframe\">\n",
              "  <thead>\n",
              "    <tr style=\"text-align: right;\">\n",
              "      <th></th>\n",
              "      <th>Unnamed: 0</th>\n",
              "      <th>Start Time</th>\n",
              "      <th>Duration</th>\n",
              "      <th>Title</th>\n",
              "      <th>Device Type</th>\n",
              "      <th>Bookmark</th>\n",
              "      <th>Latest Bookmark</th>\n",
              "      <th>Content Type</th>\n",
              "      <th>Simple Title</th>\n",
              "      <th>Year</th>\n",
              "      <th>Month</th>\n",
              "      <th>Day</th>\n",
              "      <th>Hour</th>\n",
              "    </tr>\n",
              "  </thead>\n",
              "  <tbody>\n",
              "    <tr>\n",
              "      <th>0</th>\n",
              "      <td>0</td>\n",
              "      <td>2022-08-21 19:54:53</td>\n",
              "      <td>174</td>\n",
              "      <td>Community: Temporada 3: Teoría del caos correc...</td>\n",
              "      <td>Apple Apple TV 4 Apple TV</td>\n",
              "      <td>00:02:55</td>\n",
              "      <td>00:02:55</td>\n",
              "      <td>Serie</td>\n",
              "      <td>Community</td>\n",
              "      <td>2022</td>\n",
              "      <td>August</td>\n",
              "      <td>Sunday</td>\n",
              "      <td>19</td>\n",
              "    </tr>\n",
              "    <tr>\n",
              "      <th>1</th>\n",
              "      <td>1</td>\n",
              "      <td>2022-08-21 19:33:17</td>\n",
              "      <td>1293</td>\n",
              "      <td>Community: Temporada 3: Ecología competitiva (...</td>\n",
              "      <td>Apple Apple TV 4 Apple TV</td>\n",
              "      <td>00:21:33</td>\n",
              "      <td>00:21:33</td>\n",
              "      <td>Serie</td>\n",
              "      <td>Community</td>\n",
              "      <td>2022</td>\n",
              "      <td>August</td>\n",
              "      <td>Sunday</td>\n",
              "      <td>19</td>\n",
              "    </tr>\n",
              "    <tr>\n",
              "      <th>2</th>\n",
              "      <td>2</td>\n",
              "      <td>2022-08-21 19:11:40</td>\n",
              "      <td>1288</td>\n",
              "      <td>Community: Temporada 3: Geografía del conflict...</td>\n",
              "      <td>Apple Apple TV 4 Apple TV</td>\n",
              "      <td>00:21:28</td>\n",
              "      <td>00:21:28</td>\n",
              "      <td>Serie</td>\n",
              "      <td>Community</td>\n",
              "      <td>2022</td>\n",
              "      <td>August</td>\n",
              "      <td>Sunday</td>\n",
              "      <td>19</td>\n",
              "    </tr>\n",
              "    <tr>\n",
              "      <th>3</th>\n",
              "      <td>3</td>\n",
              "      <td>2022-08-21 18:50:27</td>\n",
              "      <td>1241</td>\n",
              "      <td>Community: Temporada 2: Intermediate Documenta...</td>\n",
              "      <td>Apple Apple TV 4 Apple TV</td>\n",
              "      <td>00:21:02</td>\n",
              "      <td>00:21:02</td>\n",
              "      <td>Serie</td>\n",
              "      <td>Community</td>\n",
              "      <td>2022</td>\n",
              "      <td>August</td>\n",
              "      <td>Sunday</td>\n",
              "      <td>18</td>\n",
              "    </tr>\n",
              "    <tr>\n",
              "      <th>4</th>\n",
              "      <td>4</td>\n",
              "      <td>2022-08-21 18:16:34</td>\n",
              "      <td>1280</td>\n",
              "      <td>Community: Temporada 3: El documental (Capítul...</td>\n",
              "      <td>Apple Apple TV 4 Apple TV</td>\n",
              "      <td>00:21:21</td>\n",
              "      <td>00:21:21</td>\n",
              "      <td>Serie</td>\n",
              "      <td>Community</td>\n",
              "      <td>2022</td>\n",
              "      <td>August</td>\n",
              "      <td>Sunday</td>\n",
              "      <td>18</td>\n",
              "    </tr>\n",
              "    <tr>\n",
              "      <th>...</th>\n",
              "      <td>...</td>\n",
              "      <td>...</td>\n",
              "      <td>...</td>\n",
              "      <td>...</td>\n",
              "      <td>...</td>\n",
              "      <td>...</td>\n",
              "      <td>...</td>\n",
              "      <td>...</td>\n",
              "      <td>...</td>\n",
              "      <td>...</td>\n",
              "      <td>...</td>\n",
              "      <td>...</td>\n",
              "      <td>...</td>\n",
              "    </tr>\n",
              "    <tr>\n",
              "      <th>12992</th>\n",
              "      <td>12992</td>\n",
              "      <td>2015-01-08 19:21:21</td>\n",
              "      <td>249</td>\n",
              "      <td>Lost: Temporada 1: Éxodo: Parte 1 (Capítulo 23)</td>\n",
              "      <td>Apple TV 3 (revised)</td>\n",
              "      <td>00:04:40</td>\n",
              "      <td>Not latest view</td>\n",
              "      <td>Serie</td>\n",
              "      <td>Lost</td>\n",
              "      <td>2015</td>\n",
              "      <td>January</td>\n",
              "      <td>Thursday</td>\n",
              "      <td>19</td>\n",
              "    </tr>\n",
              "    <tr>\n",
              "      <th>12993</th>\n",
              "      <td>12993</td>\n",
              "      <td>2015-01-08 19:20:47</td>\n",
              "      <td>15</td>\n",
              "      <td>Lost: Temporada 1: Nacida para correr (Capítul...</td>\n",
              "      <td>Apple TV 3 (revised)</td>\n",
              "      <td>00:00:14</td>\n",
              "      <td>Not latest view</td>\n",
              "      <td>Serie</td>\n",
              "      <td>Lost</td>\n",
              "      <td>2015</td>\n",
              "      <td>January</td>\n",
              "      <td>Thursday</td>\n",
              "      <td>19</td>\n",
              "    </tr>\n",
              "    <tr>\n",
              "      <th>12994</th>\n",
              "      <td>12994</td>\n",
              "      <td>2015-01-08 19:18:32</td>\n",
              "      <td>37</td>\n",
              "      <td>Lost: Temporada 1: Éxodo: Parte 1 (Capítulo 23)</td>\n",
              "      <td>Apple TV 3 (revised)</td>\n",
              "      <td>00:00:37</td>\n",
              "      <td>Not latest view</td>\n",
              "      <td>Serie</td>\n",
              "      <td>Lost</td>\n",
              "      <td>2015</td>\n",
              "      <td>January</td>\n",
              "      <td>Thursday</td>\n",
              "      <td>19</td>\n",
              "    </tr>\n",
              "    <tr>\n",
              "      <th>12995</th>\n",
              "      <td>12995</td>\n",
              "      <td>2015-01-08 19:16:45</td>\n",
              "      <td>18</td>\n",
              "      <td>Lost: Temporada 1: Éxodo: Parte 1 (Capítulo 23)</td>\n",
              "      <td>Apple TV 3 (revised)</td>\n",
              "      <td>00:00:18</td>\n",
              "      <td>Not latest view</td>\n",
              "      <td>Serie</td>\n",
              "      <td>Lost</td>\n",
              "      <td>2015</td>\n",
              "      <td>January</td>\n",
              "      <td>Thursday</td>\n",
              "      <td>19</td>\n",
              "    </tr>\n",
              "    <tr>\n",
              "      <th>12996</th>\n",
              "      <td>12996</td>\n",
              "      <td>2015-01-08 19:15:14</td>\n",
              "      <td>18</td>\n",
              "      <td>Lost: Temporada 1: Éxodo: Parte 1 (Capítulo 23)</td>\n",
              "      <td>Apple TV 3 (revised)</td>\n",
              "      <td>00:00:18</td>\n",
              "      <td>Not latest view</td>\n",
              "      <td>Serie</td>\n",
              "      <td>Lost</td>\n",
              "      <td>2015</td>\n",
              "      <td>January</td>\n",
              "      <td>Thursday</td>\n",
              "      <td>19</td>\n",
              "    </tr>\n",
              "  </tbody>\n",
              "</table>\n",
              "<p>6201 rows × 13 columns</p>\n",
              "</div>\n",
              "      <button class=\"colab-df-convert\" onclick=\"convertToInteractive('df-ee4718fd-4b93-4728-8051-66307e06841e')\"\n",
              "              title=\"Convert this dataframe to an interactive table.\"\n",
              "              style=\"display:none;\">\n",
              "        \n",
              "  <svg xmlns=\"http://www.w3.org/2000/svg\" height=\"24px\"viewBox=\"0 0 24 24\"\n",
              "       width=\"24px\">\n",
              "    <path d=\"M0 0h24v24H0V0z\" fill=\"none\"/>\n",
              "    <path d=\"M18.56 5.44l.94 2.06.94-2.06 2.06-.94-2.06-.94-.94-2.06-.94 2.06-2.06.94zm-11 1L8.5 8.5l.94-2.06 2.06-.94-2.06-.94L8.5 2.5l-.94 2.06-2.06.94zm10 10l.94 2.06.94-2.06 2.06-.94-2.06-.94-.94-2.06-.94 2.06-2.06.94z\"/><path d=\"M17.41 7.96l-1.37-1.37c-.4-.4-.92-.59-1.43-.59-.52 0-1.04.2-1.43.59L10.3 9.45l-7.72 7.72c-.78.78-.78 2.05 0 2.83L4 21.41c.39.39.9.59 1.41.59.51 0 1.02-.2 1.41-.59l7.78-7.78 2.81-2.81c.8-.78.8-2.07 0-2.86zM5.41 20L4 18.59l7.72-7.72 1.47 1.35L5.41 20z\"/>\n",
              "  </svg>\n",
              "      </button>\n",
              "      \n",
              "  <style>\n",
              "    .colab-df-container {\n",
              "      display:flex;\n",
              "      flex-wrap:wrap;\n",
              "      gap: 12px;\n",
              "    }\n",
              "\n",
              "    .colab-df-convert {\n",
              "      background-color: #E8F0FE;\n",
              "      border: none;\n",
              "      border-radius: 50%;\n",
              "      cursor: pointer;\n",
              "      display: none;\n",
              "      fill: #1967D2;\n",
              "      height: 32px;\n",
              "      padding: 0 0 0 0;\n",
              "      width: 32px;\n",
              "    }\n",
              "\n",
              "    .colab-df-convert:hover {\n",
              "      background-color: #E2EBFA;\n",
              "      box-shadow: 0px 1px 2px rgba(60, 64, 67, 0.3), 0px 1px 3px 1px rgba(60, 64, 67, 0.15);\n",
              "      fill: #174EA6;\n",
              "    }\n",
              "\n",
              "    [theme=dark] .colab-df-convert {\n",
              "      background-color: #3B4455;\n",
              "      fill: #D2E3FC;\n",
              "    }\n",
              "\n",
              "    [theme=dark] .colab-df-convert:hover {\n",
              "      background-color: #434B5C;\n",
              "      box-shadow: 0px 1px 3px 1px rgba(0, 0, 0, 0.15);\n",
              "      filter: drop-shadow(0px 1px 2px rgba(0, 0, 0, 0.3));\n",
              "      fill: #FFFFFF;\n",
              "    }\n",
              "  </style>\n",
              "\n",
              "      <script>\n",
              "        const buttonEl =\n",
              "          document.querySelector('#df-ee4718fd-4b93-4728-8051-66307e06841e button.colab-df-convert');\n",
              "        buttonEl.style.display =\n",
              "          google.colab.kernel.accessAllowed ? 'block' : 'none';\n",
              "\n",
              "        async function convertToInteractive(key) {\n",
              "          const element = document.querySelector('#df-ee4718fd-4b93-4728-8051-66307e06841e');\n",
              "          const dataTable =\n",
              "            await google.colab.kernel.invokeFunction('convertToInteractive',\n",
              "                                                     [key], {});\n",
              "          if (!dataTable) return;\n",
              "\n",
              "          const docLinkHtml = 'Like what you see? Visit the ' +\n",
              "            '<a target=\"_blank\" href=https://colab.research.google.com/notebooks/data_table.ipynb>data table notebook</a>'\n",
              "            + ' to learn more about interactive tables.';\n",
              "          element.innerHTML = '';\n",
              "          dataTable['output_type'] = 'display_data';\n",
              "          await google.colab.output.renderOutput(dataTable, element);\n",
              "          const docLink = document.createElement('div');\n",
              "          docLink.innerHTML = docLinkHtml;\n",
              "          element.appendChild(docLink);\n",
              "        }\n",
              "      </script>\n",
              "    </div>\n",
              "  </div>\n",
              "  "
            ]
          },
          "metadata": {},
          "execution_count": 45
        }
      ]
    }
  ]
}