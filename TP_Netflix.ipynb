{
  "nbformat": 4,
  "nbformat_minor": 0,
  "metadata": {
    "colab": {
      "provenance": [],
      "collapsed_sections": [],
      "include_colab_link": true
    },
    "kernelspec": {
      "name": "python3",
      "display_name": "Python 3"
    },
    "language_info": {
      "name": "python"
    }
  },
  "cells": [
    {
      "cell_type": "markdown",
      "metadata": {
        "id": "view-in-github",
        "colab_type": "text"
      },
      "source": [
        "<a href=\"https://colab.research.google.com/github/dangoldmann/TP-Netflix/blob/main/TP_Netflix.ipynb\" target=\"_parent\"><img src=\"https://colab.research.google.com/assets/colab-badge.svg\" alt=\"Open In Colab\"/></a>"
      ]
    },
    {
      "cell_type": "markdown",
      "source": [
        "# **Trabajo Práctico Netflix**\n",
        "### *Septiembre 2022*\n",
        "\n",
        "Descargar el archivo que contiene el historial de Netflix. Pueden descargar el suyo propio entrando a este link. A resolver de a grupos de 2 o 3 integrantes.\n",
        "\n",
        "Ignorar los siguientes dispositivos: 'Sony PS4', 'Netflix Windows App - Cadmium Windows Mobile', 'Apple iPhone 6s', 'Apple iPhone 7 Plus (CDMA)', 'Chrome PC (Cadmium)', 'Samsung 2015 NT14M DTV Smart TV', 'iPhone 5S GSM', 'Google Chromecast V3 Streaming Stick'.\n",
        "\n",
        "- Contabilizar el dispositivo con el que más títulos se reprodujeron.\n",
        "- Encontrar la película con más ocurrencias y la película con mayor duración total.\n",
        "- Generar un TOP “N” de series vistas y graficar.\n",
        " - Por tiempo visto\n",
        " - Por ocurrencias\n",
        "- Visualizar una semana de reproducciones genérica, en función a las reproducciones por día y por horario de todos los años.\n",
        "Contabilizar la cantidad de títulos vistos por año, graficar su variación a través de los años.\n",
        "Total de días de todos los títulos reproducidos.\n",
        "\n",
        "### **Bonus**\n",
        "\n",
        "- Identificar cuál fue la película de Star Wars más veces vista por duración.\n",
        "- Utilizando la API de IMDb (u otra):\n",
        " - Mostrar el póster de las películas más vistas, y de las series.\n",
        " - Encontrar el género de series y el de películas más ocurrente.\n",
        "- Encontrar la serie que más rápido se terminó de ver.\n",
        "\n",
        "\n",
        "Formato de entrega: Link a GitHub conteniendo el Ipython Notebook con su output guardado. No se corrigen Notebooks sin output generado ni entregas que no sean links a GitHub directamente. Se va a evaluar formato del Notebook, celdas de texto, prolijidad del código y de los resultados generados.\n",
        "\n",
        "\n"
      ],
      "metadata": {
        "id": "2EJ_H0aMVXYt"
      }
    },
    {
      "cell_type": "markdown",
      "source": [
        "Importando librerías"
      ],
      "metadata": {
        "id": "_VV7dUUliKMF"
      }
    },
    {
      "cell_type": "code",
      "source": [
        "import numpy as np\n",
        "import pandas as pd"
      ],
      "metadata": {
        "id": "nXkYU7nVV9Oa"
      },
      "execution_count": 133,
      "outputs": []
    },
    {
      "cell_type": "markdown",
      "source": [
        "Guardando el dataframe"
      ],
      "metadata": {
        "id": "aYmzmhcZX2kD"
      }
    },
    {
      "cell_type": "code",
      "source": [
        "df = pd.read_csv(\"./sample_data/NetflixHistory.csv\")"
      ],
      "metadata": {
        "id": "tNuTMhw5V_VQ"
      },
      "execution_count": 201,
      "outputs": []
    },
    {
      "cell_type": "markdown",
      "source": [
        "#### Eliminando filas no deseadas del dataframe"
      ],
      "metadata": {
        "id": "jq_Klnz-iEOY"
      }
    },
    {
      "cell_type": "markdown",
      "source": [
        "Eliminando las visualizaciones de los dispositivos no deseados"
      ],
      "metadata": {
        "id": "gJQZBjVyX_C4"
      }
    },
    {
      "cell_type": "code",
      "source": [
        "dispositivosIgnorados = [\"Sony PS4\", \"Netflix Windows App - Cadmium Windows Mobile\", \"Apple iPhone 6s\", \"Apple iPhone 7 Plus (CDMA)\", \"Chrome PC (Cadmium)\", \"Samsung 2015 NT14M DTV Smart TV\", \"iPhone 5S GSM\", \"Google Chromecast V3 Streaming Stick\"]\n",
        "\n",
        "for i in dispositivosIgnorados:\n",
        "  df = df[df[\"Device Type\"] != i]"
      ],
      "metadata": {
        "id": "Pbdtq1td9dP4"
      },
      "execution_count": 203,
      "outputs": []
    },
    {
      "cell_type": "markdown",
      "source": [
        "Eliminando los hooks, trailers y recaps"
      ],
      "metadata": {
        "id": "1VIrDVGDeujT"
      }
    },
    {
      "cell_type": "code",
      "source": [
        "video_types = df.groupby([\"Supplemental Video Type\"]).size()\n",
        "video_types"
      ],
      "metadata": {
        "id": "buqz9hK8fhAi",
        "outputId": "678e3ff3-746d-40f0-e0cb-af493981ebb8",
        "colab": {
          "base_uri": "https://localhost:8080/"
        }
      },
      "execution_count": 205,
      "outputs": [
        {
          "output_type": "execute_result",
          "data": {
            "text/plain": [
              "Supplemental Video Type\n",
              "HOOK              49\n",
              "RECAP              4\n",
              "TEASER_TRAILER     3\n",
              "TRAILER           34\n",
              "dtype: int64"
            ]
          },
          "metadata": {},
          "execution_count": 205
        }
      ]
    },
    {
      "cell_type": "code",
      "source": [
        "videoTypesIgnorados = [\"HOOK\", \"RECAP\", \"TEASER_TRAILER\", \"TRAILER\"]\n",
        "\n",
        "for i in videoTypesIgnorados:\n",
        "  df = df[df[\"Supplemental Video Type\"] != i]"
      ],
      "metadata": {
        "id": "p6wX1IiDeyID"
      },
      "execution_count": 206,
      "outputs": []
    },
    {
      "cell_type": "markdown",
      "source": [
        "Eliminando columnas no utilizadas"
      ],
      "metadata": {
        "id": "n6B3_NZFopl2"
      }
    },
    {
      "cell_type": "code",
      "source": [
        "columnasIgnoradas = [\"Supplemental Video Type\", \"Attributes\", \"Country\"]\n",
        "\n",
        "for i in columnasIgnoradas:\n",
        "  df = df.drop(columns = i)"
      ],
      "metadata": {
        "id": "tVDqfJVrokyz"
      },
      "execution_count": 208,
      "outputs": []
    },
    {
      "cell_type": "markdown",
      "source": [
        "#### Modificando las columnas"
      ],
      "metadata": {
        "id": "8cXqRhHbigIu"
      }
    },
    {
      "cell_type": "markdown",
      "source": [
        "Crear una nueva columna que contenga si la visualización corresponde a una película o una serie"
      ],
      "metadata": {
        "id": "oiUDqjheJC6w"
      }
    },
    {
      "cell_type": "code",
      "source": [
        "def defineContentType(input):\n",
        "  if \"Temporada\" in input:\n",
        "    return \"Serie\"\n",
        "  else:\n",
        "    return \"Pelicula\""
      ],
      "metadata": {
        "id": "Vf-HXKklVHYi"
      },
      "execution_count": 210,
      "outputs": []
    },
    {
      "cell_type": "code",
      "source": [
        "df[\"Content Type\"] = df[\"Title\"].apply(defineContentType)"
      ],
      "metadata": {
        "id": "GzPR7gMjVXzV"
      },
      "execution_count": 211,
      "outputs": []
    },
    {
      "cell_type": "markdown",
      "source": [
        "Cambiando los valores de las duraciones a segundos"
      ],
      "metadata": {
        "id": "jchiIrsdniNt"
      }
    },
    {
      "cell_type": "code",
      "source": [
        "def changeDurationToSec(input):\n",
        "  try:\n",
        "    horas = int(input[0:2])\n",
        "    minutos = int(input[3:5])\n",
        "    segundos = int(input[6:8])\n",
        "\n",
        "    return horas * 60 * 60 + minutos * 60 + segundos\n",
        "  except:\n",
        "    return input"
      ],
      "metadata": {
        "id": "XgkMJ4bqnmRp"
      },
      "execution_count": 216,
      "outputs": []
    },
    {
      "cell_type": "code",
      "source": [
        "df[\"Duration\"] = df[\"Duration\"].apply(changeDurationToSec)"
      ],
      "metadata": {
        "id": "mVLeWzIPrY6W"
      },
      "execution_count": 225,
      "outputs": []
    },
    {
      "cell_type": "markdown",
      "source": [
        "#### Contabilizar el dispositivo con el que más títulos se reprodujeron"
      ],
      "metadata": {
        "id": "Qd5ALE-MAPzn"
      }
    },
    {
      "cell_type": "code",
      "source": [
        "dispositivos = df.groupby([\"Device Type\"]).size()\n",
        "max_cant = max(dispositivos)\n",
        "dispositivos = dispositivos.reset_index()"
      ],
      "metadata": {
        "id": "H7HZrc3T60tj"
      },
      "execution_count": 229,
      "outputs": []
    },
    {
      "cell_type": "code",
      "source": [
        "dispositivoMasUtilizado = dispositivos.loc[dispositivos[0]==max_cant]\n",
        "dispositivoMasUtilizado"
      ],
      "metadata": {
        "colab": {
          "base_uri": "https://localhost:8080/",
          "height": 81
        },
        "id": "WQRWBClOBcnQ",
        "outputId": "0951999a-31ba-4429-89b4-9923cfb531ee"
      },
      "execution_count": 230,
      "outputs": [
        {
          "output_type": "execute_result",
          "data": {
            "text/plain": [
              "                 Device Type     0\n",
              "1  Apple Apple TV 4 Apple TV  3439"
            ],
            "text/html": [
              "\n",
              "  <div id=\"df-59e0d49c-e58c-4da6-a169-b1a663f0a84a\">\n",
              "    <div class=\"colab-df-container\">\n",
              "      <div>\n",
              "<style scoped>\n",
              "    .dataframe tbody tr th:only-of-type {\n",
              "        vertical-align: middle;\n",
              "    }\n",
              "\n",
              "    .dataframe tbody tr th {\n",
              "        vertical-align: top;\n",
              "    }\n",
              "\n",
              "    .dataframe thead th {\n",
              "        text-align: right;\n",
              "    }\n",
              "</style>\n",
              "<table border=\"1\" class=\"dataframe\">\n",
              "  <thead>\n",
              "    <tr style=\"text-align: right;\">\n",
              "      <th></th>\n",
              "      <th>Device Type</th>\n",
              "      <th>0</th>\n",
              "    </tr>\n",
              "  </thead>\n",
              "  <tbody>\n",
              "    <tr>\n",
              "      <th>1</th>\n",
              "      <td>Apple Apple TV 4 Apple TV</td>\n",
              "      <td>3439</td>\n",
              "    </tr>\n",
              "  </tbody>\n",
              "</table>\n",
              "</div>\n",
              "      <button class=\"colab-df-convert\" onclick=\"convertToInteractive('df-59e0d49c-e58c-4da6-a169-b1a663f0a84a')\"\n",
              "              title=\"Convert this dataframe to an interactive table.\"\n",
              "              style=\"display:none;\">\n",
              "        \n",
              "  <svg xmlns=\"http://www.w3.org/2000/svg\" height=\"24px\"viewBox=\"0 0 24 24\"\n",
              "       width=\"24px\">\n",
              "    <path d=\"M0 0h24v24H0V0z\" fill=\"none\"/>\n",
              "    <path d=\"M18.56 5.44l.94 2.06.94-2.06 2.06-.94-2.06-.94-.94-2.06-.94 2.06-2.06.94zm-11 1L8.5 8.5l.94-2.06 2.06-.94-2.06-.94L8.5 2.5l-.94 2.06-2.06.94zm10 10l.94 2.06.94-2.06 2.06-.94-2.06-.94-.94-2.06-.94 2.06-2.06.94z\"/><path d=\"M17.41 7.96l-1.37-1.37c-.4-.4-.92-.59-1.43-.59-.52 0-1.04.2-1.43.59L10.3 9.45l-7.72 7.72c-.78.78-.78 2.05 0 2.83L4 21.41c.39.39.9.59 1.41.59.51 0 1.02-.2 1.41-.59l7.78-7.78 2.81-2.81c.8-.78.8-2.07 0-2.86zM5.41 20L4 18.59l7.72-7.72 1.47 1.35L5.41 20z\"/>\n",
              "  </svg>\n",
              "      </button>\n",
              "      \n",
              "  <style>\n",
              "    .colab-df-container {\n",
              "      display:flex;\n",
              "      flex-wrap:wrap;\n",
              "      gap: 12px;\n",
              "    }\n",
              "\n",
              "    .colab-df-convert {\n",
              "      background-color: #E8F0FE;\n",
              "      border: none;\n",
              "      border-radius: 50%;\n",
              "      cursor: pointer;\n",
              "      display: none;\n",
              "      fill: #1967D2;\n",
              "      height: 32px;\n",
              "      padding: 0 0 0 0;\n",
              "      width: 32px;\n",
              "    }\n",
              "\n",
              "    .colab-df-convert:hover {\n",
              "      background-color: #E2EBFA;\n",
              "      box-shadow: 0px 1px 2px rgba(60, 64, 67, 0.3), 0px 1px 3px 1px rgba(60, 64, 67, 0.15);\n",
              "      fill: #174EA6;\n",
              "    }\n",
              "\n",
              "    [theme=dark] .colab-df-convert {\n",
              "      background-color: #3B4455;\n",
              "      fill: #D2E3FC;\n",
              "    }\n",
              "\n",
              "    [theme=dark] .colab-df-convert:hover {\n",
              "      background-color: #434B5C;\n",
              "      box-shadow: 0px 1px 3px 1px rgba(0, 0, 0, 0.15);\n",
              "      filter: drop-shadow(0px 1px 2px rgba(0, 0, 0, 0.3));\n",
              "      fill: #FFFFFF;\n",
              "    }\n",
              "  </style>\n",
              "\n",
              "      <script>\n",
              "        const buttonEl =\n",
              "          document.querySelector('#df-59e0d49c-e58c-4da6-a169-b1a663f0a84a button.colab-df-convert');\n",
              "        buttonEl.style.display =\n",
              "          google.colab.kernel.accessAllowed ? 'block' : 'none';\n",
              "\n",
              "        async function convertToInteractive(key) {\n",
              "          const element = document.querySelector('#df-59e0d49c-e58c-4da6-a169-b1a663f0a84a');\n",
              "          const dataTable =\n",
              "            await google.colab.kernel.invokeFunction('convertToInteractive',\n",
              "                                                     [key], {});\n",
              "          if (!dataTable) return;\n",
              "\n",
              "          const docLinkHtml = 'Like what you see? Visit the ' +\n",
              "            '<a target=\"_blank\" href=https://colab.research.google.com/notebooks/data_table.ipynb>data table notebook</a>'\n",
              "            + ' to learn more about interactive tables.';\n",
              "          element.innerHTML = '';\n",
              "          dataTable['output_type'] = 'display_data';\n",
              "          await google.colab.output.renderOutput(dataTable, element);\n",
              "          const docLink = document.createElement('div');\n",
              "          docLink.innerHTML = docLinkHtml;\n",
              "          element.appendChild(docLink);\n",
              "        }\n",
              "      </script>\n",
              "    </div>\n",
              "  </div>\n",
              "  "
            ]
          },
          "metadata": {},
          "execution_count": 230
        }
      ]
    },
    {
      "cell_type": "markdown",
      "source": [
        "#### Encontrar la película con más ocurrencias y la película con mayor duración total"
      ],
      "metadata": {
        "id": "odrZxb7Hi84R"
      }
    },
    {
      "cell_type": "code",
      "source": [
        "df_peliculas = df[df[\"Content Type\"] == \"Pelicula\"]"
      ],
      "metadata": {
        "id": "WTJtFRnejA32"
      },
      "execution_count": 251,
      "outputs": []
    },
    {
      "cell_type": "markdown",
      "source": [
        "Mayor ocurrencias"
      ],
      "metadata": {
        "id": "es0wkAal0Trs"
      }
    },
    {
      "cell_type": "code",
      "source": [
        "peliculas = df_peliculas.groupby([\"Title\"]).size().reset_index()\n",
        "max_pelicula = max(peliculas[0])\n",
        "peliMasOcurrida = peliculas.loc[peliculas[0]==max_pelicula]\n",
        "peliMasOcurrida"
      ],
      "metadata": {
        "id": "f7vwsqppkBMW",
        "outputId": "488da3a2-713a-4993-fa35-bddfefd4a40b",
        "colab": {
          "base_uri": "https://localhost:8080/",
          "height": 112
        }
      },
      "execution_count": 256,
      "outputs": [
        {
          "output_type": "execute_result",
          "data": {
            "text/plain": [
              "                                 Title  0\n",
              "123                   El código enigma  7\n",
              "226  Star Wars: El Imperio contraataca  7"
            ],
            "text/html": [
              "\n",
              "  <div id=\"df-f7a408cd-649b-4e33-8745-13ac0ed5fc09\">\n",
              "    <div class=\"colab-df-container\">\n",
              "      <div>\n",
              "<style scoped>\n",
              "    .dataframe tbody tr th:only-of-type {\n",
              "        vertical-align: middle;\n",
              "    }\n",
              "\n",
              "    .dataframe tbody tr th {\n",
              "        vertical-align: top;\n",
              "    }\n",
              "\n",
              "    .dataframe thead th {\n",
              "        text-align: right;\n",
              "    }\n",
              "</style>\n",
              "<table border=\"1\" class=\"dataframe\">\n",
              "  <thead>\n",
              "    <tr style=\"text-align: right;\">\n",
              "      <th></th>\n",
              "      <th>Title</th>\n",
              "      <th>0</th>\n",
              "    </tr>\n",
              "  </thead>\n",
              "  <tbody>\n",
              "    <tr>\n",
              "      <th>123</th>\n",
              "      <td>El código enigma</td>\n",
              "      <td>7</td>\n",
              "    </tr>\n",
              "    <tr>\n",
              "      <th>226</th>\n",
              "      <td>Star Wars: El Imperio contraataca</td>\n",
              "      <td>7</td>\n",
              "    </tr>\n",
              "  </tbody>\n",
              "</table>\n",
              "</div>\n",
              "      <button class=\"colab-df-convert\" onclick=\"convertToInteractive('df-f7a408cd-649b-4e33-8745-13ac0ed5fc09')\"\n",
              "              title=\"Convert this dataframe to an interactive table.\"\n",
              "              style=\"display:none;\">\n",
              "        \n",
              "  <svg xmlns=\"http://www.w3.org/2000/svg\" height=\"24px\"viewBox=\"0 0 24 24\"\n",
              "       width=\"24px\">\n",
              "    <path d=\"M0 0h24v24H0V0z\" fill=\"none\"/>\n",
              "    <path d=\"M18.56 5.44l.94 2.06.94-2.06 2.06-.94-2.06-.94-.94-2.06-.94 2.06-2.06.94zm-11 1L8.5 8.5l.94-2.06 2.06-.94-2.06-.94L8.5 2.5l-.94 2.06-2.06.94zm10 10l.94 2.06.94-2.06 2.06-.94-2.06-.94-.94-2.06-.94 2.06-2.06.94z\"/><path d=\"M17.41 7.96l-1.37-1.37c-.4-.4-.92-.59-1.43-.59-.52 0-1.04.2-1.43.59L10.3 9.45l-7.72 7.72c-.78.78-.78 2.05 0 2.83L4 21.41c.39.39.9.59 1.41.59.51 0 1.02-.2 1.41-.59l7.78-7.78 2.81-2.81c.8-.78.8-2.07 0-2.86zM5.41 20L4 18.59l7.72-7.72 1.47 1.35L5.41 20z\"/>\n",
              "  </svg>\n",
              "      </button>\n",
              "      \n",
              "  <style>\n",
              "    .colab-df-container {\n",
              "      display:flex;\n",
              "      flex-wrap:wrap;\n",
              "      gap: 12px;\n",
              "    }\n",
              "\n",
              "    .colab-df-convert {\n",
              "      background-color: #E8F0FE;\n",
              "      border: none;\n",
              "      border-radius: 50%;\n",
              "      cursor: pointer;\n",
              "      display: none;\n",
              "      fill: #1967D2;\n",
              "      height: 32px;\n",
              "      padding: 0 0 0 0;\n",
              "      width: 32px;\n",
              "    }\n",
              "\n",
              "    .colab-df-convert:hover {\n",
              "      background-color: #E2EBFA;\n",
              "      box-shadow: 0px 1px 2px rgba(60, 64, 67, 0.3), 0px 1px 3px 1px rgba(60, 64, 67, 0.15);\n",
              "      fill: #174EA6;\n",
              "    }\n",
              "\n",
              "    [theme=dark] .colab-df-convert {\n",
              "      background-color: #3B4455;\n",
              "      fill: #D2E3FC;\n",
              "    }\n",
              "\n",
              "    [theme=dark] .colab-df-convert:hover {\n",
              "      background-color: #434B5C;\n",
              "      box-shadow: 0px 1px 3px 1px rgba(0, 0, 0, 0.15);\n",
              "      filter: drop-shadow(0px 1px 2px rgba(0, 0, 0, 0.3));\n",
              "      fill: #FFFFFF;\n",
              "    }\n",
              "  </style>\n",
              "\n",
              "      <script>\n",
              "        const buttonEl =\n",
              "          document.querySelector('#df-f7a408cd-649b-4e33-8745-13ac0ed5fc09 button.colab-df-convert');\n",
              "        buttonEl.style.display =\n",
              "          google.colab.kernel.accessAllowed ? 'block' : 'none';\n",
              "\n",
              "        async function convertToInteractive(key) {\n",
              "          const element = document.querySelector('#df-f7a408cd-649b-4e33-8745-13ac0ed5fc09');\n",
              "          const dataTable =\n",
              "            await google.colab.kernel.invokeFunction('convertToInteractive',\n",
              "                                                     [key], {});\n",
              "          if (!dataTable) return;\n",
              "\n",
              "          const docLinkHtml = 'Like what you see? Visit the ' +\n",
              "            '<a target=\"_blank\" href=https://colab.research.google.com/notebooks/data_table.ipynb>data table notebook</a>'\n",
              "            + ' to learn more about interactive tables.';\n",
              "          element.innerHTML = '';\n",
              "          dataTable['output_type'] = 'display_data';\n",
              "          await google.colab.output.renderOutput(dataTable, element);\n",
              "          const docLink = document.createElement('div');\n",
              "          docLink.innerHTML = docLinkHtml;\n",
              "          element.appendChild(docLink);\n",
              "        }\n",
              "      </script>\n",
              "    </div>\n",
              "  </div>\n",
              "  "
            ]
          },
          "metadata": {},
          "execution_count": 256
        }
      ]
    },
    {
      "cell_type": "markdown",
      "source": [
        "Mayor duración"
      ],
      "metadata": {
        "id": "mshT-zYB0VYe"
      }
    },
    {
      "cell_type": "code",
      "source": [
        "durations = df_peliculas.groupby(['Title', 'Duration']).size().reset_index()\n",
        "max_duration = max(durations[\"Duration\"])\n",
        "peliMasDuracion = durations.loc[durations[\"Duration\"] == max_duration]\n",
        "peliMasDuracion"
      ],
      "metadata": {
        "id": "8Z02fAUuw9Nh",
        "outputId": "301a9537-aee2-4e62-a97b-afc3e4ea1b4b",
        "colab": {
          "base_uri": "https://localhost:8080/",
          "height": 81
        }
      },
      "execution_count": 257,
      "outputs": [
        {
          "output_type": "execute_result",
          "data": {
            "text/plain": [
              "                   Title  Duration  0\n",
              "175  El club de la pelea      8411  1"
            ],
            "text/html": [
              "\n",
              "  <div id=\"df-72d552a9-7069-442d-92ee-6f78134c924d\">\n",
              "    <div class=\"colab-df-container\">\n",
              "      <div>\n",
              "<style scoped>\n",
              "    .dataframe tbody tr th:only-of-type {\n",
              "        vertical-align: middle;\n",
              "    }\n",
              "\n",
              "    .dataframe tbody tr th {\n",
              "        vertical-align: top;\n",
              "    }\n",
              "\n",
              "    .dataframe thead th {\n",
              "        text-align: right;\n",
              "    }\n",
              "</style>\n",
              "<table border=\"1\" class=\"dataframe\">\n",
              "  <thead>\n",
              "    <tr style=\"text-align: right;\">\n",
              "      <th></th>\n",
              "      <th>Title</th>\n",
              "      <th>Duration</th>\n",
              "      <th>0</th>\n",
              "    </tr>\n",
              "  </thead>\n",
              "  <tbody>\n",
              "    <tr>\n",
              "      <th>175</th>\n",
              "      <td>El club de la pelea</td>\n",
              "      <td>8411</td>\n",
              "      <td>1</td>\n",
              "    </tr>\n",
              "  </tbody>\n",
              "</table>\n",
              "</div>\n",
              "      <button class=\"colab-df-convert\" onclick=\"convertToInteractive('df-72d552a9-7069-442d-92ee-6f78134c924d')\"\n",
              "              title=\"Convert this dataframe to an interactive table.\"\n",
              "              style=\"display:none;\">\n",
              "        \n",
              "  <svg xmlns=\"http://www.w3.org/2000/svg\" height=\"24px\"viewBox=\"0 0 24 24\"\n",
              "       width=\"24px\">\n",
              "    <path d=\"M0 0h24v24H0V0z\" fill=\"none\"/>\n",
              "    <path d=\"M18.56 5.44l.94 2.06.94-2.06 2.06-.94-2.06-.94-.94-2.06-.94 2.06-2.06.94zm-11 1L8.5 8.5l.94-2.06 2.06-.94-2.06-.94L8.5 2.5l-.94 2.06-2.06.94zm10 10l.94 2.06.94-2.06 2.06-.94-2.06-.94-.94-2.06-.94 2.06-2.06.94z\"/><path d=\"M17.41 7.96l-1.37-1.37c-.4-.4-.92-.59-1.43-.59-.52 0-1.04.2-1.43.59L10.3 9.45l-7.72 7.72c-.78.78-.78 2.05 0 2.83L4 21.41c.39.39.9.59 1.41.59.51 0 1.02-.2 1.41-.59l7.78-7.78 2.81-2.81c.8-.78.8-2.07 0-2.86zM5.41 20L4 18.59l7.72-7.72 1.47 1.35L5.41 20z\"/>\n",
              "  </svg>\n",
              "      </button>\n",
              "      \n",
              "  <style>\n",
              "    .colab-df-container {\n",
              "      display:flex;\n",
              "      flex-wrap:wrap;\n",
              "      gap: 12px;\n",
              "    }\n",
              "\n",
              "    .colab-df-convert {\n",
              "      background-color: #E8F0FE;\n",
              "      border: none;\n",
              "      border-radius: 50%;\n",
              "      cursor: pointer;\n",
              "      display: none;\n",
              "      fill: #1967D2;\n",
              "      height: 32px;\n",
              "      padding: 0 0 0 0;\n",
              "      width: 32px;\n",
              "    }\n",
              "\n",
              "    .colab-df-convert:hover {\n",
              "      background-color: #E2EBFA;\n",
              "      box-shadow: 0px 1px 2px rgba(60, 64, 67, 0.3), 0px 1px 3px 1px rgba(60, 64, 67, 0.15);\n",
              "      fill: #174EA6;\n",
              "    }\n",
              "\n",
              "    [theme=dark] .colab-df-convert {\n",
              "      background-color: #3B4455;\n",
              "      fill: #D2E3FC;\n",
              "    }\n",
              "\n",
              "    [theme=dark] .colab-df-convert:hover {\n",
              "      background-color: #434B5C;\n",
              "      box-shadow: 0px 1px 3px 1px rgba(0, 0, 0, 0.15);\n",
              "      filter: drop-shadow(0px 1px 2px rgba(0, 0, 0, 0.3));\n",
              "      fill: #FFFFFF;\n",
              "    }\n",
              "  </style>\n",
              "\n",
              "      <script>\n",
              "        const buttonEl =\n",
              "          document.querySelector('#df-72d552a9-7069-442d-92ee-6f78134c924d button.colab-df-convert');\n",
              "        buttonEl.style.display =\n",
              "          google.colab.kernel.accessAllowed ? 'block' : 'none';\n",
              "\n",
              "        async function convertToInteractive(key) {\n",
              "          const element = document.querySelector('#df-72d552a9-7069-442d-92ee-6f78134c924d');\n",
              "          const dataTable =\n",
              "            await google.colab.kernel.invokeFunction('convertToInteractive',\n",
              "                                                     [key], {});\n",
              "          if (!dataTable) return;\n",
              "\n",
              "          const docLinkHtml = 'Like what you see? Visit the ' +\n",
              "            '<a target=\"_blank\" href=https://colab.research.google.com/notebooks/data_table.ipynb>data table notebook</a>'\n",
              "            + ' to learn more about interactive tables.';\n",
              "          element.innerHTML = '';\n",
              "          dataTable['output_type'] = 'display_data';\n",
              "          await google.colab.output.renderOutput(dataTable, element);\n",
              "          const docLink = document.createElement('div');\n",
              "          docLink.innerHTML = docLinkHtml;\n",
              "          element.appendChild(docLink);\n",
              "        }\n",
              "      </script>\n",
              "    </div>\n",
              "  </div>\n",
              "  "
            ]
          },
          "metadata": {},
          "execution_count": 257
        }
      ]
    },
    {
      "cell_type": "markdown",
      "source": [
        "## Mostrando el dataframe"
      ],
      "metadata": {
        "id": "l1uL78Cahd6S"
      }
    },
    {
      "cell_type": "code",
      "source": [
        "original_df = pd.read_csv(\"./sample_data/NetflixHistory.csv\")"
      ],
      "metadata": {
        "id": "QSvRUpW1vVRj"
      },
      "execution_count": 228,
      "outputs": []
    },
    {
      "cell_type": "code",
      "source": [
        "df"
      ],
      "metadata": {
        "colab": {
          "base_uri": "https://localhost:8080/",
          "height": 658
        },
        "id": "krk2M_rME7Aq",
        "outputId": "31e6180d-42e9-4c3e-b81e-6053b1156e0b"
      },
      "execution_count": 226,
      "outputs": [
        {
          "output_type": "execute_result",
          "data": {
            "text/plain": [
              "       Unnamed: 0 Profile Name           Start Time  Duration  \\\n",
              "0               0        Chona  2022-08-21 19:54:53       174   \n",
              "1               1        Chona  2022-08-21 19:33:17      1293   \n",
              "2               2        Chona  2022-08-21 19:11:40      1288   \n",
              "3               3        Chona  2022-08-21 18:50:27      1241   \n",
              "4               4        Chona  2022-08-21 18:16:34      1280   \n",
              "...           ...          ...                  ...       ...   \n",
              "12992       12992        Chona  2015-01-08 19:21:21       249   \n",
              "12993       12993        Chona  2015-01-08 19:20:47        15   \n",
              "12994       12994        Chona  2015-01-08 19:18:32        37   \n",
              "12995       12995        Chona  2015-01-08 19:16:45        18   \n",
              "12996       12996        Chona  2015-01-08 19:15:14        18   \n",
              "\n",
              "                                                   Title  \\\n",
              "0      Community: Temporada 3: Teoría del caos correc...   \n",
              "1      Community: Temporada 3: Ecología competitiva (...   \n",
              "2      Community: Temporada 3: Geografía del conflict...   \n",
              "3      Community: Temporada 2: Intermediate Documenta...   \n",
              "4      Community: Temporada 3: El documental (Capítul...   \n",
              "...                                                  ...   \n",
              "12992    Lost: Temporada 1: Éxodo: Parte 1 (Capítulo 23)   \n",
              "12993  Lost: Temporada 1: Nacida para correr (Capítul...   \n",
              "12994    Lost: Temporada 1: Éxodo: Parte 1 (Capítulo 23)   \n",
              "12995    Lost: Temporada 1: Éxodo: Parte 1 (Capítulo 23)   \n",
              "12996    Lost: Temporada 1: Éxodo: Parte 1 (Capítulo 23)   \n",
              "\n",
              "                     Device Type  Bookmark  Latest Bookmark Content Type  \n",
              "0      Apple Apple TV 4 Apple TV  00:02:55         00:02:55        Serie  \n",
              "1      Apple Apple TV 4 Apple TV  00:21:33         00:21:33        Serie  \n",
              "2      Apple Apple TV 4 Apple TV  00:21:28         00:21:28        Serie  \n",
              "3      Apple Apple TV 4 Apple TV  00:21:02         00:21:02        Serie  \n",
              "4      Apple Apple TV 4 Apple TV  00:21:21         00:21:21        Serie  \n",
              "...                          ...       ...              ...          ...  \n",
              "12992       Apple TV 3 (revised)  00:04:40  Not latest view        Serie  \n",
              "12993       Apple TV 3 (revised)  00:00:14  Not latest view        Serie  \n",
              "12994       Apple TV 3 (revised)  00:00:37  Not latest view        Serie  \n",
              "12995       Apple TV 3 (revised)  00:00:18  Not latest view        Serie  \n",
              "12996       Apple TV 3 (revised)  00:00:18  Not latest view        Serie  \n",
              "\n",
              "[6201 rows x 9 columns]"
            ],
            "text/html": [
              "\n",
              "  <div id=\"df-0aad9b58-c298-4bca-a972-b568e8fc1d13\">\n",
              "    <div class=\"colab-df-container\">\n",
              "      <div>\n",
              "<style scoped>\n",
              "    .dataframe tbody tr th:only-of-type {\n",
              "        vertical-align: middle;\n",
              "    }\n",
              "\n",
              "    .dataframe tbody tr th {\n",
              "        vertical-align: top;\n",
              "    }\n",
              "\n",
              "    .dataframe thead th {\n",
              "        text-align: right;\n",
              "    }\n",
              "</style>\n",
              "<table border=\"1\" class=\"dataframe\">\n",
              "  <thead>\n",
              "    <tr style=\"text-align: right;\">\n",
              "      <th></th>\n",
              "      <th>Unnamed: 0</th>\n",
              "      <th>Profile Name</th>\n",
              "      <th>Start Time</th>\n",
              "      <th>Duration</th>\n",
              "      <th>Title</th>\n",
              "      <th>Device Type</th>\n",
              "      <th>Bookmark</th>\n",
              "      <th>Latest Bookmark</th>\n",
              "      <th>Content Type</th>\n",
              "    </tr>\n",
              "  </thead>\n",
              "  <tbody>\n",
              "    <tr>\n",
              "      <th>0</th>\n",
              "      <td>0</td>\n",
              "      <td>Chona</td>\n",
              "      <td>2022-08-21 19:54:53</td>\n",
              "      <td>174</td>\n",
              "      <td>Community: Temporada 3: Teoría del caos correc...</td>\n",
              "      <td>Apple Apple TV 4 Apple TV</td>\n",
              "      <td>00:02:55</td>\n",
              "      <td>00:02:55</td>\n",
              "      <td>Serie</td>\n",
              "    </tr>\n",
              "    <tr>\n",
              "      <th>1</th>\n",
              "      <td>1</td>\n",
              "      <td>Chona</td>\n",
              "      <td>2022-08-21 19:33:17</td>\n",
              "      <td>1293</td>\n",
              "      <td>Community: Temporada 3: Ecología competitiva (...</td>\n",
              "      <td>Apple Apple TV 4 Apple TV</td>\n",
              "      <td>00:21:33</td>\n",
              "      <td>00:21:33</td>\n",
              "      <td>Serie</td>\n",
              "    </tr>\n",
              "    <tr>\n",
              "      <th>2</th>\n",
              "      <td>2</td>\n",
              "      <td>Chona</td>\n",
              "      <td>2022-08-21 19:11:40</td>\n",
              "      <td>1288</td>\n",
              "      <td>Community: Temporada 3: Geografía del conflict...</td>\n",
              "      <td>Apple Apple TV 4 Apple TV</td>\n",
              "      <td>00:21:28</td>\n",
              "      <td>00:21:28</td>\n",
              "      <td>Serie</td>\n",
              "    </tr>\n",
              "    <tr>\n",
              "      <th>3</th>\n",
              "      <td>3</td>\n",
              "      <td>Chona</td>\n",
              "      <td>2022-08-21 18:50:27</td>\n",
              "      <td>1241</td>\n",
              "      <td>Community: Temporada 2: Intermediate Documenta...</td>\n",
              "      <td>Apple Apple TV 4 Apple TV</td>\n",
              "      <td>00:21:02</td>\n",
              "      <td>00:21:02</td>\n",
              "      <td>Serie</td>\n",
              "    </tr>\n",
              "    <tr>\n",
              "      <th>4</th>\n",
              "      <td>4</td>\n",
              "      <td>Chona</td>\n",
              "      <td>2022-08-21 18:16:34</td>\n",
              "      <td>1280</td>\n",
              "      <td>Community: Temporada 3: El documental (Capítul...</td>\n",
              "      <td>Apple Apple TV 4 Apple TV</td>\n",
              "      <td>00:21:21</td>\n",
              "      <td>00:21:21</td>\n",
              "      <td>Serie</td>\n",
              "    </tr>\n",
              "    <tr>\n",
              "      <th>...</th>\n",
              "      <td>...</td>\n",
              "      <td>...</td>\n",
              "      <td>...</td>\n",
              "      <td>...</td>\n",
              "      <td>...</td>\n",
              "      <td>...</td>\n",
              "      <td>...</td>\n",
              "      <td>...</td>\n",
              "      <td>...</td>\n",
              "    </tr>\n",
              "    <tr>\n",
              "      <th>12992</th>\n",
              "      <td>12992</td>\n",
              "      <td>Chona</td>\n",
              "      <td>2015-01-08 19:21:21</td>\n",
              "      <td>249</td>\n",
              "      <td>Lost: Temporada 1: Éxodo: Parte 1 (Capítulo 23)</td>\n",
              "      <td>Apple TV 3 (revised)</td>\n",
              "      <td>00:04:40</td>\n",
              "      <td>Not latest view</td>\n",
              "      <td>Serie</td>\n",
              "    </tr>\n",
              "    <tr>\n",
              "      <th>12993</th>\n",
              "      <td>12993</td>\n",
              "      <td>Chona</td>\n",
              "      <td>2015-01-08 19:20:47</td>\n",
              "      <td>15</td>\n",
              "      <td>Lost: Temporada 1: Nacida para correr (Capítul...</td>\n",
              "      <td>Apple TV 3 (revised)</td>\n",
              "      <td>00:00:14</td>\n",
              "      <td>Not latest view</td>\n",
              "      <td>Serie</td>\n",
              "    </tr>\n",
              "    <tr>\n",
              "      <th>12994</th>\n",
              "      <td>12994</td>\n",
              "      <td>Chona</td>\n",
              "      <td>2015-01-08 19:18:32</td>\n",
              "      <td>37</td>\n",
              "      <td>Lost: Temporada 1: Éxodo: Parte 1 (Capítulo 23)</td>\n",
              "      <td>Apple TV 3 (revised)</td>\n",
              "      <td>00:00:37</td>\n",
              "      <td>Not latest view</td>\n",
              "      <td>Serie</td>\n",
              "    </tr>\n",
              "    <tr>\n",
              "      <th>12995</th>\n",
              "      <td>12995</td>\n",
              "      <td>Chona</td>\n",
              "      <td>2015-01-08 19:16:45</td>\n",
              "      <td>18</td>\n",
              "      <td>Lost: Temporada 1: Éxodo: Parte 1 (Capítulo 23)</td>\n",
              "      <td>Apple TV 3 (revised)</td>\n",
              "      <td>00:00:18</td>\n",
              "      <td>Not latest view</td>\n",
              "      <td>Serie</td>\n",
              "    </tr>\n",
              "    <tr>\n",
              "      <th>12996</th>\n",
              "      <td>12996</td>\n",
              "      <td>Chona</td>\n",
              "      <td>2015-01-08 19:15:14</td>\n",
              "      <td>18</td>\n",
              "      <td>Lost: Temporada 1: Éxodo: Parte 1 (Capítulo 23)</td>\n",
              "      <td>Apple TV 3 (revised)</td>\n",
              "      <td>00:00:18</td>\n",
              "      <td>Not latest view</td>\n",
              "      <td>Serie</td>\n",
              "    </tr>\n",
              "  </tbody>\n",
              "</table>\n",
              "<p>6201 rows × 9 columns</p>\n",
              "</div>\n",
              "      <button class=\"colab-df-convert\" onclick=\"convertToInteractive('df-0aad9b58-c298-4bca-a972-b568e8fc1d13')\"\n",
              "              title=\"Convert this dataframe to an interactive table.\"\n",
              "              style=\"display:none;\">\n",
              "        \n",
              "  <svg xmlns=\"http://www.w3.org/2000/svg\" height=\"24px\"viewBox=\"0 0 24 24\"\n",
              "       width=\"24px\">\n",
              "    <path d=\"M0 0h24v24H0V0z\" fill=\"none\"/>\n",
              "    <path d=\"M18.56 5.44l.94 2.06.94-2.06 2.06-.94-2.06-.94-.94-2.06-.94 2.06-2.06.94zm-11 1L8.5 8.5l.94-2.06 2.06-.94-2.06-.94L8.5 2.5l-.94 2.06-2.06.94zm10 10l.94 2.06.94-2.06 2.06-.94-2.06-.94-.94-2.06-.94 2.06-2.06.94z\"/><path d=\"M17.41 7.96l-1.37-1.37c-.4-.4-.92-.59-1.43-.59-.52 0-1.04.2-1.43.59L10.3 9.45l-7.72 7.72c-.78.78-.78 2.05 0 2.83L4 21.41c.39.39.9.59 1.41.59.51 0 1.02-.2 1.41-.59l7.78-7.78 2.81-2.81c.8-.78.8-2.07 0-2.86zM5.41 20L4 18.59l7.72-7.72 1.47 1.35L5.41 20z\"/>\n",
              "  </svg>\n",
              "      </button>\n",
              "      \n",
              "  <style>\n",
              "    .colab-df-container {\n",
              "      display:flex;\n",
              "      flex-wrap:wrap;\n",
              "      gap: 12px;\n",
              "    }\n",
              "\n",
              "    .colab-df-convert {\n",
              "      background-color: #E8F0FE;\n",
              "      border: none;\n",
              "      border-radius: 50%;\n",
              "      cursor: pointer;\n",
              "      display: none;\n",
              "      fill: #1967D2;\n",
              "      height: 32px;\n",
              "      padding: 0 0 0 0;\n",
              "      width: 32px;\n",
              "    }\n",
              "\n",
              "    .colab-df-convert:hover {\n",
              "      background-color: #E2EBFA;\n",
              "      box-shadow: 0px 1px 2px rgba(60, 64, 67, 0.3), 0px 1px 3px 1px rgba(60, 64, 67, 0.15);\n",
              "      fill: #174EA6;\n",
              "    }\n",
              "\n",
              "    [theme=dark] .colab-df-convert {\n",
              "      background-color: #3B4455;\n",
              "      fill: #D2E3FC;\n",
              "    }\n",
              "\n",
              "    [theme=dark] .colab-df-convert:hover {\n",
              "      background-color: #434B5C;\n",
              "      box-shadow: 0px 1px 3px 1px rgba(0, 0, 0, 0.15);\n",
              "      filter: drop-shadow(0px 1px 2px rgba(0, 0, 0, 0.3));\n",
              "      fill: #FFFFFF;\n",
              "    }\n",
              "  </style>\n",
              "\n",
              "      <script>\n",
              "        const buttonEl =\n",
              "          document.querySelector('#df-0aad9b58-c298-4bca-a972-b568e8fc1d13 button.colab-df-convert');\n",
              "        buttonEl.style.display =\n",
              "          google.colab.kernel.accessAllowed ? 'block' : 'none';\n",
              "\n",
              "        async function convertToInteractive(key) {\n",
              "          const element = document.querySelector('#df-0aad9b58-c298-4bca-a972-b568e8fc1d13');\n",
              "          const dataTable =\n",
              "            await google.colab.kernel.invokeFunction('convertToInteractive',\n",
              "                                                     [key], {});\n",
              "          if (!dataTable) return;\n",
              "\n",
              "          const docLinkHtml = 'Like what you see? Visit the ' +\n",
              "            '<a target=\"_blank\" href=https://colab.research.google.com/notebooks/data_table.ipynb>data table notebook</a>'\n",
              "            + ' to learn more about interactive tables.';\n",
              "          element.innerHTML = '';\n",
              "          dataTable['output_type'] = 'display_data';\n",
              "          await google.colab.output.renderOutput(dataTable, element);\n",
              "          const docLink = document.createElement('div');\n",
              "          docLink.innerHTML = docLinkHtml;\n",
              "          element.appendChild(docLink);\n",
              "        }\n",
              "      </script>\n",
              "    </div>\n",
              "  </div>\n",
              "  "
            ]
          },
          "metadata": {},
          "execution_count": 226
        }
      ]
    }
  ]
}