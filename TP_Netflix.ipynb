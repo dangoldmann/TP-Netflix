{
  "nbformat": 4,
  "nbformat_minor": 0,
  "metadata": {
    "colab": {
      "provenance": [],
      "collapsed_sections": [
        "jq_Klnz-iEOY",
        "8cXqRhHbigIu",
        "Qd5ALE-MAPzn",
        "odrZxb7Hi84R",
        "257yDV4OPpsI",
        "vMCJhi7JP5Dn",
        "JsGR5W9MP6HH"
      ],
      "include_colab_link": true
    },
    "kernelspec": {
      "name": "python3",
      "display_name": "Python 3"
    },
    "language_info": {
      "name": "python"
    }
  },
  "cells": [
    {
      "cell_type": "markdown",
      "metadata": {
        "id": "view-in-github",
        "colab_type": "text"
      },
      "source": [
        "<a href=\"https://colab.research.google.com/github/dangoldmann/TP-Netflix/blob/main/TP_Netflix.ipynb\" target=\"_parent\"><img src=\"https://colab.research.google.com/assets/colab-badge.svg\" alt=\"Open In Colab\"/></a>"
      ]
    },
    {
      "cell_type": "markdown",
      "source": [
        "# **Trabajo Práctico Netflix**\n",
        "### *Septiembre 2022*\n",
        "\n",
        "Descargar el archivo que contiene el historial de Netflix. Pueden descargar el suyo propio entrando a este link. A resolver de a grupos de 2 o 3 integrantes.\n",
        "\n",
        "Ignorar los siguientes dispositivos: 'Sony PS4', 'Netflix Windows App - Cadmium Windows Mobile', 'Apple iPhone 6s', 'Apple iPhone 7 Plus (CDMA)', 'Chrome PC (Cadmium)', 'Samsung 2015 NT14M DTV Smart TV', 'iPhone 5S GSM', 'Google Chromecast V3 Streaming Stick'.\n",
        "\n",
        "- Contabilizar el dispositivo con el que más títulos se reprodujeron.\n",
        "- Encontrar la película con más ocurrencias y la película con mayor duración total.\n",
        "- Generar un TOP “N” de series vistas y graficar.\n",
        " - Por tiempo visto\n",
        " - Por ocurrencias\n",
        "- Visualizar una semana de reproducciones genérica, en función a las reproducciones por día y por horario de todos los años.\n",
        "Contabilizar la cantidad de títulos vistos por año, graficar su variación a través de los años.\n",
        "Total de días de todos los títulos reproducidos.\n",
        "\n",
        "### **Bonus**\n",
        "\n",
        "- Identificar cuál fue la película de Star Wars más veces vista por duración.\n",
        "- Utilizando la API de IMDb (u otra):\n",
        " - Mostrar el póster de las películas más vistas, y de las series.\n",
        " - Encontrar el género de series y el de películas más ocurrente.\n",
        "- Encontrar la serie que más rápido se terminó de ver.\n",
        "\n",
        "\n",
        "Formato de entrega: Link a GitHub conteniendo el Ipython Notebook con su output guardado. No se corrigen Notebooks sin output generado ni entregas que no sean links a GitHub directamente. Se va a evaluar formato del Notebook, celdas de texto, prolijidad del código y de los resultados generados.\n",
        "\n",
        "\n"
      ],
      "metadata": {
        "id": "2EJ_H0aMVXYt"
      }
    },
    {
      "cell_type": "markdown",
      "source": [
        "Importando librerías"
      ],
      "metadata": {
        "id": "_VV7dUUliKMF"
      }
    },
    {
      "cell_type": "code",
      "source": [
        "import numpy as np\n",
        "import pandas as pd\n",
        "import matplotlib.pyplot as plt\n",
        "from importlib import reload\n",
        "plt=reload(plt)"
      ],
      "metadata": {
        "id": "nXkYU7nVV9Oa"
      },
      "execution_count": 2,
      "outputs": []
    },
    {
      "cell_type": "markdown",
      "source": [
        "Guardando el dataframe"
      ],
      "metadata": {
        "id": "aYmzmhcZX2kD"
      }
    },
    {
      "cell_type": "code",
      "source": [
        "df = pd.read_csv(\"NetflixHistory.csv\")"
      ],
      "metadata": {
        "id": "tNuTMhw5V_VQ"
      },
      "execution_count": 4,
      "outputs": []
    },
    {
      "cell_type": "markdown",
      "source": [
        "#### Eliminando filas no deseadas del dataframe"
      ],
      "metadata": {
        "id": "jq_Klnz-iEOY"
      }
    },
    {
      "cell_type": "markdown",
      "source": [
        "Eliminando las visualizaciones de los dispositivos no deseados"
      ],
      "metadata": {
        "id": "gJQZBjVyX_C4"
      }
    },
    {
      "cell_type": "code",
      "source": [
        "dispositivosIgnorados = [\"Sony PS4\", \"Netflix Windows App - Cadmium Windows Mobile\", \"Apple iPhone 6s\", \"Apple iPhone 7 Plus (CDMA)\", \"Chrome PC (Cadmium)\", \"Samsung 2015 NT14M DTV Smart TV\", \"iPhone 5S GSM\", \"Google Chromecast V3 Streaming Stick\"]\n",
        "\n",
        "for i in dispositivosIgnorados:\n",
        "  df = df[df[\"Device Type\"] != i]"
      ],
      "metadata": {
        "id": "Pbdtq1td9dP4"
      },
      "execution_count": 5,
      "outputs": []
    },
    {
      "cell_type": "markdown",
      "source": [
        "Eliminando los hooks, trailers y recaps"
      ],
      "metadata": {
        "id": "1VIrDVGDeujT"
      }
    },
    {
      "cell_type": "code",
      "source": [
        "video_types = df.groupby([\"Supplemental Video Type\"]).size()\n",
        "video_types"
      ],
      "metadata": {
        "colab": {
          "base_uri": "https://localhost:8080/"
        },
        "id": "buqz9hK8fhAi",
        "outputId": "db058838-81f1-4084-a67a-f181999b22ea"
      },
      "execution_count": 6,
      "outputs": [
        {
          "output_type": "execute_result",
          "data": {
            "text/plain": [
              "Supplemental Video Type\n",
              "HOOK              49\n",
              "RECAP              4\n",
              "TEASER_TRAILER     3\n",
              "TRAILER           34\n",
              "dtype: int64"
            ]
          },
          "metadata": {},
          "execution_count": 6
        }
      ]
    },
    {
      "cell_type": "code",
      "source": [
        "videoTypesIgnorados = [\"HOOK\", \"RECAP\", \"TEASER_TRAILER\", \"TRAILER\"]\n",
        "\n",
        "for i in videoTypesIgnorados:\n",
        "  df = df[df[\"Supplemental Video Type\"] != i]"
      ],
      "metadata": {
        "id": "p6wX1IiDeyID"
      },
      "execution_count": 7,
      "outputs": []
    },
    {
      "cell_type": "markdown",
      "source": [
        "Eliminando columnas no utilizadas"
      ],
      "metadata": {
        "id": "n6B3_NZFopl2"
      }
    },
    {
      "cell_type": "code",
      "source": [
        "columnasIgnoradas = [\"Supplemental Video Type\", \"Attributes\", \"Country\"]\n",
        "\n",
        "for i in columnasIgnoradas:\n",
        "  df = df.drop(columns = i)"
      ],
      "metadata": {
        "id": "tVDqfJVrokyz"
      },
      "execution_count": 8,
      "outputs": []
    },
    {
      "cell_type": "markdown",
      "source": [
        "#### Modificando las columnas"
      ],
      "metadata": {
        "id": "8cXqRhHbigIu"
      }
    },
    {
      "cell_type": "markdown",
      "source": [
        "Crear una nueva columna que contenga si la visualización corresponde a una película o una serie"
      ],
      "metadata": {
        "id": "oiUDqjheJC6w"
      }
    },
    {
      "cell_type": "code",
      "source": [
        "def defineContentType(input):\n",
        "  if input.count(':') > 1:\n",
        "    return \"Serie\"\n",
        "  else:\n",
        "    return \"Pelicula\""
      ],
      "metadata": {
        "id": "Vf-HXKklVHYi"
      },
      "execution_count": 9,
      "outputs": []
    },
    {
      "cell_type": "code",
      "source": [
        "df[\"Content Type\"] = df[\"Title\"].apply(defineContentType)"
      ],
      "metadata": {
        "id": "GzPR7gMjVXzV"
      },
      "execution_count": 10,
      "outputs": []
    },
    {
      "cell_type": "markdown",
      "source": [
        "Cambiando los valores de las duraciones a segundos"
      ],
      "metadata": {
        "id": "jchiIrsdniNt"
      }
    },
    {
      "cell_type": "code",
      "source": [
        "def changeDurationToSec(input):\n",
        "  try:\n",
        "    horas, minutos, segundos = input.split(':')\n",
        "    return int(horas) * 60 * 60 + int(minutos) * 60 + int(segundos)\n",
        "  except:\n",
        "    return input"
      ],
      "metadata": {
        "id": "XgkMJ4bqnmRp"
      },
      "execution_count": 11,
      "outputs": []
    },
    {
      "cell_type": "code",
      "source": [
        "df[\"Duration\"] = df[\"Duration\"].apply(changeDurationToSec)"
      ],
      "metadata": {
        "id": "mVLeWzIPrY6W"
      },
      "execution_count": 12,
      "outputs": []
    },
    {
      "cell_type": "markdown",
      "source": [
        "#### Contabilizar el dispositivo con el que más títulos se reprodujeron"
      ],
      "metadata": {
        "id": "Qd5ALE-MAPzn"
      }
    },
    {
      "cell_type": "code",
      "source": [
        "dispositivos = df.groupby([\"Device Type\"]).size()\n",
        "max_cant = max(dispositivos)\n",
        "dispositivos = dispositivos.reset_index()"
      ],
      "metadata": {
        "id": "H7HZrc3T60tj"
      },
      "execution_count": 13,
      "outputs": []
    },
    {
      "cell_type": "code",
      "source": [
        "dispositivoMasUtilizado = dispositivos.loc[dispositivos[0]==max_cant]\n",
        "dispositivoMasUtilizado"
      ],
      "metadata": {
        "colab": {
          "base_uri": "https://localhost:8080/",
          "height": 81
        },
        "id": "WQRWBClOBcnQ",
        "outputId": "c048ec85-57ff-4d90-f1d8-92469284192b"
      },
      "execution_count": 14,
      "outputs": [
        {
          "output_type": "execute_result",
          "data": {
            "text/plain": [
              "                 Device Type     0\n",
              "1  Apple Apple TV 4 Apple TV  3439"
            ],
            "text/html": [
              "\n",
              "  <div id=\"df-46f865fc-ab35-4881-872f-0076578d3291\">\n",
              "    <div class=\"colab-df-container\">\n",
              "      <div>\n",
              "<style scoped>\n",
              "    .dataframe tbody tr th:only-of-type {\n",
              "        vertical-align: middle;\n",
              "    }\n",
              "\n",
              "    .dataframe tbody tr th {\n",
              "        vertical-align: top;\n",
              "    }\n",
              "\n",
              "    .dataframe thead th {\n",
              "        text-align: right;\n",
              "    }\n",
              "</style>\n",
              "<table border=\"1\" class=\"dataframe\">\n",
              "  <thead>\n",
              "    <tr style=\"text-align: right;\">\n",
              "      <th></th>\n",
              "      <th>Device Type</th>\n",
              "      <th>0</th>\n",
              "    </tr>\n",
              "  </thead>\n",
              "  <tbody>\n",
              "    <tr>\n",
              "      <th>1</th>\n",
              "      <td>Apple Apple TV 4 Apple TV</td>\n",
              "      <td>3439</td>\n",
              "    </tr>\n",
              "  </tbody>\n",
              "</table>\n",
              "</div>\n",
              "      <button class=\"colab-df-convert\" onclick=\"convertToInteractive('df-46f865fc-ab35-4881-872f-0076578d3291')\"\n",
              "              title=\"Convert this dataframe to an interactive table.\"\n",
              "              style=\"display:none;\">\n",
              "        \n",
              "  <svg xmlns=\"http://www.w3.org/2000/svg\" height=\"24px\"viewBox=\"0 0 24 24\"\n",
              "       width=\"24px\">\n",
              "    <path d=\"M0 0h24v24H0V0z\" fill=\"none\"/>\n",
              "    <path d=\"M18.56 5.44l.94 2.06.94-2.06 2.06-.94-2.06-.94-.94-2.06-.94 2.06-2.06.94zm-11 1L8.5 8.5l.94-2.06 2.06-.94-2.06-.94L8.5 2.5l-.94 2.06-2.06.94zm10 10l.94 2.06.94-2.06 2.06-.94-2.06-.94-.94-2.06-.94 2.06-2.06.94z\"/><path d=\"M17.41 7.96l-1.37-1.37c-.4-.4-.92-.59-1.43-.59-.52 0-1.04.2-1.43.59L10.3 9.45l-7.72 7.72c-.78.78-.78 2.05 0 2.83L4 21.41c.39.39.9.59 1.41.59.51 0 1.02-.2 1.41-.59l7.78-7.78 2.81-2.81c.8-.78.8-2.07 0-2.86zM5.41 20L4 18.59l7.72-7.72 1.47 1.35L5.41 20z\"/>\n",
              "  </svg>\n",
              "      </button>\n",
              "      \n",
              "  <style>\n",
              "    .colab-df-container {\n",
              "      display:flex;\n",
              "      flex-wrap:wrap;\n",
              "      gap: 12px;\n",
              "    }\n",
              "\n",
              "    .colab-df-convert {\n",
              "      background-color: #E8F0FE;\n",
              "      border: none;\n",
              "      border-radius: 50%;\n",
              "      cursor: pointer;\n",
              "      display: none;\n",
              "      fill: #1967D2;\n",
              "      height: 32px;\n",
              "      padding: 0 0 0 0;\n",
              "      width: 32px;\n",
              "    }\n",
              "\n",
              "    .colab-df-convert:hover {\n",
              "      background-color: #E2EBFA;\n",
              "      box-shadow: 0px 1px 2px rgba(60, 64, 67, 0.3), 0px 1px 3px 1px rgba(60, 64, 67, 0.15);\n",
              "      fill: #174EA6;\n",
              "    }\n",
              "\n",
              "    [theme=dark] .colab-df-convert {\n",
              "      background-color: #3B4455;\n",
              "      fill: #D2E3FC;\n",
              "    }\n",
              "\n",
              "    [theme=dark] .colab-df-convert:hover {\n",
              "      background-color: #434B5C;\n",
              "      box-shadow: 0px 1px 3px 1px rgba(0, 0, 0, 0.15);\n",
              "      filter: drop-shadow(0px 1px 2px rgba(0, 0, 0, 0.3));\n",
              "      fill: #FFFFFF;\n",
              "    }\n",
              "  </style>\n",
              "\n",
              "      <script>\n",
              "        const buttonEl =\n",
              "          document.querySelector('#df-46f865fc-ab35-4881-872f-0076578d3291 button.colab-df-convert');\n",
              "        buttonEl.style.display =\n",
              "          google.colab.kernel.accessAllowed ? 'block' : 'none';\n",
              "\n",
              "        async function convertToInteractive(key) {\n",
              "          const element = document.querySelector('#df-46f865fc-ab35-4881-872f-0076578d3291');\n",
              "          const dataTable =\n",
              "            await google.colab.kernel.invokeFunction('convertToInteractive',\n",
              "                                                     [key], {});\n",
              "          if (!dataTable) return;\n",
              "\n",
              "          const docLinkHtml = 'Like what you see? Visit the ' +\n",
              "            '<a target=\"_blank\" href=https://colab.research.google.com/notebooks/data_table.ipynb>data table notebook</a>'\n",
              "            + ' to learn more about interactive tables.';\n",
              "          element.innerHTML = '';\n",
              "          dataTable['output_type'] = 'display_data';\n",
              "          await google.colab.output.renderOutput(dataTable, element);\n",
              "          const docLink = document.createElement('div');\n",
              "          docLink.innerHTML = docLinkHtml;\n",
              "          element.appendChild(docLink);\n",
              "        }\n",
              "      </script>\n",
              "    </div>\n",
              "  </div>\n",
              "  "
            ]
          },
          "metadata": {},
          "execution_count": 14
        }
      ]
    },
    {
      "cell_type": "markdown",
      "source": [
        "#### Encontrar la película con más ocurrencias y la película con mayor duración total"
      ],
      "metadata": {
        "id": "odrZxb7Hi84R"
      }
    },
    {
      "cell_type": "code",
      "source": [
        "df_peliculas = df[df[\"Content Type\"] == \"Pelicula\"]"
      ],
      "metadata": {
        "id": "WTJtFRnejA32"
      },
      "execution_count": 15,
      "outputs": []
    },
    {
      "cell_type": "markdown",
      "source": [
        "Mayor ocurrencias"
      ],
      "metadata": {
        "id": "es0wkAal0Trs"
      }
    },
    {
      "cell_type": "code",
      "source": [
        "peliculas = df_peliculas.groupby([\"Title\"]).size().reset_index()\n",
        "peliculas = peliculas.rename(columns={0:\"Occurrences\"})\n",
        "max_pelicula = max(peliculas[\"Occurrences\"])\n",
        "peliMasOcurrida = peliculas.loc[peliculas[\"Occurrences\"]==max_pelicula]\n",
        "peliMasOcurrida"
      ],
      "metadata": {
        "colab": {
          "base_uri": "https://localhost:8080/",
          "height": 112
        },
        "id": "f7vwsqppkBMW",
        "outputId": "25b193cc-3f00-47f0-893e-574d33e2aebd"
      },
      "execution_count": 16,
      "outputs": [
        {
          "output_type": "execute_result",
          "data": {
            "text/plain": [
              "                                 Title  Occurrences\n",
              "42                    El código enigma            7\n",
              "128  Star Wars: El Imperio contraataca            7"
            ],
            "text/html": [
              "\n",
              "  <div id=\"df-8f1e5827-fc34-42eb-a761-93953c10abb0\">\n",
              "    <div class=\"colab-df-container\">\n",
              "      <div>\n",
              "<style scoped>\n",
              "    .dataframe tbody tr th:only-of-type {\n",
              "        vertical-align: middle;\n",
              "    }\n",
              "\n",
              "    .dataframe tbody tr th {\n",
              "        vertical-align: top;\n",
              "    }\n",
              "\n",
              "    .dataframe thead th {\n",
              "        text-align: right;\n",
              "    }\n",
              "</style>\n",
              "<table border=\"1\" class=\"dataframe\">\n",
              "  <thead>\n",
              "    <tr style=\"text-align: right;\">\n",
              "      <th></th>\n",
              "      <th>Title</th>\n",
              "      <th>Occurrences</th>\n",
              "    </tr>\n",
              "  </thead>\n",
              "  <tbody>\n",
              "    <tr>\n",
              "      <th>42</th>\n",
              "      <td>El código enigma</td>\n",
              "      <td>7</td>\n",
              "    </tr>\n",
              "    <tr>\n",
              "      <th>128</th>\n",
              "      <td>Star Wars: El Imperio contraataca</td>\n",
              "      <td>7</td>\n",
              "    </tr>\n",
              "  </tbody>\n",
              "</table>\n",
              "</div>\n",
              "      <button class=\"colab-df-convert\" onclick=\"convertToInteractive('df-8f1e5827-fc34-42eb-a761-93953c10abb0')\"\n",
              "              title=\"Convert this dataframe to an interactive table.\"\n",
              "              style=\"display:none;\">\n",
              "        \n",
              "  <svg xmlns=\"http://www.w3.org/2000/svg\" height=\"24px\"viewBox=\"0 0 24 24\"\n",
              "       width=\"24px\">\n",
              "    <path d=\"M0 0h24v24H0V0z\" fill=\"none\"/>\n",
              "    <path d=\"M18.56 5.44l.94 2.06.94-2.06 2.06-.94-2.06-.94-.94-2.06-.94 2.06-2.06.94zm-11 1L8.5 8.5l.94-2.06 2.06-.94-2.06-.94L8.5 2.5l-.94 2.06-2.06.94zm10 10l.94 2.06.94-2.06 2.06-.94-2.06-.94-.94-2.06-.94 2.06-2.06.94z\"/><path d=\"M17.41 7.96l-1.37-1.37c-.4-.4-.92-.59-1.43-.59-.52 0-1.04.2-1.43.59L10.3 9.45l-7.72 7.72c-.78.78-.78 2.05 0 2.83L4 21.41c.39.39.9.59 1.41.59.51 0 1.02-.2 1.41-.59l7.78-7.78 2.81-2.81c.8-.78.8-2.07 0-2.86zM5.41 20L4 18.59l7.72-7.72 1.47 1.35L5.41 20z\"/>\n",
              "  </svg>\n",
              "      </button>\n",
              "      \n",
              "  <style>\n",
              "    .colab-df-container {\n",
              "      display:flex;\n",
              "      flex-wrap:wrap;\n",
              "      gap: 12px;\n",
              "    }\n",
              "\n",
              "    .colab-df-convert {\n",
              "      background-color: #E8F0FE;\n",
              "      border: none;\n",
              "      border-radius: 50%;\n",
              "      cursor: pointer;\n",
              "      display: none;\n",
              "      fill: #1967D2;\n",
              "      height: 32px;\n",
              "      padding: 0 0 0 0;\n",
              "      width: 32px;\n",
              "    }\n",
              "\n",
              "    .colab-df-convert:hover {\n",
              "      background-color: #E2EBFA;\n",
              "      box-shadow: 0px 1px 2px rgba(60, 64, 67, 0.3), 0px 1px 3px 1px rgba(60, 64, 67, 0.15);\n",
              "      fill: #174EA6;\n",
              "    }\n",
              "\n",
              "    [theme=dark] .colab-df-convert {\n",
              "      background-color: #3B4455;\n",
              "      fill: #D2E3FC;\n",
              "    }\n",
              "\n",
              "    [theme=dark] .colab-df-convert:hover {\n",
              "      background-color: #434B5C;\n",
              "      box-shadow: 0px 1px 3px 1px rgba(0, 0, 0, 0.15);\n",
              "      filter: drop-shadow(0px 1px 2px rgba(0, 0, 0, 0.3));\n",
              "      fill: #FFFFFF;\n",
              "    }\n",
              "  </style>\n",
              "\n",
              "      <script>\n",
              "        const buttonEl =\n",
              "          document.querySelector('#df-8f1e5827-fc34-42eb-a761-93953c10abb0 button.colab-df-convert');\n",
              "        buttonEl.style.display =\n",
              "          google.colab.kernel.accessAllowed ? 'block' : 'none';\n",
              "\n",
              "        async function convertToInteractive(key) {\n",
              "          const element = document.querySelector('#df-8f1e5827-fc34-42eb-a761-93953c10abb0');\n",
              "          const dataTable =\n",
              "            await google.colab.kernel.invokeFunction('convertToInteractive',\n",
              "                                                     [key], {});\n",
              "          if (!dataTable) return;\n",
              "\n",
              "          const docLinkHtml = 'Like what you see? Visit the ' +\n",
              "            '<a target=\"_blank\" href=https://colab.research.google.com/notebooks/data_table.ipynb>data table notebook</a>'\n",
              "            + ' to learn more about interactive tables.';\n",
              "          element.innerHTML = '';\n",
              "          dataTable['output_type'] = 'display_data';\n",
              "          await google.colab.output.renderOutput(dataTable, element);\n",
              "          const docLink = document.createElement('div');\n",
              "          docLink.innerHTML = docLinkHtml;\n",
              "          element.appendChild(docLink);\n",
              "        }\n",
              "      </script>\n",
              "    </div>\n",
              "  </div>\n",
              "  "
            ]
          },
          "metadata": {},
          "execution_count": 16
        }
      ]
    },
    {
      "cell_type": "markdown",
      "source": [
        "Mayor duración"
      ],
      "metadata": {
        "id": "mshT-zYB0VYe"
      }
    },
    {
      "cell_type": "code",
      "source": [
        "durations = df_peliculas.groupby(['Title', 'Duration']).size().reset_index()\n",
        "durations = durations.drop(columns=0)\n",
        "max_duration = max(durations[\"Duration\"])\n",
        "peliMasDuracion = durations.loc[durations[\"Duration\"] == max_duration]\n",
        "peliMasDuracion"
      ],
      "metadata": {
        "colab": {
          "base_uri": "https://localhost:8080/",
          "height": 81
        },
        "id": "8Z02fAUuw9Nh",
        "outputId": "fb6ac8f3-78c8-4023-d62b-0f64d7ba4aff"
      },
      "execution_count": 17,
      "outputs": [
        {
          "output_type": "execute_result",
          "data": {
            "text/plain": [
              "                  Title  Duration\n",
              "63  El club de la pelea      8411"
            ],
            "text/html": [
              "\n",
              "  <div id=\"df-9394f5bb-b598-4414-ab76-d0d8dd92a693\">\n",
              "    <div class=\"colab-df-container\">\n",
              "      <div>\n",
              "<style scoped>\n",
              "    .dataframe tbody tr th:only-of-type {\n",
              "        vertical-align: middle;\n",
              "    }\n",
              "\n",
              "    .dataframe tbody tr th {\n",
              "        vertical-align: top;\n",
              "    }\n",
              "\n",
              "    .dataframe thead th {\n",
              "        text-align: right;\n",
              "    }\n",
              "</style>\n",
              "<table border=\"1\" class=\"dataframe\">\n",
              "  <thead>\n",
              "    <tr style=\"text-align: right;\">\n",
              "      <th></th>\n",
              "      <th>Title</th>\n",
              "      <th>Duration</th>\n",
              "    </tr>\n",
              "  </thead>\n",
              "  <tbody>\n",
              "    <tr>\n",
              "      <th>63</th>\n",
              "      <td>El club de la pelea</td>\n",
              "      <td>8411</td>\n",
              "    </tr>\n",
              "  </tbody>\n",
              "</table>\n",
              "</div>\n",
              "      <button class=\"colab-df-convert\" onclick=\"convertToInteractive('df-9394f5bb-b598-4414-ab76-d0d8dd92a693')\"\n",
              "              title=\"Convert this dataframe to an interactive table.\"\n",
              "              style=\"display:none;\">\n",
              "        \n",
              "  <svg xmlns=\"http://www.w3.org/2000/svg\" height=\"24px\"viewBox=\"0 0 24 24\"\n",
              "       width=\"24px\">\n",
              "    <path d=\"M0 0h24v24H0V0z\" fill=\"none\"/>\n",
              "    <path d=\"M18.56 5.44l.94 2.06.94-2.06 2.06-.94-2.06-.94-.94-2.06-.94 2.06-2.06.94zm-11 1L8.5 8.5l.94-2.06 2.06-.94-2.06-.94L8.5 2.5l-.94 2.06-2.06.94zm10 10l.94 2.06.94-2.06 2.06-.94-2.06-.94-.94-2.06-.94 2.06-2.06.94z\"/><path d=\"M17.41 7.96l-1.37-1.37c-.4-.4-.92-.59-1.43-.59-.52 0-1.04.2-1.43.59L10.3 9.45l-7.72 7.72c-.78.78-.78 2.05 0 2.83L4 21.41c.39.39.9.59 1.41.59.51 0 1.02-.2 1.41-.59l7.78-7.78 2.81-2.81c.8-.78.8-2.07 0-2.86zM5.41 20L4 18.59l7.72-7.72 1.47 1.35L5.41 20z\"/>\n",
              "  </svg>\n",
              "      </button>\n",
              "      \n",
              "  <style>\n",
              "    .colab-df-container {\n",
              "      display:flex;\n",
              "      flex-wrap:wrap;\n",
              "      gap: 12px;\n",
              "    }\n",
              "\n",
              "    .colab-df-convert {\n",
              "      background-color: #E8F0FE;\n",
              "      border: none;\n",
              "      border-radius: 50%;\n",
              "      cursor: pointer;\n",
              "      display: none;\n",
              "      fill: #1967D2;\n",
              "      height: 32px;\n",
              "      padding: 0 0 0 0;\n",
              "      width: 32px;\n",
              "    }\n",
              "\n",
              "    .colab-df-convert:hover {\n",
              "      background-color: #E2EBFA;\n",
              "      box-shadow: 0px 1px 2px rgba(60, 64, 67, 0.3), 0px 1px 3px 1px rgba(60, 64, 67, 0.15);\n",
              "      fill: #174EA6;\n",
              "    }\n",
              "\n",
              "    [theme=dark] .colab-df-convert {\n",
              "      background-color: #3B4455;\n",
              "      fill: #D2E3FC;\n",
              "    }\n",
              "\n",
              "    [theme=dark] .colab-df-convert:hover {\n",
              "      background-color: #434B5C;\n",
              "      box-shadow: 0px 1px 3px 1px rgba(0, 0, 0, 0.15);\n",
              "      filter: drop-shadow(0px 1px 2px rgba(0, 0, 0, 0.3));\n",
              "      fill: #FFFFFF;\n",
              "    }\n",
              "  </style>\n",
              "\n",
              "      <script>\n",
              "        const buttonEl =\n",
              "          document.querySelector('#df-9394f5bb-b598-4414-ab76-d0d8dd92a693 button.colab-df-convert');\n",
              "        buttonEl.style.display =\n",
              "          google.colab.kernel.accessAllowed ? 'block' : 'none';\n",
              "\n",
              "        async function convertToInteractive(key) {\n",
              "          const element = document.querySelector('#df-9394f5bb-b598-4414-ab76-d0d8dd92a693');\n",
              "          const dataTable =\n",
              "            await google.colab.kernel.invokeFunction('convertToInteractive',\n",
              "                                                     [key], {});\n",
              "          if (!dataTable) return;\n",
              "\n",
              "          const docLinkHtml = 'Like what you see? Visit the ' +\n",
              "            '<a target=\"_blank\" href=https://colab.research.google.com/notebooks/data_table.ipynb>data table notebook</a>'\n",
              "            + ' to learn more about interactive tables.';\n",
              "          element.innerHTML = '';\n",
              "          dataTable['output_type'] = 'display_data';\n",
              "          await google.colab.output.renderOutput(dataTable, element);\n",
              "          const docLink = document.createElement('div');\n",
              "          docLink.innerHTML = docLinkHtml;\n",
              "          element.appendChild(docLink);\n",
              "        }\n",
              "      </script>\n",
              "    </div>\n",
              "  </div>\n",
              "  "
            ]
          },
          "metadata": {},
          "execution_count": 17
        }
      ]
    },
    {
      "cell_type": "markdown",
      "source": [
        "#### Generar un TOP “N” de series vistas y graficar"
      ],
      "metadata": {
        "id": "257yDV4OPpsI"
      }
    },
    {
      "cell_type": "markdown",
      "source": [
        "Guardando las series en un dataframe"
      ],
      "metadata": {
        "id": "xsyagbYmWbAm"
      }
    },
    {
      "cell_type": "code",
      "source": [
        "df_series = df[df[\"Content Type\"] == \"Serie\"]"
      ],
      "metadata": {
        "id": "qOlgevu_RtGE"
      },
      "execution_count": 18,
      "outputs": []
    },
    {
      "cell_type": "markdown",
      "source": [
        "Simplificando los titulos"
      ],
      "metadata": {
        "id": "uYQB9vFMWiEZ"
      }
    },
    {
      "cell_type": "code",
      "source": [
        "def simplifyTitle(input):\n",
        "  return input.split(':')[0]\n",
        "\n",
        "df_series[\"Title\"] = df_series[\"Title\"].apply(simplifyTitle)"
      ],
      "metadata": {
        "id": "fMsdUXjdTqCP"
      },
      "execution_count": null,
      "outputs": []
    },
    {
      "cell_type": "markdown",
      "source": [
        "##### Por tiempo visto"
      ],
      "metadata": {
        "id": "vMCJhi7JP5Dn"
      }
    },
    {
      "cell_type": "markdown",
      "source": [
        "Guardando en un dataframe los titulos y las horas de reproduccion correspondientes"
      ],
      "metadata": {
        "id": "SZd6OCRWXqXb"
      }
    },
    {
      "cell_type": "code",
      "source": [
        "series_durations = df_series.groupby(\"Title\")[[\"Duration\"]].sum()\n",
        "series_durations = series_durations.sort_values(by=\"Duration\", ascending = False).reset_index()"
      ],
      "metadata": {
        "id": "e6cu6vPyP8tR"
      },
      "execution_count": 20,
      "outputs": []
    },
    {
      "cell_type": "markdown",
      "source": [
        "Creando un diccionario que contiene como keys el titulo de la series y como valor sus horas de reproducción correspondientes"
      ],
      "metadata": {
        "id": "miSIOE4kX430"
      }
    },
    {
      "cell_type": "code",
      "source": [
        "peli_duracion = {}\n",
        "\n",
        "cantidadTopTiempo = int(input(\"De cuantas series desea hacer el top: \"))\n",
        "i = 0\n",
        "while i < cantidadTopTiempo:\n",
        "  title = series_durations[\"Title\"][i]\n",
        "  duration = int(series_durations[\"Duration\"][i] / 3600)\n",
        "  peli_duracion[title] = duration\n",
        "  i += 1"
      ],
      "metadata": {
        "id": "S4mcB8t_X_Ev",
        "outputId": "3f92af3d-c054-4aa7-d0e2-501101a6094d",
        "colab": {
          "base_uri": "https://localhost:8080/"
        }
      },
      "execution_count": 21,
      "outputs": [
        {
          "name": "stdout",
          "output_type": "stream",
          "text": [
            "De cuantas series desea hacer el top: 5\n"
          ]
        }
      ]
    },
    {
      "cell_type": "markdown",
      "source": [
        "Creando el grafico basado en el diccionario"
      ],
      "metadata": {
        "id": "ZBlPNmFNXYWJ"
      }
    },
    {
      "cell_type": "code",
      "source": [
        "fig = plt.figure(figsize = (cantidadTopTiempo * 2, cantidadTopTiempo * 1.5))\n",
        "plt.bar(peli_duracion.keys(), peli_duracion.values(), width = 0.5)\n",
        "\n",
        "plt.xlabel('Series', fontSize=14)\n",
        "plt.ylabel('Tiempo (hs)', fontSize=14)\n",
        "\n",
        "plt.title(\"TOP \" + str(cantidadTopTiempo) + \" Series por tiempo visto\", fontSize = 18)\n",
        "plt.show()"
      ],
      "metadata": {
        "id": "q6a9is1EUaJA",
        "outputId": "06dd4e84-1aa9-4fd3-d10f-d16f502e955e",
        "colab": {
          "base_uri": "https://localhost:8080/",
          "height": 494
        }
      },
      "execution_count": 22,
      "outputs": [
        {
          "output_type": "display_data",
          "data": {
            "text/plain": [
              "<Figure size 720x540 with 1 Axes>"
            ],
            "image/png": "[encoded data removed]"
          },
          "metadata": {
            "needs_background": "light"
          }
        }
      ]
    },
    {
      "cell_type": "markdown",
      "source": [
        "##### Por ocurrencias"
      ],
      "metadata": {
        "id": "JsGR5W9MP6HH"
      }
    },
    {
      "cell_type": "markdown",
      "source": [
        "Guardando en un dataframe los titulos y las ocurrencias de cada serie"
      ],
      "metadata": {
        "id": "t2vA1IRrYKwM"
      }
    },
    {
      "cell_type": "code",
      "source": [
        "series_occurrences = df_series.groupby([\"Title\"]).size().reset_index()\n",
        "series_occurrences = series_occurrences.rename(columns = {0:\"Occurrences\"})\n",
        "series_occurrences = series_occurrences.sort_values(by = \"Occurrences\", ascending = False).reset_index()"
      ],
      "metadata": {
        "id": "uVKkLLZxaOU1"
      },
      "execution_count": 23,
      "outputs": []
    },
    {
      "cell_type": "markdown",
      "source": [
        "Creando un diccionario que contiene como keys los titulos de las peliculas y como valores su numero de ocurrencias correspondiente"
      ],
      "metadata": {
        "id": "s3bFo4w3YTdy"
      }
    },
    {
      "cell_type": "code",
      "source": [
        "peli_ocurrencia = {}\n",
        "\n",
        "cantidadTopOcurrencias = int(input(\"De cuantas series desea hacer el top: \"))\n",
        "i = 0\n",
        "while i < cantidadTopOcurrencias:\n",
        "  title = series_occurrences[\"Title\"][i]\n",
        "  occurrences = series_occurrences[\"Occurrences\"][i]\n",
        "  peli_ocurrencia[title] = occurrences\n",
        "  i += 1"
      ],
      "metadata": {
        "id": "vCNf0fUKYb_j",
        "outputId": "78f41972-4693-4356-ac03-5ef73fa1426e",
        "colab": {
          "base_uri": "https://localhost:8080/"
        }
      },
      "execution_count": 24,
      "outputs": [
        {
          "name": "stdout",
          "output_type": "stream",
          "text": [
            "De cuantas series desea hacer el top: 5\n"
          ]
        }
      ]
    },
    {
      "cell_type": "markdown",
      "source": [
        "Creando un grafico basado en el diccionario"
      ],
      "metadata": {
        "id": "XipSer8gYihl"
      }
    },
    {
      "cell_type": "code",
      "source": [
        "fig = plt.figure(figsize = (cantidadTopOcurrencias * 2, cantidadTopOcurrencias * 1.5))\n",
        "plt.bar(peli_ocurrencia.keys(), peli_ocurrencia.values(), width = 0.5)\n",
        "\n",
        "plt.xlabel('Series', fontSize=14)\n",
        "plt.ylabel('Ocurrencias', fontSize=14)\n",
        "\n",
        "plt.title(\"TOP \" + str(cantidadTopOcurrencias) + \" Series por ocurrencia\", fontSize = 18)\n",
        "plt.show()"
      ],
      "metadata": {
        "id": "397TMm-FFpyK",
        "outputId": "17f74ff3-a4d4-4e52-c011-2f55aba9064d",
        "colab": {
          "base_uri": "https://localhost:8080/",
          "height": 494
        }
      },
      "execution_count": 25,
      "outputs": [
        {
          "output_type": "display_data",
          "data": {
            "text/plain": [
              "<Figure size 720x540 with 1 Axes>"
            ],
            "image/png": "[encoded data removed]"
          },
          "metadata": {
            "needs_background": "light"
          }
        }
      ]
    },
    {
      "cell_type": "markdown",
      "source": [
        "#### Visualizar una semana de reproducciones genérica, en función a las reproducciones por día y por horario de todos los años."
      ],
      "metadata": {
        "id": "eZbjVn0oWn_p"
      }
    },
    {
      "cell_type": "code",
      "source": [
        "def definirAño(input):\n",
        "  return input.split('-')[0]\n",
        "\n",
        "df[\"Year\"] = df[\"Start Time\"].apply(definirAño)"
      ],
      "metadata": {
        "id": "CfhBkZHVWtBj"
      },
      "execution_count": 31,
      "outputs": []
    },
    {
      "cell_type": "markdown",
      "source": [
        "#### Contabilizar la cantidad de títulos vistos por año, graficar su variación a través de los años."
      ],
      "metadata": {
        "id": "IEeieq775_uN"
      }
    },
    {
      "cell_type": "markdown",
      "source": [
        "Creando una columna con los titulos simplificados"
      ],
      "metadata": {
        "id": "3j8xEd6vDKBa"
      }
    },
    {
      "cell_type": "code",
      "source": [
        "df[\"Simple Title\"] = df[\"Title\"].apply(simplifyTitle)"
      ],
      "metadata": {
        "id": "pAH66pjyDMG5"
      },
      "execution_count": 81,
      "outputs": []
    },
    {
      "cell_type": "markdown",
      "source": [
        "Guardando en un diccionario como keys los años y como valores la cantidad de titulos correspondiente"
      ],
      "metadata": {
        "id": "JNI2s3EJHnQg"
      }
    },
    {
      "cell_type": "code",
      "source": [
        "titulosTotal = df.groupby([\"Simple Title\", \"Year\"]).size().reset_index()\n",
        "\n",
        "añosVistos = [\"2015\", \"2016\", \"2017\", \"2018\", \"2019\", \"2020\", \"2021\", \"2022\"]\n",
        "\n",
        "años_titulos = {}\n",
        "\n",
        "for i in añosVistos:\n",
        "  años_titulos[i] = titulosTotal[titulosTotal[\"Year\"] == i][0].count()\n",
        "\n",
        "años_titulos"
      ],
      "metadata": {
        "colab": {
          "base_uri": "https://localhost:8080/"
        },
        "id": "AMQmc5EQ62Zi",
        "outputId": "26751a21-5b34-4b42-c34b-0d8a9959da28"
      },
      "execution_count": 120,
      "outputs": [
        {
          "output_type": "execute_result",
          "data": {
            "text/plain": [
              "{'2015': 81,\n",
              " '2016': 39,\n",
              " '2017': 78,\n",
              " '2018': 52,\n",
              " '2019': 45,\n",
              " '2020': 29,\n",
              " '2021': 26,\n",
              " '2022': 11}"
            ]
          },
          "metadata": {},
          "execution_count": 120
        }
      ]
    },
    {
      "cell_type": "markdown",
      "source": [
        "Graficando la variación a traves de los años usando el diccionario"
      ],
      "metadata": {
        "id": "YbY3bqWe_Wkc"
      }
    },
    {
      "cell_type": "code",
      "source": [
        "fig = plt.figure(figsize = (10, 7.5))\n",
        "plt.bar(años_titulos.keys(), años_titulos.values(), width = 0.5)\n",
        "\n",
        "plt.xlabel(\"Años\", fontSize = 12)\n",
        "plt.ylabel(\"Titulos\", fontSize = 12)\n",
        "\n",
        "plt.title(\"Titulos vistos a traves de los años\", fontSize = 16)\n",
        "plt.show()"
      ],
      "metadata": {
        "colab": {
          "base_uri": "https://localhost:8080/",
          "height": 491
        },
        "id": "up_rpbxC_Zsz",
        "outputId": "254af2a0-e46b-4ce9-f1fc-bb19cc7c01cb"
      },
      "execution_count": 121,
      "outputs": [
        {
          "output_type": "display_data",
          "data": {
            "text/plain": [
              "<Figure size 720x540 with 1 Axes>"
            ],
            "image/png": "[encoded data removed]"
          },
          "metadata": {
            "needs_background": "light"
          }
        }
      ]
    },
    {
      "cell_type": "markdown",
      "source": [
        "#### Total de días de todos los títulos reproducidos."
      ],
      "metadata": {
        "id": "dmyAx4_Y6FzD"
      }
    },
    {
      "cell_type": "code",
      "source": [
        "totalDias = int(df[\"Duration\"].sum() / 60 / 60 / 24)\n",
        "print(\"El total de días de todos los títulos reproducidos es \" + str(totalDias))"
      ],
      "metadata": {
        "colab": {
          "base_uri": "https://localhost:8080/"
        },
        "id": "1kd56rME7J_o",
        "outputId": "bae807e5-70a3-484a-ddf6-0c1e8ae48f80"
      },
      "execution_count": 122,
      "outputs": [
        {
          "output_type": "stream",
          "name": "stdout",
          "text": [
            "El total de días de todos los títulos reproducidos es 99\n"
          ]
        }
      ]
    },
    {
      "cell_type": "markdown",
      "source": [
        "## Mostrando el dataframe"
      ],
      "metadata": {
        "id": "l1uL78Cahd6S"
      }
    },
    {
      "cell_type": "code",
      "source": [
        "original_df = pd.read_csv(\"NetflixHistory.csv\")"
      ],
      "metadata": {
        "id": "QSvRUpW1vVRj"
      },
      "execution_count": 26,
      "outputs": []
    },
    {
      "cell_type": "code",
      "source": [
        "df"
      ],
      "metadata": {
        "id": "krk2M_rME7Aq"
      },
      "execution_count": null,
      "outputs": []
    }
  ]
}